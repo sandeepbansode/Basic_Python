{
  "nbformat": 4,
  "nbformat_minor": 0,
  "metadata": {
    "colab": {
      "name": "6_Basic_Python_list data structure.ipynb",
      "provenance": [],
      "collapsed_sections": [],
      "authorship_tag": "ABX9TyOV21Qh77rps0pToh35RmYU",
      "include_colab_link": true
    },
    "kernelspec": {
      "name": "python3",
      "display_name": "Python 3"
    },
    "language_info": {
      "name": "python"
    }
  },
  "cells": [
    {
      "cell_type": "markdown",
      "metadata": {
        "id": "view-in-github",
        "colab_type": "text"
      },
      "source": [
        "<a href=\"https://colab.research.google.com/github/sandeepbansode/Basic_Python/blob/main/6_Basic_Python_list_data_structure.ipynb\" target=\"_parent\"><img src=\"https://colab.research.google.com/assets/colab-badge.svg\" alt=\"Open In Colab\"/></a>"
      ]
    },
    {
      "cell_type": "markdown",
      "source": [
        "# **List**"
      ],
      "metadata": {
        "id": "thBw1uCifBg3"
      }
    },
    {
      "cell_type": "markdown",
      "source": [
        "*  If we want to represent a group of individual objects as a single entity where insertion order needs to be preserved and duplicates are allowed, then we should go for List.\n",
        "\n",
        "* heterogeneous objects are allowed.\n",
        "\n",
        "* List is dynamic because based on our requirement we can increase the size and decrease the size.\n",
        "\n",
        "* In List the elements will be placed within square brackets and with comma seperator.\n",
        "\n",
        "* We can differentiate duplicate elements by using index and we can preserve insertion order by using index. Hence index will play very important role.\n",
        "\n",
        "* Python supports both positive and negative indexes. +ve index means from left to right where as negative index means right to left.\n",
        "\n",
        "* Listobjectsaremutable.i.ewecanchangethecontent."
      ],
      "metadata": {
        "id": "tQK5s_gEjd4g"
      }
    },
    {
      "cell_type": "code",
      "execution_count": 2,
      "metadata": {
        "colab": {
          "base_uri": "https://localhost:8080/"
        },
        "id": "abJJAWkrduOI",
        "outputId": "a495264a-331d-4a22-dd1c-fe3f6b144441"
      },
      "outputs": [
        {
          "output_type": "execute_result",
          "data": {
            "text/plain": [
              "[]"
            ]
          },
          "metadata": {},
          "execution_count": 2
        }
      ],
      "source": [
        "# create a empty list\n",
        "\n",
        "x = []\n",
        " \n",
        "x "
      ]
    },
    {
      "cell_type": "code",
      "source": [
        "type(x)"
      ],
      "metadata": {
        "colab": {
          "base_uri": "https://localhost:8080/"
        },
        "id": "T7G9urfUkSsR",
        "outputId": "be532ae0-8118-42c1-d405-2b25422ca88e"
      },
      "execution_count": 3,
      "outputs": [
        {
          "output_type": "execute_result",
          "data": {
            "text/plain": [
              "list"
            ]
          },
          "metadata": {},
          "execution_count": 3
        }
      ]
    },
    {
      "cell_type": "code",
      "source": [
        "p = list(range(0,11))\n",
        "\n",
        "print(p)"
      ],
      "metadata": {
        "colab": {
          "base_uri": "https://localhost:8080/"
        },
        "id": "brkq8NRXlFYh",
        "outputId": "4bbfee54-3208-40d7-a028-0456f2e5eecc"
      },
      "execution_count": 6,
      "outputs": [
        {
          "output_type": "stream",
          "name": "stdout",
          "text": [
            "[0, 1, 2, 3, 4, 5, 6, 7, 8, 9, 10]\n"
          ]
        }
      ]
    },
    {
      "cell_type": "code",
      "source": [
        "# list with split() function\n",
        "\n",
        "x = \"learning python is very easy\"\n",
        "\n",
        "p=x.split()\n",
        "print(p)\n",
        "type(p)"
      ],
      "metadata": {
        "colab": {
          "base_uri": "https://localhost:8080/"
        },
        "id": "hkRjdmcflasT",
        "outputId": "576f5a51-5f2a-4b05-e753-248a229817e7"
      },
      "execution_count": 8,
      "outputs": [
        {
          "output_type": "stream",
          "name": "stdout",
          "text": [
            "['learning', 'python', 'is', 'very', 'easy']\n"
          ]
        },
        {
          "output_type": "execute_result",
          "data": {
            "text/plain": [
              "list"
            ]
          },
          "metadata": {},
          "execution_count": 8
        }
      ]
    },
    {
      "cell_type": "markdown",
      "source": [
        "# **Accecing elements of the list**\n",
        "\n",
        "we can access the elements of list by using index or slice operator ()"
      ],
      "metadata": {
        "id": "z_11Ocslubs7"
      }
    },
    {
      "cell_type": "code",
      "source": [
        "x = [11,12,15,'hello','true','python']\n",
        "\n",
        "x[0]"
      ],
      "metadata": {
        "colab": {
          "base_uri": "https://localhost:8080/"
        },
        "id": "I3iypQ3WmlAi",
        "outputId": "0359b0b4-62a6-439d-9c62-7b421d9b14ba"
      },
      "execution_count": 9,
      "outputs": [
        {
          "output_type": "execute_result",
          "data": {
            "text/plain": [
              "11"
            ]
          },
          "metadata": {},
          "execution_count": 9
        }
      ]
    },
    {
      "cell_type": "code",
      "source": [
        "x[4]    #by using index"
      ],
      "metadata": {
        "colab": {
          "base_uri": "https://localhost:8080/",
          "height": 35
        },
        "id": "qODuZEPivHEg",
        "outputId": "a3f13f93-8d1f-4fe1-a375-654708319ff1"
      },
      "execution_count": 12,
      "outputs": [
        {
          "output_type": "execute_result",
          "data": {
            "text/plain": [
              "'true'"
            ],
            "application/vnd.google.colaboratory.intrinsic+json": {
              "type": "string"
            }
          },
          "metadata": {},
          "execution_count": 12
        }
      ]
    },
    {
      "cell_type": "code",
      "source": [
        "x[1:5]  #by using slice operator start : end"
      ],
      "metadata": {
        "colab": {
          "base_uri": "https://localhost:8080/"
        },
        "id": "qOZf3xiNvImK",
        "outputId": "6fb921a3-984e-47b9-b583-9113f49ca974"
      },
      "execution_count": 14,
      "outputs": [
        {
          "output_type": "execute_result",
          "data": {
            "text/plain": [
              "[12, 15, 'hello', 'true']"
            ]
          },
          "metadata": {},
          "execution_count": 14
        }
      ]
    },
    {
      "cell_type": "code",
      "source": [
        "x[1:6:1] #start:end:step"
      ],
      "metadata": {
        "colab": {
          "base_uri": "https://localhost:8080/"
        },
        "id": "TSWFkNlJvKlc",
        "outputId": "c20b14fd-2139-491b-971a-b97da759c1dc"
      },
      "execution_count": 16,
      "outputs": [
        {
          "output_type": "execute_result",
          "data": {
            "text/plain": [
              "[12, 15, 'hello', 'true', 'python']"
            ]
          },
          "metadata": {},
          "execution_count": 16
        }
      ]
    },
    {
      "cell_type": "markdown",
      "source": [
        "# **List vs Mutability**\n",
        "\n",
        "The list is a data type that is mutable. Once a list has been created:\n",
        "\n",
        "* Elements can be modified.\n",
        "* Individual values can be replaced.\n",
        "* The order of elements can be changed.\n",
        "\n",
        "Lists are also dynamic. Elements can be added and deleted from a list, allowing it to grow or shrink:\n",
        "\n"
      ],
      "metadata": {
        "id": "VAyt8Ljfw_-p"
      }
    },
    {
      "cell_type": "code",
      "source": [
        "x = [12,45,78,'a','True','@#'] #using index \n",
        "\n",
        "print(x)\n",
        "\n",
        "x[0]='asdf' #changing the value of 0th index\n",
        "\n",
        "x"
      ],
      "metadata": {
        "colab": {
          "base_uri": "https://localhost:8080/"
        },
        "id": "hqwQ4C77wO5r",
        "outputId": "8e91d5eb-dfe9-43d0-fc8f-5b2860946a73"
      },
      "execution_count": 27,
      "outputs": [
        {
          "output_type": "stream",
          "name": "stdout",
          "text": [
            "[12, 45, 78, 'a', 'True', '@#']\n"
          ]
        },
        {
          "output_type": "execute_result",
          "data": {
            "text/plain": [
              "['asdf', 45, 78, 'a', 'True', '@#']"
            ]
          },
          "metadata": {},
          "execution_count": 27
        }
      ]
    },
    {
      "cell_type": "code",
      "source": [
        "x=[10,20,30,40]\n",
        "x[0:3]= [12,15,35] #using slice\n",
        "print(id(x))\n",
        "print(id(y))\n",
        "print(x)\n",
        "y"
      ],
      "metadata": {
        "colab": {
          "base_uri": "https://localhost:8080/"
        },
        "id": "4hXO5YHOyb-4",
        "outputId": "43c5f6b2-3c7e-41f7-f62c-da4b32138299"
      },
      "execution_count": 28,
      "outputs": [
        {
          "output_type": "stream",
          "name": "stdout",
          "text": [
            "140018413986512\n",
            "140018414430320\n",
            "[12, 15, 35, 40]\n"
          ]
        },
        {
          "output_type": "execute_result",
          "data": {
            "text/plain": [
              "[10, 20, 30, 40]"
            ]
          },
          "metadata": {},
          "execution_count": 28
        }
      ]
    },
    {
      "cell_type": "markdown",
      "source": [
        "# **Traversing elements of the list**\n",
        "\n",
        " Traversing means visiting each node of the list once in order to perform some operation on that."
      ],
      "metadata": {
        "id": "zbXSMvvm0sYU"
      }
    },
    {
      "cell_type": "code",
      "source": [
        "#by using for loop\n",
        "\n",
        "x = [12,15,18,19,63,'avengers'] \n",
        "\n",
        "for i in x:\n",
        "  print(x) #here we printing x;list\n",
        "\n",
        "for j in x: #here we printing j\n",
        "  print(j)  \n"
      ],
      "metadata": {
        "colab": {
          "base_uri": "https://localhost:8080/"
        },
        "id": "pPurziB2y3mN",
        "outputId": "83542d02-0cc5-4f4b-91bd-10d17e65a5e3"
      },
      "execution_count": 31,
      "outputs": [
        {
          "output_type": "stream",
          "name": "stdout",
          "text": [
            "[12, 15, 18, 19, 63, 'avengers']\n",
            "[12, 15, 18, 19, 63, 'avengers']\n",
            "[12, 15, 18, 19, 63, 'avengers']\n",
            "[12, 15, 18, 19, 63, 'avengers']\n",
            "[12, 15, 18, 19, 63, 'avengers']\n",
            "[12, 15, 18, 19, 63, 'avengers']\n",
            "12\n",
            "15\n",
            "18\n",
            "19\n",
            "63\n",
            "avengers\n"
          ]
        }
      ]
    },
    {
      "cell_type": "code",
      "source": [
        "#by using while loop\n",
        "\n",
        "x = [12,15,16,'data',45,'p']\n",
        "i = 0\n",
        "while i<len(x):\n",
        "  print(x[i])\n",
        "  i+=1\n"
      ],
      "metadata": {
        "colab": {
          "base_uri": "https://localhost:8080/"
        },
        "id": "zNDvBTYE11BM",
        "outputId": "5ace9c07-a6a6-494b-be9a-91433f8c88f0"
      },
      "execution_count": 38,
      "outputs": [
        {
          "output_type": "stream",
          "name": "stdout",
          "text": [
            "12\n",
            "15\n",
            "16\n",
            "data\n",
            "45\n",
            "p\n"
          ]
        }
      ]
    },
    {
      "cell_type": "code",
      "source": [
        "# To disply elements by index wise\n",
        "x = [15,45,78,'data']\n",
        "p = len(x)\n",
        "\n",
        "for i in range(p):\n",
        "  print(x[i],\"'s\",\"positive index is :\",i,\"And negative index is :\",i-p)"
      ],
      "metadata": {
        "colab": {
          "base_uri": "https://localhost:8080/"
        },
        "id": "IOmdXxCQ8O9L",
        "outputId": "0660305d-a57b-4b3a-a93a-3f404c0b2a2b"
      },
      "execution_count": 51,
      "outputs": [
        {
          "output_type": "stream",
          "name": "stdout",
          "text": [
            "15 's positive index is : 0 And negative index is : -4\n",
            "45 's positive index is : 1 And negative index is : -3\n",
            "78 's positive index is : 2 And negative index is : -2\n",
            "data 's positive index is : 3 And negative index is : -1\n"
          ]
        }
      ]
    },
    {
      "cell_type": "code",
      "source": [
        ""
      ],
      "metadata": {
        "id": "2vuUqFUkEEaC"
      },
      "execution_count": null,
      "outputs": []
    },
    {
      "cell_type": "markdown",
      "source": [
        "# **Important function of list**\n",
        "\n",
        "Python offers the subsequent list functions:\n",
        "\n",
        "* sort(): Sorts the list in ascending order.\n",
        "* type(list): It returns the class type of an object.\n",
        "* append(): Adds one element to a list.\n",
        "* extend(): Adds multiple elements to a list.\n",
        "* index(): Returns the first appearance of a particular value.\n",
        "* max(list): It returns an item from the list with a max value.\n",
        "* min(list): It returns an item from the list with a min value.\n",
        "* len(list): It gives the overall length of the list.\n",
        "* clear(): Removes all the elements from the list.\n",
        "* insert(): Adds a component at the required position.\n",
        "* count(): Returns the number of elements with the required value.\n",
        "* pop(): Removes the element at the required position.\n",
        "* remove(): Removes the primary item with the desired value.\n",
        "* reverse(): Reverses the order of the list.\n",
        "* copy():  Returns a duplicate of the list."
      ],
      "metadata": {
        "id": "N1vySq8tHo0l"
      }
    },
    {
      "cell_type": "markdown",
      "source": [
        "## 1. to get information of list"
      ],
      "metadata": {
        "id": "_pxCHKbIJhXG"
      }
    },
    {
      "cell_type": "code",
      "source": [
        " #len(list) : It gives the overall length of the list.\n",
        "\n",
        " x =[12,15,14,78]\n",
        " len(x)"
      ],
      "metadata": {
        "colab": {
          "base_uri": "https://localhost:8080/"
        },
        "id": "tspvsnAgFQoW",
        "outputId": "4851b33f-26ab-47d7-8cb1-e29ca962935f"
      },
      "execution_count": 53,
      "outputs": [
        {
          "output_type": "execute_result",
          "data": {
            "text/plain": [
              "4"
            ]
          },
          "metadata": {},
          "execution_count": 53
        }
      ]
    },
    {
      "cell_type": "code",
      "source": [
        "#count(): Returns the number of elements with the required value\n",
        "\n",
        "x = [1,1,2,2,3,3,4,1,4,2,3,2,1,]\n",
        "print(x.count(1))\n",
        "print(x.count(2))\n",
        "print(x.count(3))\n",
        "print(x.count(4))"
      ],
      "metadata": {
        "colab": {
          "base_uri": "https://localhost:8080/"
        },
        "id": "yegY2w7oJw92",
        "outputId": "7ddb33f2-0f6e-4c08-d0b6-389251c85b1c"
      },
      "execution_count": 55,
      "outputs": [
        {
          "output_type": "stream",
          "name": "stdout",
          "text": [
            "4\n",
            "4\n",
            "3\n",
            "2\n"
          ]
        }
      ]
    },
    {
      "cell_type": "code",
      "source": [
        "#index(): Returns the first appearance of a particular value.\n",
        "x= [1,2,3,5,6,5,6,1,2,3]\n",
        "\n",
        "x.index(3)"
      ],
      "metadata": {
        "colab": {
          "base_uri": "https://localhost:8080/"
        },
        "id": "03ZEogpAJ563",
        "outputId": "417113ac-03c1-42b0-bfb2-6dfab00ea13f"
      },
      "execution_count": 56,
      "outputs": [
        {
          "output_type": "execute_result",
          "data": {
            "text/plain": [
              "2"
            ]
          },
          "metadata": {},
          "execution_count": 56
        }
      ]
    },
    {
      "cell_type": "markdown",
      "source": [
        "## 2. Manipulating Elements of List:"
      ],
      "metadata": {
        "id": "ttIuJK9bLoCg"
      }
    },
    {
      "cell_type": "code",
      "source": [
        "#append() Function: add item at the end of the list\n",
        "\n",
        "x = [1,2,3,4,5,6]\n",
        "x.append(\"data\")  \n",
        "x"
      ],
      "metadata": {
        "colab": {
          "base_uri": "https://localhost:8080/"
        },
        "id": "f3wvtYBKLf2b",
        "outputId": "56961762-29c6-4eef-932b-f19dca1f380a"
      },
      "execution_count": 59,
      "outputs": [
        {
          "output_type": "execute_result",
          "data": {
            "text/plain": [
              "[1, 2, 3, 4, 5, 6, 'data']"
            ]
          },
          "metadata": {},
          "execution_count": 59
        }
      ]
    },
    {
      "cell_type": "code",
      "source": [
        "# E.g To add all the elements to list upto 100 which are divisible by 9\n",
        "x= []\n",
        "for i in range (101):\n",
        "  if i%9==0:\n",
        "    if i==0:          # 0 can not divide by 9\n",
        "      continue\n",
        "    x.append(i)\n",
        "x "
      ],
      "metadata": {
        "colab": {
          "base_uri": "https://localhost:8080/"
        },
        "id": "WwzE1lxEMvYM",
        "outputId": "93ce8fbc-d6bb-419f-8203-1cc962df4bc6"
      },
      "execution_count": 68,
      "outputs": [
        {
          "output_type": "execute_result",
          "data": {
            "text/plain": [
              "[9, 18, 27, 36, 45, 54, 63, 72, 81, 90, 99]"
            ]
          },
          "metadata": {},
          "execution_count": 68
        }
      ]
    },
    {
      "cell_type": "code",
      "source": [
        "  #2) Insert Function: to insert item at specified index position\n",
        "\n",
        "  x = [1,2,3,4,5,6]\n",
        "  x.insert(5,63)   # it will insert at given index not replace\n",
        "  x\n"
      ],
      "metadata": {
        "colab": {
          "base_uri": "https://localhost:8080/"
        },
        "id": "pPUk00qmNY0r",
        "outputId": "c18af30c-072a-4703-c9af-4b8dcf0b63e1"
      },
      "execution_count": 72,
      "outputs": [
        {
          "output_type": "execute_result",
          "data": {
            "text/plain": [
              "[1, 2, 3, 4, 5, 63, 6]"
            ]
          },
          "metadata": {},
          "execution_count": 72
        }
      ]
    },
    {
      "cell_type": "markdown",
      "source": [
        "Note: If the specified index is greater than max index then element will be inserted at lastposition. If the specified index is smaller than min index then element will be inserted at first position."
      ],
      "metadata": {
        "id": "gnPA1kzLQHqQ"
      }
    },
    {
      "cell_type": "code",
      "source": [
        "#extend(): Adds multiple elements to a list.\n",
        "x1= [1,2,3,4,5]\n",
        "x2 = [6,7,8,9]\n",
        "\n",
        "x1.extend(x2)\n",
        "x1"
      ],
      "metadata": {
        "colab": {
          "base_uri": "https://localhost:8080/"
        },
        "id": "6KSoUBqGVnac",
        "outputId": "0463b7c7-b94b-43eb-cc56-4684e1233792"
      },
      "execution_count": 73,
      "outputs": [
        {
          "output_type": "execute_result",
          "data": {
            "text/plain": [
              "[1, 2, 3, 4, 5, 6, 7, 8, 9]"
            ]
          },
          "metadata": {},
          "execution_count": 73
        }
      ]
    },
    {
      "cell_type": "code",
      "source": [
        "#remove() function:  We can use this function to remove specified item from the list.If the item present\n",
        " # multiple times then only first occurrence will be removed.\n",
        " \n",
        "x = [1,2,3,45,68,48,41]\n",
        "print(x.remove(45))\n",
        "x"
      ],
      "metadata": {
        "colab": {
          "base_uri": "https://localhost:8080/"
        },
        "id": "2NZZ-u4qV9tD",
        "outputId": "df42383c-94c4-4de5-d9de-1abb9c757f9b"
      },
      "execution_count": 83,
      "outputs": [
        {
          "output_type": "stream",
          "name": "stdout",
          "text": [
            "None\n"
          ]
        },
        {
          "output_type": "execute_result",
          "data": {
            "text/plain": [
              "[1, 2, 3, 68, 48, 41]"
            ]
          },
          "metadata": {},
          "execution_count": 83
        }
      ]
    },
    {
      "cell_type": "code",
      "source": [
        "x.remove(41)\n",
        "x"
      ],
      "metadata": {
        "colab": {
          "base_uri": "https://localhost:8080/"
        },
        "id": "j3IgEK1yY4CB",
        "outputId": "c644bd4c-ddf7-481c-a481-8531994c7c61"
      },
      "execution_count": 77,
      "outputs": [
        {
          "output_type": "execute_result",
          "data": {
            "text/plain": [
              "[1, 2, 3, 68, 48]"
            ]
          },
          "metadata": {},
          "execution_count": 77
        }
      ]
    },
    {
      "cell_type": "code",
      "source": [
        "# pop()Function:  It removes and returns the last element of the list\n",
        "x = [45,41,58,69,49,60]\n",
        "print(x.pop(3))\n",
        "x\n"
      ],
      "metadata": {
        "colab": {
          "base_uri": "https://localhost:8080/"
        },
        "id": "iZapv9HQZD0v",
        "outputId": "594ed376-cc7b-4369-e028-4e42570796ac"
      },
      "execution_count": 82,
      "outputs": [
        {
          "output_type": "stream",
          "name": "stdout",
          "text": [
            "69\n"
          ]
        },
        {
          "output_type": "execute_result",
          "data": {
            "text/plain": [
              "[45, 41, 58, 49, 60]"
            ]
          },
          "metadata": {},
          "execution_count": 82
        }
      ]
    },
    {
      "cell_type": "code",
      "source": [
        "x = [35,56,86,95,45,458]\n",
        "x.pop()"
      ],
      "metadata": {
        "colab": {
          "base_uri": "https://localhost:8080/"
        },
        "id": "w4vmgEhDZhdG",
        "outputId": "a893776f-3285-4f8c-d5d0-924d06cb5bf1"
      },
      "execution_count": 92,
      "outputs": [
        {
          "output_type": "execute_result",
          "data": {
            "text/plain": [
              "458"
            ]
          },
          "metadata": {},
          "execution_count": 92
        }
      ]
    },
    {
      "cell_type": "markdown",
      "source": [
        "### 3. Ordering Elements of List:"
      ],
      "metadata": {
        "id": "KsV0RSICaUPz"
      }
    },
    {
      "cell_type": "code",
      "source": [
        "# reverse(): Reverses the order of the list.\n",
        "\n",
        "x = [12,15,48,96,78]\n",
        "x.reverse()\n",
        "x"
      ],
      "metadata": {
        "colab": {
          "base_uri": "https://localhost:8080/"
        },
        "id": "xqYZ7ex1Z7IN",
        "outputId": "0f3bfae2-aed0-4568-d8a9-2117ecc17428"
      },
      "execution_count": 95,
      "outputs": [
        {
          "output_type": "execute_result",
          "data": {
            "text/plain": [
              "[78, 96, 48, 15, 12]"
            ]
          },
          "metadata": {},
          "execution_count": 95
        }
      ]
    },
    {
      "cell_type": "markdown",
      "source": [
        "2.sort():\n",
        "\n",
        "In list by default insertion order is preserved.\n",
        "\n",
        "If want to sort the elements of list according to default natural sorting order then we should go for sort() method.\n",
        "\n",
        "For numbers --> Default Natural sorting Order is Ascending Order\n",
        "\n",
        "For Strings-->Default Natural sorting order is Alphabetical Order"
      ],
      "metadata": {
        "id": "aj4vVfOkbTZV"
      }
    },
    {
      "cell_type": "code",
      "source": [
        "x = [12,58,45,96,32,4]\n",
        "print(x.sort())"
      ],
      "metadata": {
        "colab": {
          "base_uri": "https://localhost:8080/"
        },
        "id": "gk8AS56canG_",
        "outputId": "a114241a-730a-42e2-ffe7-bce2376db07d"
      },
      "execution_count": 96,
      "outputs": [
        {
          "output_type": "stream",
          "name": "stdout",
          "text": [
            "None\n"
          ]
        }
      ]
    },
    {
      "cell_type": "code",
      "source": [
        "x = ['A',\"a\",'aa','aA','AA','Aa']\n",
        "x.sort()                          # by alphabetically and capital 1st\n",
        "x"
      ],
      "metadata": {
        "colab": {
          "base_uri": "https://localhost:8080/"
        },
        "id": "UJwbZ91JbeuM",
        "outputId": "6c3d46bf-799d-45f3-819f-7db0325cd80f"
      },
      "execution_count": 97,
      "outputs": [
        {
          "output_type": "execute_result",
          "data": {
            "text/plain": [
              "['A', 'AA', 'Aa', 'a', 'aA', 'aa']"
            ]
          },
          "metadata": {},
          "execution_count": 97
        }
      ]
    },
    {
      "cell_type": "markdown",
      "source": [
        "# **To Sort in Reverse of Default Natural Sorting Order:**\n",
        "\n",
        "We can sort according to reverse of default natural sorting order by using reverse=True argument."
      ],
      "metadata": {
        "id": "tsfLfPeHccRS"
      }
    },
    {
      "cell_type": "code",
      "source": [
        "x = [10,15,485,78,5,55]\n",
        "x.sort()\n",
        "print(x)\n",
        "x.sort(reverse =False)\n",
        "print(x)\n",
        "\n",
        "x.sort(reverse = True)\n",
        "print(x)"
      ],
      "metadata": {
        "colab": {
          "base_uri": "https://localhost:8080/"
        },
        "id": "J087IZAmb-6c",
        "outputId": "ae38103b-4949-4e66-f89d-9b1f292b3da5"
      },
      "execution_count": 100,
      "outputs": [
        {
          "output_type": "stream",
          "name": "stdout",
          "text": [
            "[5, 10, 15, 55, 78, 485]\n",
            "[5, 10, 15, 55, 78, 485]\n",
            "[485, 78, 55, 15, 10, 5]\n"
          ]
        }
      ]
    },
    {
      "cell_type": "markdown",
      "source": [
        "# Aliasing and Cloning of List Objects:\n",
        "The process of giving another reference variable to the existing list is called aliasing."
      ],
      "metadata": {
        "id": "8MXlxEqldPNB"
      }
    },
    {
      "cell_type": "markdown",
      "source": [
        "difference betn alising , cloning and copy in list\n",
        "\n",
        "\n",
        "\n",
        "* Aliasing means giving another name to the existing object. it doesn’t mean copying, because when you aliasing a list and make any changes in old list or new list then it will affect the both lists.\n",
        "\n",
        "* copy() method is used to copy all the elements of a list to the another list.\n",
        "\n",
        " Note: When we copy a list all elements are store in another list means both lists are independent.\n",
        "\n",
        "* When we clone a list all the elements is stored in another list. means both lists are independent."
      ],
      "metadata": {
        "id": "gsfjZVj5fNEL"
      }
    },
    {
      "cell_type": "code",
      "source": [
        "#aliasing\n",
        "x = [1,2,3,4,56]\n",
        "b=x\n",
        "print(x)\n",
        "print(b)\n",
        "print(id(x))\n",
        "print(id(b))\n",
        "\n",
        "b[0]= 'sun'  #if we change the element in one list the change automatically happens in other list\n",
        "print(x)\n",
        "b\n"
      ],
      "metadata": {
        "colab": {
          "base_uri": "https://localhost:8080/"
        },
        "id": "PJblwEHmc1Li",
        "outputId": "bd73a678-fff2-47bf-d345-346c5cc4996e"
      },
      "execution_count": 104,
      "outputs": [
        {
          "output_type": "stream",
          "name": "stdout",
          "text": [
            "[1, 2, 3, 4, 56]\n",
            "[1, 2, 3, 4, 56]\n",
            "140018412949008\n",
            "140018412949008\n",
            "['sun', 2, 3, 4, 56]\n"
          ]
        },
        {
          "output_type": "execute_result",
          "data": {
            "text/plain": [
              "['sun', 2, 3, 4, 56]"
            ]
          },
          "metadata": {},
          "execution_count": 104
        }
      ]
    },
    {
      "cell_type": "code",
      "source": [
        "#cloninf using copy() method\n",
        "\n",
        "x = [1,2,3,4,5,6]\n",
        "b = x.copy()\n",
        "print(x)\n",
        "print(b)\n",
        "print(id(x))   #all the elements are same in both list but id is not same\n",
        "print(id(b))\n",
        "\n",
        "b[0]='sun' # if we change the element in one list ,no effect on other list \n",
        "\n",
        "print(x)\n",
        "b"
      ],
      "metadata": {
        "colab": {
          "base_uri": "https://localhost:8080/"
        },
        "id": "b8cUObimgYeo",
        "outputId": "21a10668-7e40-4343-fdaa-f3d34d3fd057"
      },
      "execution_count": 105,
      "outputs": [
        {
          "output_type": "stream",
          "name": "stdout",
          "text": [
            "[1, 2, 3, 4, 5, 6]\n",
            "[1, 2, 3, 4, 5, 6]\n",
            "140018412723248\n",
            "140018413354032\n",
            "[1, 2, 3, 4, 5, 6]\n"
          ]
        },
        {
          "output_type": "execute_result",
          "data": {
            "text/plain": [
              "['sun', 2, 3, 4, 5, 6]"
            ]
          },
          "metadata": {},
          "execution_count": 105
        }
      ]
    },
    {
      "cell_type": "code",
      "source": [
        " #cloning using slice()\n",
        "\n",
        " x = [1,2,3,4,5,6]\n",
        "\n",
        " b=x[:]\n",
        "\n",
        " print(x)\n",
        " print(b)\n",
        " print(id(x))    #both same but id will be different\n",
        " print(id(b))\n",
        "\n",
        " x[1] = \" sun\"   #change in one list doesn't affect other list\n",
        "\n",
        " print(x)\n",
        " print(b)"
      ],
      "metadata": {
        "colab": {
          "base_uri": "https://localhost:8080/"
        },
        "id": "Tpy2V3DDhikg",
        "outputId": "4cff8c5f-8c37-4367-af7e-a5b581e2174c"
      },
      "execution_count": 107,
      "outputs": [
        {
          "output_type": "stream",
          "name": "stdout",
          "text": [
            "[1, 2, 3, 4, 5, 6]\n",
            "[1, 2, 3, 4, 5, 6]\n",
            "140018412901152\n",
            "140018412902032\n",
            "[1, ' sun', 3, 4, 5, 6]\n",
            "[1, 2, 3, 4, 5, 6]\n"
          ]
        }
      ]
    },
    {
      "cell_type": "markdown",
      "source": [
        "# Using Mathematical Operators for List Objects\n",
        "* Concatenation Operator (+):\n",
        "\n",
        "* We can use + to concatenate 2 lists into a single list."
      ],
      "metadata": {
        "id": "yEoAbC6bkTvQ"
      }
    },
    {
      "cell_type": "code",
      "source": [
        "x= [1,2,3,4]\n",
        "x1 = [5,6,7,8]\n",
        "z = x+x1\n",
        "z"
      ],
      "metadata": {
        "colab": {
          "base_uri": "https://localhost:8080/"
        },
        "id": "0rAk0Qq8kTbZ",
        "outputId": "bdfa8284-d410-4ffa-8738-0c0d5ae6d92e"
      },
      "execution_count": 108,
      "outputs": [
        {
          "output_type": "execute_result",
          "data": {
            "text/plain": [
              "[1, 2, 3, 4, 5, 6, 7, 8]"
            ]
          },
          "metadata": {},
          "execution_count": 108
        }
      ]
    },
    {
      "cell_type": "code",
      "source": [
        "x = [1,2,3,4] #\n",
        "y = [5,6,7,8]\n",
        "for i in x:\n",
        "  for j in y:\n",
        "    z=i+j\n",
        "    print(z)\n",
        "   "
      ],
      "metadata": {
        "colab": {
          "base_uri": "https://localhost:8080/"
        },
        "id": "jDeMe8Gti7ce",
        "outputId": "c5b0fd4f-3c9c-482e-de96-5db00c0983e2"
      },
      "execution_count": 131,
      "outputs": [
        {
          "output_type": "stream",
          "name": "stdout",
          "text": [
            "6\n",
            "7\n",
            "8\n",
            "9\n",
            "7\n",
            "8\n",
            "9\n",
            "10\n",
            "8\n",
            "9\n",
            "10\n",
            "11\n",
            "9\n",
            "10\n",
            "11\n",
            "12\n"
          ]
        }
      ]
    },
    {
      "cell_type": "code",
      "source": [
        "x = [1,2,30]\n",
        "for i in x:\n",
        "  print(i)"
      ],
      "metadata": {
        "colab": {
          "base_uri": "https://localhost:8080/"
        },
        "id": "4oDSeA4hmQUb",
        "outputId": "7c4407a2-4422-4dbb-d08a-ea6111355545"
      },
      "execution_count": 121,
      "outputs": [
        {
          "output_type": "stream",
          "name": "stdout",
          "text": [
            "1\n",
            "2\n",
            "30\n"
          ]
        }
      ]
    },
    {
      "cell_type": "markdown",
      "source": [
        "Repetition Operator (*):\n",
        "\n",
        "We can use repetition operator * to repeat elements of list specified number of times."
      ],
      "metadata": {
        "id": "ppvKcj2Otg9I"
      }
    },
    {
      "cell_type": "code",
      "source": [
        "x = [1,2,3,4]\n",
        "\n",
        "x*len(x)\n"
      ],
      "metadata": {
        "colab": {
          "base_uri": "https://localhost:8080/"
        },
        "id": "dMuua-o6oifu",
        "outputId": "50955269-a187-49b4-b533-03e8a67f7588"
      },
      "execution_count": 133,
      "outputs": [
        {
          "output_type": "execute_result",
          "data": {
            "text/plain": [
              "[1, 2, 3, 4, 1, 2, 3, 4, 1, 2, 3, 4, 1, 2, 3, 4]"
            ]
          },
          "metadata": {},
          "execution_count": 133
        }
      ]
    },
    {
      "cell_type": "markdown",
      "source": [
        "Comparing List Objects:\n",
        "\n",
        "We can use comparison operators for List objects."
      ],
      "metadata": {
        "id": "wbnvdh_gtzm9"
      }
    },
    {
      "cell_type": "code",
      "source": [
        "x = [\"loki\",\"thor\",\"hulk\"]\n",
        "y = [\"Loki\",\"Thor\",\"huLk\"]\n",
        "z = [\"LOki\",\"THor\",\"HUlk\"]\n",
        "\n",
        "print(x==y)\n",
        "print(y==z)\n",
        "print(y!=z)"
      ],
      "metadata": {
        "colab": {
          "base_uri": "https://localhost:8080/"
        },
        "id": "aVrqAqDVtlvK",
        "outputId": "6b30fee9-a50f-48fa-d850-5811714e5fbc"
      },
      "execution_count": 134,
      "outputs": [
        {
          "output_type": "stream",
          "name": "stdout",
          "text": [
            "False\n",
            "False\n",
            "True\n"
          ]
        }
      ]
    },
    {
      "cell_type": "code",
      "source": [
        "print(x>y)\n",
        "print(y>z)\n",
        "print(z>y)"
      ],
      "metadata": {
        "colab": {
          "base_uri": "https://localhost:8080/"
        },
        "id": "MsbU2XbYvxRn",
        "outputId": "5c6a911a-3cb2-4372-a293-da83643cb7a0"
      },
      "execution_count": 135,
      "outputs": [
        {
          "output_type": "stream",
          "name": "stdout",
          "text": [
            "True\n",
            "True\n",
            "False\n"
          ]
        }
      ]
    },
    {
      "cell_type": "code",
      "source": [
        "x = [10,105,458]\n",
        "y =[10,105,45]\n",
        "x>y"
      ],
      "metadata": {
        "colab": {
          "base_uri": "https://localhost:8080/"
        },
        "id": "SM1HgWE-wC0E",
        "outputId": "9428d3e1-3114-4c23-9939-6794c3bea84d"
      },
      "execution_count": 136,
      "outputs": [
        {
          "output_type": "execute_result",
          "data": {
            "text/plain": [
              "True"
            ]
          },
          "metadata": {},
          "execution_count": 136
        }
      ]
    },
    {
      "cell_type": "code",
      "source": [
        "x = [100,145,145]\n",
        "y = [101]\n",
        "x>y"
      ],
      "metadata": {
        "colab": {
          "base_uri": "https://localhost:8080/"
        },
        "id": "g4A4fgjcwej5",
        "outputId": "b6090fca-d138-401f-a0d8-8e03b22e4718"
      },
      "execution_count": 137,
      "outputs": [
        {
          "output_type": "execute_result",
          "data": {
            "text/plain": [
              "False"
            ]
          },
          "metadata": {},
          "execution_count": 137
        }
      ]
    },
    {
      "cell_type": "code",
      "source": [
        "x = ['Aa']\n",
        "y = ['aA']\n",
        "x>y"
      ],
      "metadata": {
        "colab": {
          "base_uri": "https://localhost:8080/"
        },
        "id": "RWrm9YhrwmPa",
        "outputId": "66baf551-e8cb-4d0c-da3b-62ed2cb4b287"
      },
      "execution_count": 138,
      "outputs": [
        {
          "output_type": "execute_result",
          "data": {
            "text/plain": [
              "False"
            ]
          },
          "metadata": {},
          "execution_count": 138
        }
      ]
    },
    {
      "cell_type": "code",
      "source": [
        "x = ['as',10,15,45,78] #comparison only in same entity\n",
        "y = [102,15,15,45]\n",
        "x>y"
      ],
      "metadata": {
        "colab": {
          "base_uri": "https://localhost:8080/",
          "height": 200
        },
        "id": "cTKYV5Zkw2CF",
        "outputId": "31baa24c-2ae9-4e35-d087-d3b117176c2e"
      },
      "execution_count": 140,
      "outputs": [
        {
          "output_type": "error",
          "ename": "TypeError",
          "evalue": "ignored",
          "traceback": [
            "\u001b[0;31m---------------------------------------------------------------------------\u001b[0m",
            "\u001b[0;31mTypeError\u001b[0m                                 Traceback (most recent call last)",
            "\u001b[0;32m<ipython-input-140-0f5e44ce1115>\u001b[0m in \u001b[0;36m<module>\u001b[0;34m()\u001b[0m\n\u001b[1;32m      1\u001b[0m \u001b[0mx\u001b[0m \u001b[0;34m=\u001b[0m \u001b[0;34m[\u001b[0m\u001b[0;34m'as'\u001b[0m\u001b[0;34m,\u001b[0m\u001b[0;36m10\u001b[0m\u001b[0;34m,\u001b[0m\u001b[0;36m15\u001b[0m\u001b[0;34m,\u001b[0m\u001b[0;36m45\u001b[0m\u001b[0;34m,\u001b[0m\u001b[0;36m78\u001b[0m\u001b[0;34m]\u001b[0m\u001b[0;34m\u001b[0m\u001b[0;34m\u001b[0m\u001b[0m\n\u001b[1;32m      2\u001b[0m \u001b[0my\u001b[0m \u001b[0;34m=\u001b[0m \u001b[0;34m[\u001b[0m\u001b[0;36m102\u001b[0m\u001b[0;34m,\u001b[0m\u001b[0;36m15\u001b[0m\u001b[0;34m,\u001b[0m\u001b[0;36m15\u001b[0m\u001b[0;34m,\u001b[0m\u001b[0;36m45\u001b[0m\u001b[0;34m]\u001b[0m\u001b[0;34m\u001b[0m\u001b[0;34m\u001b[0m\u001b[0m\n\u001b[0;32m----> 3\u001b[0;31m \u001b[0mx\u001b[0m\u001b[0;34m>\u001b[0m\u001b[0my\u001b[0m\u001b[0;34m\u001b[0m\u001b[0;34m\u001b[0m\u001b[0m\n\u001b[0m",
            "\u001b[0;31mTypeError\u001b[0m: '>' not supported between instances of 'str' and 'int'"
          ]
        }
      ]
    },
    {
      "cell_type": "code",
      "source": [
        ""
      ],
      "metadata": {
        "id": "flqkPKkyw_Op"
      },
      "execution_count": null,
      "outputs": []
    },
    {
      "cell_type": "markdown",
      "source": [
        "Membership Operators:\n",
        "\n",
        "We can check whether element is a member of the list or not by using memebership operators.\n",
        "\n",
        "1) in Operator\n",
        "\n",
        "2) not in Operator"
      ],
      "metadata": {
        "id": "KYvwBwdYxU7m"
      }
    },
    {
      "cell_type": "code",
      "source": [
        "# in operator\n",
        "x=[10,20,52,52,42,55,252]\n",
        "print(15 in x)\n",
        "print(10 in x)\n",
        "print(250 in x)"
      ],
      "metadata": {
        "colab": {
          "base_uri": "https://localhost:8080/"
        },
        "id": "hYj89-fgxXhi",
        "outputId": "3c134a85-d96a-49a5-8533-9d9c5cde668c"
      },
      "execution_count": 141,
      "outputs": [
        {
          "output_type": "stream",
          "name": "stdout",
          "text": [
            "False\n",
            "True\n",
            "False\n"
          ]
        }
      ]
    },
    {
      "cell_type": "code",
      "source": [
        "#not in operator\n",
        "print(15 not in x)\n",
        "print(52 not in x)"
      ],
      "metadata": {
        "colab": {
          "base_uri": "https://localhost:8080/"
        },
        "id": "rcFjyFhw28gA",
        "outputId": "0a1eac28-b774-4360-e915-1323efee279c"
      },
      "execution_count": 143,
      "outputs": [
        {
          "output_type": "stream",
          "name": "stdout",
          "text": [
            "True\n",
            "False\n"
          ]
        }
      ]
    },
    {
      "cell_type": "markdown",
      "source": [
        "clear() function:\n",
        "\n",
        "--> To remove all elements of list"
      ],
      "metadata": {
        "id": "kjblD-SG4gSw"
      }
    },
    {
      "cell_type": "code",
      "source": [
        "x = [10,15,45,48,75,89,54]\n",
        "\n",
        "print(x)\n",
        "x.clear()\n",
        "\n",
        "x"
      ],
      "metadata": {
        "colab": {
          "base_uri": "https://localhost:8080/"
        },
        "id": "--XBvu3t4JKN",
        "outputId": "830f3dfe-52c5-44d7-fb9f-10ac7de63b83"
      },
      "execution_count": 146,
      "outputs": [
        {
          "output_type": "stream",
          "name": "stdout",
          "text": [
            "[10, 15, 45, 48, 75, 89, 54]\n"
          ]
        },
        {
          "output_type": "execute_result",
          "data": {
            "text/plain": [
              "[]"
            ]
          },
          "metadata": {},
          "execution_count": 146
        }
      ]
    },
    {
      "cell_type": "markdown",
      "source": [
        "### Nested Lists:\n",
        "\n",
        "Sometimes we can take one list inside another list. Such type of lists are called nested"
      ],
      "metadata": {
        "id": "kuv0f7NF49ne"
      }
    },
    {
      "cell_type": "code",
      "source": [
        "x = [10,15,12,[45,69,63,48]]\n",
        "\n",
        "print(x)\n",
        "print(x[3])\n",
        "print(x[3][3])\n",
        "print(x[3][0])"
      ],
      "metadata": {
        "colab": {
          "base_uri": "https://localhost:8080/"
        },
        "id": "XiTPJepH4qzX",
        "outputId": "fe186451-d010-40b9-a80c-fb66157f099d"
      },
      "execution_count": 156,
      "outputs": [
        {
          "output_type": "stream",
          "name": "stdout",
          "text": [
            "[10, 15, 12, [45, 69, 63, 48]]\n",
            "[45, 69, 63, 48]\n",
            "48\n",
            "45\n"
          ]
        }
      ]
    },
    {
      "cell_type": "code",
      "source": [
        "#Nested List as Matrix:\n",
        " # In Python we can represent matrix by using nested lists.\n",
        "x = [[1,2,3],[4,5,6],[7,8,9]]\n",
        "print(\"Elements by row wise\")\n",
        "for i in x:\n",
        "  print(i)"
      ],
      "metadata": {
        "colab": {
          "base_uri": "https://localhost:8080/"
        },
        "id": "YWVA5ac-5V55",
        "outputId": "7ad8bb01-cde5-4232-b9e8-d4389ac66cec"
      },
      "execution_count": 162,
      "outputs": [
        {
          "output_type": "stream",
          "name": "stdout",
          "text": [
            "Elements by row wise\n",
            "[1, 2, 3]\n",
            "[4, 5, 6]\n",
            "[7, 8, 9]\n"
          ]
        }
      ]
    },
    {
      "cell_type": "code",
      "source": [
        "for i in range(len(x)):\n",
        "  for j in range(len(x[i])):\n",
        "    print(x[i][j],end=\"\\t\") \n",
        "\n",
        "  print()  "
      ],
      "metadata": {
        "colab": {
          "base_uri": "https://localhost:8080/"
        },
        "id": "cLkEt29G6atA",
        "outputId": "31f9e01f-8c0c-41fd-ca7a-6306325fe445"
      },
      "execution_count": 169,
      "outputs": [
        {
          "output_type": "stream",
          "name": "stdout",
          "text": [
            "1\t2\t3\t\n",
            "4\t5\t6\t\n",
            "7\t8\t9\t\n"
          ]
        }
      ]
    },
    {
      "cell_type": "markdown",
      "source": [
        "## List Comprehensions:\n",
        "\n",
        "It is very easy and compact way of creating list objects from any iterable objects (Like List, Tuple, Dictionary, Range etc) based on some condition.\n",
        "\n",
        "Syntax: list = [expression for item in list if condition]"
      ],
      "metadata": {
        "id": "J-8n411F8O7l"
      }
    },
    {
      "cell_type": "code",
      "source": [
        "x = [y*y for y in range(1,11)]\n",
        "print(x)"
      ],
      "metadata": {
        "colab": {
          "base_uri": "https://localhost:8080/"
        },
        "id": "O_LK2Cml7y4M",
        "outputId": "da6821a3-a55d-4607-8cfa-c00d13402b2b"
      },
      "execution_count": 170,
      "outputs": [
        {
          "output_type": "stream",
          "name": "stdout",
          "text": [
            "[1, 4, 9, 16, 25, 36, 49, 64, 81, 100]\n"
          ]
        }
      ]
    },
    {
      "cell_type": "code",
      "source": [
        "z = [x for x in x if x%2==0]\n",
        "print(z)"
      ],
      "metadata": {
        "colab": {
          "base_uri": "https://localhost:8080/"
        },
        "id": "4HIyLXMe9aG7",
        "outputId": "ebef6302-390d-4624-f2ab-e2bdaa556bcd"
      },
      "execution_count": 175,
      "outputs": [
        {
          "output_type": "stream",
          "name": "stdout",
          "text": [
            "[4, 16, 36, 64, 100]\n"
          ]
        }
      ]
    },
    {
      "cell_type": "code",
      "source": [
        "words=[\"Balaiah\",\"Nag\",\"Venkatesh\",\"Chiranjeevi\"]\n",
        "l=[w[0] for w in words]\n",
        "print(l)\n"
      ],
      "metadata": {
        "colab": {
          "base_uri": "https://localhost:8080/"
        },
        "id": "Pfw8ODGd9sg0",
        "outputId": "10ad1d3a-4de4-434f-e96d-71e2035a0c68"
      },
      "execution_count": 174,
      "outputs": [
        {
          "output_type": "stream",
          "name": "stdout",
          "text": [
            "['B', 'N', 'V', 'C']\n"
          ]
        }
      ]
    },
    {
      "cell_type": "code",
      "source": [
        "x = [10,20,30,40,50] #print elenemts present only in x\n",
        "y = [30,50,46,48,50]\n",
        "\n",
        "z = [i for i in x if i not in y]\n",
        "z\n"
      ],
      "metadata": {
        "colab": {
          "base_uri": "https://localhost:8080/"
        },
        "id": "1R6edoVo-GDe",
        "outputId": "be29d154-539b-4732-cca9-a3e7e20569c2"
      },
      "execution_count": 176,
      "outputs": [
        {
          "output_type": "execute_result",
          "data": {
            "text/plain": [
              "[10, 20, 40]"
            ]
          },
          "metadata": {},
          "execution_count": 176
        }
      ]
    },
    {
      "cell_type": "code",
      "source": [
        "# Task: find the commom elements in two lists by using list comprehension\n",
        "\n",
        "x = [1,2,3,4,5,6]\n",
        "y = [4,5,6,7,8,9]\n",
        "\n",
        "z = [i for i in x if i in y]\n",
        "z"
      ],
      "metadata": {
        "colab": {
          "base_uri": "https://localhost:8080/"
        },
        "id": "yS4HOMn0_Dvl",
        "outputId": "e489a415-15c0-44bc-b898-5eea08969076"
      },
      "execution_count": 177,
      "outputs": [
        {
          "output_type": "execute_result",
          "data": {
            "text/plain": [
              "[4, 5, 6]"
            ]
          },
          "metadata": {},
          "execution_count": 177
        }
      ]
    },
    {
      "cell_type": "code",
      "source": [
        "a = [i for i in x if i not in y]\n",
        "b = [i for i in y if i not in x]\n",
        "\n",
        "print(a)\n",
        "print(b)\n",
        "print(a+b)"
      ],
      "metadata": {
        "colab": {
          "base_uri": "https://localhost:8080/"
        },
        "id": "gUchOvY-_z8v",
        "outputId": "ef0b47a0-58d2-431b-c549-364d2d291f55"
      },
      "execution_count": 180,
      "outputs": [
        {
          "output_type": "stream",
          "name": "stdout",
          "text": [
            "[1, 2, 3]\n",
            "[7, 8, 9]\n",
            "[1, 2, 3, 7, 8, 9]\n"
          ]
        }
      ]
    },
    {
      "cell_type": "code",
      "source": [
        ""
      ],
      "metadata": {
        "id": "CjulySyWAH3c"
      },
      "execution_count": null,
      "outputs": []
    }
  ]
}