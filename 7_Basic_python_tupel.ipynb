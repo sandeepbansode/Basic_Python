{
  "nbformat": 4,
  "nbformat_minor": 0,
  "metadata": {
    "colab": {
      "name": "7_Basic_python_tupel.ipynb",
      "provenance": [],
      "collapsed_sections": [],
      "authorship_tag": "ABX9TyM8KW5f61WQoqlOUw5wF79O",
      "include_colab_link": true
    },
    "kernelspec": {
      "name": "python3",
      "display_name": "Python 3"
    },
    "language_info": {
      "name": "python"
    }
  },
  "cells": [
    {
      "cell_type": "markdown",
      "metadata": {
        "id": "view-in-github",
        "colab_type": "text"
      },
      "source": [
        "<a href=\"https://colab.research.google.com/github/sandeepbansode/Basic_Python/blob/main/7_Basic_python_tupel.ipynb\" target=\"_parent\"><img src=\"https://colab.research.google.com/assets/colab-badge.svg\" alt=\"Open In Colab\"/></a>"
      ]
    },
    {
      "cell_type": "markdown",
      "source": [
        "# **Tuple**\n",
        "\n",
        "* Tuple is exactly same as List except that it is immutable. i.e once we creates Tuple object, we cannot perform any changes in that object. Hence Tuple is Read only version of List.\n",
        "\n",
        "* If our data is fixed and never changes then we should go for Tuple.\n",
        "\n",
        "* Insertion Order is preserved Duplicates are allowed Heterogeneous objects are allowed.\n",
        "\n",
        "* We can preserve insertion order and we can differentiate duplicate objects by using index. Hence index will play very important role in Tuple also.\n",
        "\n",
        "* Tuple support both +ve and -ve index. +ve index means forward direction (from left to right) and -ve index means backward direction (from right to left)\n",
        "\n",
        "* We can represent Tuple elements within Parenthesis and with comma seperator.\n",
        "[ ]\n"
      ],
      "metadata": {
        "id": "armvdyFz7R5r"
      }
    },
    {
      "cell_type": "code",
      "source": [
        "# paranthesis are optional\n",
        "x = 10,15,14,78,54\n",
        "print(type(x))\n",
        "x"
      ],
      "metadata": {
        "colab": {
          "base_uri": "https://localhost:8080/"
        },
        "id": "LQx0Ad2K8EXP",
        "outputId": "febfbe49-048d-43cd-d8a7-54e051ecfe9d"
      },
      "execution_count": null,
      "outputs": [
        {
          "output_type": "stream",
          "name": "stdout",
          "text": [
            "<class 'tuple'>\n"
          ]
        },
        {
          "output_type": "execute_result",
          "data": {
            "text/plain": [
              "(10, 15, 14, 78, 54)"
            ]
          },
          "metadata": {},
          "execution_count": 6
        }
      ]
    },
    {
      "cell_type": "code",
      "source": [
        "x = (10,15,45,86)\n",
        "print(type(x))\n",
        "x"
      ],
      "metadata": {
        "colab": {
          "base_uri": "https://localhost:8080/"
        },
        "id": "KaaLwySG8mKs",
        "outputId": "ff9b1779-cfd8-4b98-d798-78bb379a2df0"
      },
      "execution_count": null,
      "outputs": [
        {
          "output_type": "stream",
          "name": "stdout",
          "text": [
            "<class 'tuple'>\n"
          ]
        },
        {
          "output_type": "execute_result",
          "data": {
            "text/plain": [
              "(10, 15, 45, 86)"
            ]
          },
          "metadata": {},
          "execution_count": 7
        }
      ]
    },
    {
      "cell_type": "markdown",
      "source": [
        "Q) Which of the following are valid Tuples?\n",
        "\n",
        "1) t=()    # valid empty tuple\n",
        "\n",
        "2) t=10,20,30,40 #valid tuple\n",
        "\n",
        "3) t=10          # this is not tuple\n",
        "\n",
        "4)t = (10,)      #tuple with single element\n",
        "\n",
        "5) t=(10,20,30,40) #valid tuple\n",
        "\n",
        "6) t = [10,20]   #list\n",
        "\n",
        "tuple(t) #we can change list in to tuple"
      ],
      "metadata": {
        "id": "J4KdPkiF9Meh"
      }
    },
    {
      "cell_type": "code",
      "source": [
        "x = [10,12,15,16]\n",
        "print(tuple(x))\n",
        "x"
      ],
      "metadata": {
        "colab": {
          "base_uri": "https://localhost:8080/"
        },
        "id": "SCM_tudK8sB8",
        "outputId": "fbf5432e-281d-466d-a163-ba357beb4a33"
      },
      "execution_count": null,
      "outputs": [
        {
          "output_type": "stream",
          "name": "stdout",
          "text": [
            "(10, 12, 15, 16)\n"
          ]
        },
        {
          "output_type": "execute_result",
          "data": {
            "text/plain": [
              "[10, 12, 15, 16]"
            ]
          },
          "metadata": {},
          "execution_count": 12
        }
      ]
    },
    {
      "cell_type": "markdown",
      "source": [
        "### Accessing Elements of Tuple:\n",
        "\n",
        "We can access either by index or by slice operator"
      ],
      "metadata": {
        "id": "Er6h2z91-n6n"
      }
    },
    {
      "cell_type": "code",
      "source": [
        "# by index\n",
        "x = (10,15,18,16)\n",
        "x[0]"
      ],
      "metadata": {
        "colab": {
          "base_uri": "https://localhost:8080/"
        },
        "id": "urxE8j7N-CmX",
        "outputId": "af749c17-539c-47ca-df28-f1935023cb97"
      },
      "execution_count": null,
      "outputs": [
        {
          "output_type": "execute_result",
          "data": {
            "text/plain": [
              "10"
            ]
          },
          "metadata": {},
          "execution_count": 13
        }
      ]
    },
    {
      "cell_type": "code",
      "source": [
        "x[3]"
      ],
      "metadata": {
        "colab": {
          "base_uri": "https://localhost:8080/"
        },
        "id": "obOfi2nQAscP",
        "outputId": "4e7b1a7e-d2ae-487a-be44-039d0bc75d9e"
      },
      "execution_count": null,
      "outputs": [
        {
          "output_type": "execute_result",
          "data": {
            "text/plain": [
              "16"
            ]
          },
          "metadata": {},
          "execution_count": 14
        }
      ]
    },
    {
      "cell_type": "code",
      "source": [
        "x[100]"
      ],
      "metadata": {
        "colab": {
          "base_uri": "https://localhost:8080/",
          "height": 165
        },
        "id": "OgLzrl4xBxMo",
        "outputId": "b98e95b5-c5e3-495f-9a2b-8abd7a5ac6c9"
      },
      "execution_count": null,
      "outputs": [
        {
          "output_type": "error",
          "ename": "IndexError",
          "evalue": "ignored",
          "traceback": [
            "\u001b[0;31m---------------------------------------------------------------------------\u001b[0m",
            "\u001b[0;31mIndexError\u001b[0m                                Traceback (most recent call last)",
            "\u001b[0;32m<ipython-input-19-1c48815fc125>\u001b[0m in \u001b[0;36m<module>\u001b[0;34m()\u001b[0m\n\u001b[0;32m----> 1\u001b[0;31m \u001b[0mx\u001b[0m\u001b[0;34m[\u001b[0m\u001b[0;36m100\u001b[0m\u001b[0;34m]\u001b[0m\u001b[0;34m\u001b[0m\u001b[0;34m\u001b[0m\u001b[0m\n\u001b[0m",
            "\u001b[0;31mIndexError\u001b[0m: tuple index out of range"
          ]
        }
      ]
    },
    {
      "cell_type": "code",
      "source": [
        "# by sice\n",
        "x = (10,15,16,19,52,45,48,56)\n",
        "x[::] "
      ],
      "metadata": {
        "colab": {
          "base_uri": "https://localhost:8080/"
        },
        "id": "Jo_lR4ygAuiA",
        "outputId": "ed5933c4-faa3-481a-b361-2154a3a7dfad"
      },
      "execution_count": null,
      "outputs": [
        {
          "output_type": "execute_result",
          "data": {
            "text/plain": [
              "(10, 15, 16, 19, 52, 45, 48, 56)"
            ]
          },
          "metadata": {},
          "execution_count": 15
        }
      ]
    },
    {
      "cell_type": "code",
      "source": [
        "x[::-1] #for reverse the tuple"
      ],
      "metadata": {
        "colab": {
          "base_uri": "https://localhost:8080/"
        },
        "id": "Rh5FYGQABDTw",
        "outputId": "6e5fc991-623b-4370-9802-3eed3cb05bad"
      },
      "execution_count": null,
      "outputs": [
        {
          "output_type": "execute_result",
          "data": {
            "text/plain": [
              "(56, 48, 45, 52, 19, 16, 15, 10)"
            ]
          },
          "metadata": {},
          "execution_count": 16
        }
      ]
    },
    {
      "cell_type": "code",
      "source": [
        "x[1:7:2]"
      ],
      "metadata": {
        "colab": {
          "base_uri": "https://localhost:8080/"
        },
        "id": "8Y3LUWuyBGFu",
        "outputId": "8513681e-886b-4253-8d28-fcf75e9de578"
      },
      "execution_count": null,
      "outputs": [
        {
          "output_type": "execute_result",
          "data": {
            "text/plain": [
              "(15, 19, 45)"
            ]
          },
          "metadata": {},
          "execution_count": 17
        }
      ]
    },
    {
      "cell_type": "markdown",
      "source": [
        "## Tuple vs Immutability:\n",
        "\n",
        "* Once we creates tuple, we cannot change its content. Hence tuple objects are immutable."
      ],
      "metadata": {
        "id": "oVF9lhcXB9mk"
      }
    },
    {
      "cell_type": "code",
      "source": [
        "x = (12,15,16,19,18,20)\n",
        "x[0]"
      ],
      "metadata": {
        "colab": {
          "base_uri": "https://localhost:8080/"
        },
        "id": "Ue2h636qBowy",
        "outputId": "f0ae2ecb-06da-42d6-84f9-cf59926426ca"
      },
      "execution_count": null,
      "outputs": [
        {
          "output_type": "execute_result",
          "data": {
            "text/plain": [
              "12"
            ]
          },
          "metadata": {},
          "execution_count": 20
        }
      ]
    },
    {
      "cell_type": "code",
      "source": [
        "x[0]=13"
      ],
      "metadata": {
        "colab": {
          "base_uri": "https://localhost:8080/",
          "height": 165
        },
        "id": "V6uV3sXfCSPO",
        "outputId": "70c09b3b-4cc7-43d0-95c2-d6d8c1d2cc41"
      },
      "execution_count": null,
      "outputs": [
        {
          "output_type": "error",
          "ename": "TypeError",
          "evalue": "ignored",
          "traceback": [
            "\u001b[0;31m---------------------------------------------------------------------------\u001b[0m",
            "\u001b[0;31mTypeError\u001b[0m                                 Traceback (most recent call last)",
            "\u001b[0;32m<ipython-input-21-69b1f5bc3a40>\u001b[0m in \u001b[0;36m<module>\u001b[0;34m()\u001b[0m\n\u001b[0;32m----> 1\u001b[0;31m \u001b[0mx\u001b[0m\u001b[0;34m[\u001b[0m\u001b[0;36m0\u001b[0m\u001b[0;34m]\u001b[0m\u001b[0;34m=\u001b[0m\u001b[0;36m13\u001b[0m\u001b[0;34m\u001b[0m\u001b[0;34m\u001b[0m\u001b[0m\n\u001b[0m",
            "\u001b[0;31mTypeError\u001b[0m: 'tuple' object does not support item assignment"
          ]
        }
      ]
    },
    {
      "cell_type": "markdown",
      "source": [
        "# Mathematical Operators for Tuple:\n",
        "\n",
        "We can apply + and * operators for tuple"
      ],
      "metadata": {
        "id": "Azi7zWvUCd5Q"
      }
    },
    {
      "cell_type": "code",
      "source": [
        "#conacatenation operator (+)\n",
        "\n",
        "x = (10,12,15,46)\n",
        "y= (12,45,78,69)\n",
        "z = x+y\n",
        "z"
      ],
      "metadata": {
        "colab": {
          "base_uri": "https://localhost:8080/"
        },
        "id": "B-2DroBcCXQo",
        "outputId": "146c6ee2-bb65-4836-c628-e23247c66049"
      },
      "execution_count": null,
      "outputs": [
        {
          "output_type": "execute_result",
          "data": {
            "text/plain": [
              "(10, 12, 15, 46, 12, 45, 78, 69)"
            ]
          },
          "metadata": {},
          "execution_count": 22
        }
      ]
    },
    {
      "cell_type": "code",
      "source": [
        "#2) Multiplication Operator OR Repetition Operator (*)\n",
        "x = (12,45,87,63)\n",
        "x*2"
      ],
      "metadata": {
        "colab": {
          "base_uri": "https://localhost:8080/"
        },
        "id": "XsT_1zBfDPrC",
        "outputId": "361d01b2-edef-406c-e27a-14d04f54e685"
      },
      "execution_count": null,
      "outputs": [
        {
          "output_type": "execute_result",
          "data": {
            "text/plain": [
              "(12, 45, 87, 63, 12, 45, 87, 63)"
            ]
          },
          "metadata": {},
          "execution_count": 23
        }
      ]
    },
    {
      "cell_type": "markdown",
      "source": [
        "### Important Functions of Tuple:"
      ],
      "metadata": {
        "id": "MnanAgJXDsDw"
      }
    },
    {
      "cell_type": "code",
      "source": [
        "# len()\n",
        "\n",
        "x = (12,15,16,19)\n",
        "len(x)"
      ],
      "metadata": {
        "colab": {
          "base_uri": "https://localhost:8080/"
        },
        "id": "ba2Gq0lHDklr",
        "outputId": "fa46f557-13c5-4b97-96d7-c90f3f0dc610"
      },
      "execution_count": null,
      "outputs": [
        {
          "output_type": "execute_result",
          "data": {
            "text/plain": [
              "4"
            ]
          },
          "metadata": {},
          "execution_count": 24
        }
      ]
    },
    {
      "cell_type": "code",
      "source": [
        "#2. count():To return number of occurrences of given element in the tuple\n",
        "x = (10,15,1,45,1,58,1)\n",
        "x.count(1)"
      ],
      "metadata": {
        "colab": {
          "base_uri": "https://localhost:8080/"
        },
        "id": "Pm516l9LD5UZ",
        "outputId": "6127d9c5-8abb-4740-b06e-cad4b2e2977b"
      },
      "execution_count": null,
      "outputs": [
        {
          "output_type": "execute_result",
          "data": {
            "text/plain": [
              "3"
            ]
          },
          "metadata": {},
          "execution_count": 27
        }
      ]
    },
    {
      "cell_type": "code",
      "source": [
        "# 3. index(): Returns index of first occurrence of the given element.\n",
        "# If the specified element is not available then we will get ValueError.\n",
        "x = (10,20,30,40,50,60)\n",
        "x.index(40)"
      ],
      "metadata": {
        "colab": {
          "base_uri": "https://localhost:8080/"
        },
        "id": "WHtvOicgEnrR",
        "outputId": "b6a7889e-ef70-4da7-d206-4be849037fdb"
      },
      "execution_count": null,
      "outputs": [
        {
          "output_type": "execute_result",
          "data": {
            "text/plain": [
              "3"
            ]
          },
          "metadata": {},
          "execution_count": 28
        }
      ]
    },
    {
      "cell_type": "code",
      "source": [
        "# 4. sorted(): To sort elements based on default natural sorting order\n",
        "\n",
        "x = (102,15,106,14,78)\n",
        "y = sorted(x)\n",
        "y"
      ],
      "metadata": {
        "colab": {
          "base_uri": "https://localhost:8080/"
        },
        "id": "5X2xpdvYFbxc",
        "outputId": "a2065f9b-9065-480e-8edd-b78f0c7d86e9"
      },
      "execution_count": null,
      "outputs": [
        {
          "output_type": "execute_result",
          "data": {
            "text/plain": [
              "[14, 15, 78, 102, 106]"
            ]
          },
          "metadata": {},
          "execution_count": 33
        }
      ]
    },
    {
      "cell_type": "code",
      "source": [
        "#We can sort according to reverse of default natural sorting order as follows\n",
        "z = sorted(x, reverse = True)\n",
        "z"
      ],
      "metadata": {
        "colab": {
          "base_uri": "https://localhost:8080/"
        },
        "id": "0lhq07CVGrjT",
        "outputId": "217b00eb-a425-456d-f996-f5294588eeaa"
      },
      "execution_count": null,
      "outputs": [
        {
          "output_type": "execute_result",
          "data": {
            "text/plain": [
              "[106, 102, 78, 15, 14]"
            ]
          },
          "metadata": {},
          "execution_count": 38
        }
      ]
    },
    {
      "cell_type": "code",
      "source": [
        "# 5. min() and max() functions:\n",
        "#These functions return min and max values according to default natural sorting order.\n",
        "\n",
        "x = (10,15,16,14,78,201,45,42)\n",
        "min(x)"
      ],
      "metadata": {
        "colab": {
          "base_uri": "https://localhost:8080/"
        },
        "id": "zxpGqhmkHiEq",
        "outputId": "a6fe6b6b-fbc9-4ec3-a9d8-331137ccff79"
      },
      "execution_count": null,
      "outputs": [
        {
          "output_type": "execute_result",
          "data": {
            "text/plain": [
              "10"
            ]
          },
          "metadata": {},
          "execution_count": 39
        }
      ]
    },
    {
      "cell_type": "code",
      "source": [
        "max(x)"
      ],
      "metadata": {
        "colab": {
          "base_uri": "https://localhost:8080/"
        },
        "id": "UA6wao6FIN3F",
        "outputId": "35e808b2-80a1-457e-a140-0769868d25a4"
      },
      "execution_count": null,
      "outputs": [
        {
          "output_type": "execute_result",
          "data": {
            "text/plain": [
              "201"
            ]
          },
          "metadata": {},
          "execution_count": 40
        }
      ]
    },
    {
      "cell_type": "markdown",
      "source": [
        "Q. What do you mean by packing and unpacking of tuple?(explain with the help of code)"
      ],
      "metadata": {
        "id": "2mmwI1tuIXnf"
      }
    },
    {
      "cell_type": "markdown",
      "source": [
        "### Packing and Unpacking a Tuple: \n",
        "\n",
        "In Python, there is a very powerful tuple assignment feature that assigns the right-hand side of values into the left-hand side. In another way, it is called unpacking of a tuple of values into a variable. In packing, we put values into a new tuple while in unpacking we extract those values into a single variable.\n",
        " "
      ],
      "metadata": {
        "id": "1AzYiODCFfIi"
      }
    },
    {
      "cell_type": "code",
      "source": [
        "# this lines PACKS values\n",
        "# into variable a\n",
        "a = (\"Ironman\", 50, \"Engineering\" , \"170k$\") \n",
        "\n",
        "# this lines UNPACKS values\n",
        "# of variable a\n",
        "(Superhero, Age, Degree, Sallary) = a \n",
        "\n",
        "print(Superhero)   #name of superhero\n",
        "print(Age)         #print age\n",
        "print(Degree)\n",
        "print(Sallary)"
      ],
      "metadata": {
        "colab": {
          "base_uri": "https://localhost:8080/"
        },
        "id": "1WUuY8YdIPz7",
        "outputId": "8f09f777-c00e-4131-817d-3d08568459b1"
      },
      "execution_count": 1,
      "outputs": [
        {
          "output_type": "stream",
          "name": "stdout",
          "text": [
            "Ironman\n",
            "50\n",
            "Engineering\n",
            "170k$\n"
          ]
        }
      ]
    },
    {
      "cell_type": "code",
      "source": [
        " a = (\"python\",\"java\",\"C#\",\"C\") #packing\n",
        "\n",
        " (lang1,lang2,lang3,lang4) = a        #unpacking\n",
        "\n",
        " print(lang1)\n",
        " print(lang2)\n",
        " print(lang3)\n",
        " print(lang4)"
      ],
      "metadata": {
        "colab": {
          "base_uri": "https://localhost:8080/"
        },
        "id": "Cqs9XbV_Z9Fm",
        "outputId": "d358c9ed-40b5-419c-9f3e-ce95865c57b2"
      },
      "execution_count": 5,
      "outputs": [
        {
          "output_type": "stream",
          "name": "stdout",
          "text": [
            "python\n",
            "java\n",
            "C#\n",
            "C\n"
          ]
        }
      ]
    },
    {
      "cell_type": "markdown",
      "source": [
        "**NOTE** : In unpacking of tuple number of variables on left-hand side should be equal to number of values in given tuple a."
      ],
      "metadata": {
        "id": "Psftq921Vj5X"
      }
    },
    {
      "cell_type": "markdown",
      "source": [
        "# Tuple Comprehension:\n",
        "\n",
        "Tuple Comprehension is not supported by Python.\n",
        "\n",
        "t = ( x**2 for x in range(x,y))\n",
        "\n",
        "Here we are not getting tuple object and we are getting generator object.\n",
        "\n",
        "1) t= ( x**2 for x in range(x,y))\n",
        "\n",
        "2) print(type(t))\n",
        "\n",
        "3) for x in t:\n",
        "\n",
        "4) print(x)"
      ],
      "metadata": {
        "id": "TlqAfmymLpZK"
      }
    },
    {
      "cell_type": "code",
      "source": [
        "t= ( x**3 for x in range(1,8))\n",
        "print(type(t))\n",
        "for x in t:\n",
        "  print(x)"
      ],
      "metadata": {
        "colab": {
          "base_uri": "https://localhost:8080/"
        },
        "id": "D3YJybpKIxOP",
        "outputId": "8195f5f3-a850-4336-ecc0-3008cab2cf48"
      },
      "execution_count": null,
      "outputs": [
        {
          "output_type": "stream",
          "name": "stdout",
          "text": [
            "<class 'generator'>\n",
            "1\n",
            "8\n",
            "27\n",
            "64\n",
            "125\n",
            "216\n",
            "343\n"
          ]
        }
      ]
    },
    {
      "cell_type": "markdown",
      "source": [
        "Q. Write a Program to take a Tuple of Numbers from the Keyboard and Print its Sum and Average?"
      ],
      "metadata": {
        "id": "oEwrfRH9MzGW"
      }
    },
    {
      "cell_type": "code",
      "source": [
        "t = eval(input(\"Enter The Number of Tuple : \"))\n",
        "l = len(t)\n",
        "sum = 0\n",
        "for i in t:\n",
        "  sum = sum+i\n",
        "\n",
        "print(\"The Sum :\", sum)\n",
        "print(\"The Avarge : \", sum/l)  "
      ],
      "metadata": {
        "colab": {
          "base_uri": "https://localhost:8080/"
        },
        "id": "ogJIGQWaMoNO",
        "outputId": "f2a4d4a3-252f-40d2-e29e-2be0b765ed11"
      },
      "execution_count": null,
      "outputs": [
        {
          "output_type": "stream",
          "name": "stdout",
          "text": [
            "Enter The Number of Tuple : 4,5,6,7\n",
            "The Sum : 22\n",
            "The Avarge :  5.5\n"
          ]
        }
      ]
    },
    {
      "cell_type": "code",
      "source": [
        ""
      ],
      "metadata": {
        "id": "6OOQj_6nN2Wo"
      },
      "execution_count": null,
      "outputs": []
    }
  ]
}