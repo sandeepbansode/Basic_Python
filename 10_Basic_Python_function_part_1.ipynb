{
  "nbformat": 4,
  "nbformat_minor": 0,
  "metadata": {
    "colab": {
      "name": "Basic_Python_function_part_1.ipynb",
      "provenance": [],
      "collapsed_sections": [],
      "authorship_tag": "ABX9TyO9aEbt47wj3ojbk33bz3Lz",
      "include_colab_link": true
    },
    "kernelspec": {
      "name": "python3",
      "display_name": "Python 3"
    },
    "language_info": {
      "name": "python"
    }
  },
  "cells": [
    {
      "cell_type": "markdown",
      "metadata": {
        "id": "view-in-github",
        "colab_type": "text"
      },
      "source": [
        "<a href=\"https://colab.research.google.com/github/sandeepbansode/Basic_Python/blob/main/Basic_Python_function_part_1.ipynb\" target=\"_parent\"><img src=\"https://colab.research.google.com/assets/colab-badge.svg\" alt=\"Open In Colab\"/></a>"
      ]
    },
    {
      "cell_type": "markdown",
      "source": [
        "# **Function**\n",
        "\n",
        "֍ If a group of statements is repeatedly required then it is not recommended to write these statements everytime seperately.We have to define these statements as a single unit and we can call that unit any number of times based on our requirement without rewriting. This unit is nothing but function.\n",
        "\n",
        "֍ The main advantage of functions is code Reusability.\n",
        "\n",
        "֍ Python supports two types of functions:\n",
        "\n",
        "1) Built-in function\n",
        "\n",
        "2) User defined function\n",
        "\n",
        "\n",
        "\n",
        "1) Built in Functions:\n",
        "\n",
        "The functions which are coming along with Python software automatically, are called built in functions or pre defined functions.\n",
        "\n",
        "e.g. id(), type(), input(),eval()\n",
        "\n",
        "User defined function:\n",
        "The functions which are developed by programmer explicitly according to business requirements, are called user defined functions.\n",
        "\n",
        "Syntax:\n",
        "\n",
        "def function_name(parameters):\n",
        "\n",
        "''' doc string'''\n",
        "\n",
        "python code\n",
        "\n",
        "return value\n"
      ],
      "metadata": {
        "id": "-UWea9Gj08zE"
      }
    },
    {
      "cell_type": "code",
      "execution_count": 1,
      "metadata": {
        "id": "UcxWvMaS05JV",
        "colab": {
          "base_uri": "https://localhost:8080/"
        },
        "outputId": "ccfede8c-8e07-4d11-f5ee-c8c2940ad3ad"
      },
      "outputs": [
        {
          "output_type": "execute_result",
          "data": {
            "text/plain": [
              "6"
            ]
          },
          "metadata": {},
          "execution_count": 1
        }
      ],
      "source": [
        "p = \"python\" #len inbuilt function\n",
        "len(p)"
      ]
    },
    {
      "cell_type": "code",
      "source": [
        "id(p)"
      ],
      "metadata": {
        "colab": {
          "base_uri": "https://localhost:8080/"
        },
        "id": "L0JIlxc6PT_C",
        "outputId": "8c69e455-3563-41ec-dbda-7422336b576c"
      },
      "execution_count": 2,
      "outputs": [
        {
          "output_type": "execute_result",
          "data": {
            "text/plain": [
              "140377195972720"
            ]
          },
          "metadata": {},
          "execution_count": 2
        }
      ]
    },
    {
      "cell_type": "code",
      "source": [
        "eval(str(p) )"
      ],
      "metadata": {
        "colab": {
          "base_uri": "https://localhost:8080/"
        },
        "id": "x8FeC9JWRHjx",
        "outputId": "724eec51-ec99-44a9-9402-5ead49e34df4"
      },
      "execution_count": 6,
      "outputs": [
        {
          "output_type": "execute_result",
          "data": {
            "text/plain": [
              "20"
            ]
          },
          "metadata": {},
          "execution_count": 6
        }
      ]
    },
    {
      "cell_type": "code",
      "source": [
        "p = input(\"enter a number : \")"
      ],
      "metadata": {
        "colab": {
          "base_uri": "https://localhost:8080/"
        },
        "id": "tMtCFzyQRJ0p",
        "outputId": "53c74a06-7076-4927-c936-c76526568697"
      },
      "execution_count": 5,
      "outputs": [
        {
          "name": "stdout",
          "output_type": "stream",
          "text": [
            "enter a number : 20\n"
          ]
        }
      ]
    },
    {
      "cell_type": "code",
      "source": [
        "def wish():        #defined function\n",
        "  print(\"Good Morning\")"
      ],
      "metadata": {
        "id": "HrTg9axNRSqc"
      },
      "execution_count": 7,
      "outputs": []
    },
    {
      "cell_type": "code",
      "source": [
        "wish()"
      ],
      "metadata": {
        "colab": {
          "base_uri": "https://localhost:8080/"
        },
        "id": "72mBniV2TyQU",
        "outputId": "c8ccd051-a9a7-47cb-aad4-9c2aaf9d09c3"
      },
      "execution_count": 9,
      "outputs": [
        {
          "output_type": "stream",
          "name": "stdout",
          "text": [
            "Good Morning\n"
          ]
        }
      ]
    },
    {
      "cell_type": "markdown",
      "source": [
        "# Parameters\n",
        "\n",
        "Parameters are inputs to the function. If a function contains parameters, then at the time of calling,compulsory we should provide values otherwise, we will get error.\n",
        "\n",
        "Eg: Write a function to take name of the student as input and print wish message by name."
      ],
      "metadata": {
        "id": "SLOuSIbFUtFN"
      }
    },
    {
      "cell_type": "code",
      "source": [
        "def wish(name):\n",
        "  print(\"Hello\",name,\"Good Morning\")"
      ],
      "metadata": {
        "id": "YhSPbRE0TzVM"
      },
      "execution_count": 10,
      "outputs": []
    },
    {
      "cell_type": "code",
      "source": [
        "wish(\"Rahul\")"
      ],
      "metadata": {
        "colab": {
          "base_uri": "https://localhost:8080/"
        },
        "id": "hWRkUlQ_VQHn",
        "outputId": "cb67a0ba-4084-46fb-a046-02ce450b8ac6"
      },
      "execution_count": 14,
      "outputs": [
        {
          "output_type": "stream",
          "name": "stdout",
          "text": [
            "Hello Rahul Good Morning\n"
          ]
        }
      ]
    },
    {
      "cell_type": "code",
      "source": [
        "def my_name(name):\n",
        "  print(\"hello\",my_name,\"how are you\")"
      ],
      "metadata": {
        "id": "VY_YwiSUVR4k"
      },
      "execution_count": 16,
      "outputs": []
    },
    {
      "cell_type": "code",
      "source": [
        "my_name"
      ],
      "metadata": {
        "colab": {
          "base_uri": "https://localhost:8080/"
        },
        "id": "IhkpHDZsV49p",
        "outputId": "6ca21978-07e6-4960-c73e-6b67a429f4ea"
      },
      "execution_count": 18,
      "outputs": [
        {
          "output_type": "execute_result",
          "data": {
            "text/plain": [
              "<function __main__.my_name>"
            ]
          },
          "metadata": {},
          "execution_count": 18
        }
      ]
    },
    {
      "cell_type": "code",
      "source": [
        "my_name() #we have to provide \"name\" otherwise it will show error"
      ],
      "metadata": {
        "colab": {
          "base_uri": "https://localhost:8080/",
          "height": 165
        },
        "id": "T7ckJZbOWFTp",
        "outputId": "2f734e4b-0b57-4d19-fadb-07ba5f50f53f"
      },
      "execution_count": 20,
      "outputs": [
        {
          "output_type": "error",
          "ename": "TypeError",
          "evalue": "ignored",
          "traceback": [
            "\u001b[0;31m---------------------------------------------------------------------------\u001b[0m",
            "\u001b[0;31mTypeError\u001b[0m                                 Traceback (most recent call last)",
            "\u001b[0;32m<ipython-input-20-5a925d8231c3>\u001b[0m in \u001b[0;36m<module>\u001b[0;34m()\u001b[0m\n\u001b[0;32m----> 1\u001b[0;31m \u001b[0mmy_name\u001b[0m\u001b[0;34m(\u001b[0m\u001b[0;34m)\u001b[0m\u001b[0;34m\u001b[0m\u001b[0;34m\u001b[0m\u001b[0m\n\u001b[0m",
            "\u001b[0;31mTypeError\u001b[0m: my_name() missing 1 required positional argument: 'name'"
          ]
        }
      ]
    },
    {
      "cell_type": "code",
      "source": [
        "# Eg: Write a function to take number as input and print its square value\n",
        "\n",
        "def sqr(number):\n",
        "  print(number*number)"
      ],
      "metadata": {
        "id": "qNl7zP3jWKmx"
      },
      "execution_count": 24,
      "outputs": []
    },
    {
      "cell_type": "code",
      "source": [
        "sqr(89)"
      ],
      "metadata": {
        "colab": {
          "base_uri": "https://localhost:8080/"
        },
        "id": "IN5kNkXJZize",
        "outputId": "3bf0c61d-e119-42da-8328-1dd7bb5920ac"
      },
      "execution_count": 25,
      "outputs": [
        {
          "output_type": "stream",
          "name": "stdout",
          "text": [
            "7921\n"
          ]
        }
      ]
    },
    {
      "cell_type": "code",
      "source": [
        "sqr(2)"
      ],
      "metadata": {
        "colab": {
          "base_uri": "https://localhost:8080/"
        },
        "id": "v7MQ8KcEZmqF",
        "outputId": "12f7ab23-f2f4-494c-d232-35f3f03abff2"
      },
      "execution_count": 26,
      "outputs": [
        {
          "output_type": "stream",
          "name": "stdout",
          "text": [
            "4\n"
          ]
        }
      ]
    },
    {
      "cell_type": "code",
      "source": [
        "sqr(52)"
      ],
      "metadata": {
        "colab": {
          "base_uri": "https://localhost:8080/"
        },
        "id": "3naud084Z2Zl",
        "outputId": "af97a990-78a4-4943-e043-09f1bc2328dc"
      },
      "execution_count": 27,
      "outputs": [
        {
          "output_type": "stream",
          "name": "stdout",
          "text": [
            "2704\n"
          ]
        }
      ]
    },
    {
      "cell_type": "markdown",
      "source": [
        "# **Return Statement:**\n",
        "\n",
        "Function can take input values as parameters and executes business logic, and returns output to the caller with return statement.\n",
        "\n",
        "Q) Write a Function to accept 2 Numbers as Input and return Sum"
      ],
      "metadata": {
        "id": "uOunSCgLlRTz"
      }
    },
    {
      "cell_type": "code",
      "source": [
        "def sun(a,b):\n",
        "  print(a+b)\n",
        "  return"
      ],
      "metadata": {
        "id": "gF-1JEyuf1tH"
      },
      "execution_count": 34,
      "outputs": []
    },
    {
      "cell_type": "code",
      "source": [
        "sun(5,6)"
      ],
      "metadata": {
        "colab": {
          "base_uri": "https://localhost:8080/"
        },
        "id": "46uGt5lnlfDh",
        "outputId": "f8a52d83-cf5a-456a-f5b8-215e78bd31c4"
      },
      "execution_count": 35,
      "outputs": [
        {
          "output_type": "stream",
          "name": "stdout",
          "text": [
            "11\n"
          ]
        }
      ]
    },
    {
      "cell_type": "code",
      "source": [
        "def sum (x,y):\n",
        "  return x+y"
      ],
      "metadata": {
        "id": "MfxSMXKOm0im"
      },
      "execution_count": 36,
      "outputs": []
    },
    {
      "cell_type": "code",
      "source": [
        "sum (5,96)"
      ],
      "metadata": {
        "colab": {
          "base_uri": "https://localhost:8080/"
        },
        "id": "liwL0AD0nQiA",
        "outputId": "d4ac10f2-7ad4-4f13-8495-822ef46d0f7c"
      },
      "execution_count": 37,
      "outputs": [
        {
          "output_type": "execute_result",
          "data": {
            "text/plain": [
              "101"
            ]
          },
          "metadata": {},
          "execution_count": 37
        }
      ]
    },
    {
      "cell_type": "code",
      "source": [
        "sum(7,8)"
      ],
      "metadata": {
        "colab": {
          "base_uri": "https://localhost:8080/"
        },
        "id": "WBYGd_9PnyCd",
        "outputId": "30adaa98-259c-4a86-f139-9a308e534b47"
      },
      "execution_count": 38,
      "outputs": [
        {
          "output_type": "execute_result",
          "data": {
            "text/plain": [
              "15"
            ]
          },
          "metadata": {},
          "execution_count": 38
        }
      ]
    },
    {
      "cell_type": "code",
      "source": [
        "def mul(x,y):\n",
        "  return x*y"
      ],
      "metadata": {
        "id": "qsoVeNtYoJgp"
      },
      "execution_count": 39,
      "outputs": []
    },
    {
      "cell_type": "code",
      "source": [
        "mul(5,6)"
      ],
      "metadata": {
        "colab": {
          "base_uri": "https://localhost:8080/"
        },
        "id": "K5VjG8i9oPCP",
        "outputId": "323ff267-4b6e-4d5f-8b2b-7ccafa9b1c02"
      },
      "execution_count": 40,
      "outputs": [
        {
          "output_type": "execute_result",
          "data": {
            "text/plain": [
              "30"
            ]
          },
          "metadata": {},
          "execution_count": 40
        }
      ]
    },
    {
      "cell_type": "code",
      "source": [
        "print(sum(5,6))\n",
        "mul(5,6)"
      ],
      "metadata": {
        "colab": {
          "base_uri": "https://localhost:8080/"
        },
        "id": "r4heIFJLod0A",
        "outputId": "abc50eec-82ae-44e3-9569-fd1202b5bd15"
      },
      "execution_count": 41,
      "outputs": [
        {
          "output_type": "stream",
          "name": "stdout",
          "text": [
            "11\n"
          ]
        },
        {
          "output_type": "execute_result",
          "data": {
            "text/plain": [
              "30"
            ]
          },
          "metadata": {},
          "execution_count": 41
        }
      ]
    },
    {
      "cell_type": "code",
      "source": [
        "\"\"\"Q) Write a Function to check whether the given Number is\n",
        "  Even OR Odd?\"\"\"\n",
        "\n",
        "def even_odd():\n",
        "  n=int(input(\"Enter a number : \"))\n",
        "  if n%2==0:\n",
        "    print(\"Entered number is even\")\n",
        "  else:\n",
        "    print(\"Entered number is odd\")\n"
      ],
      "metadata": {
        "id": "0evqYHVMojpN"
      },
      "execution_count": 42,
      "outputs": []
    },
    {
      "cell_type": "code",
      "source": [
        "even_odd()"
      ],
      "metadata": {
        "colab": {
          "base_uri": "https://localhost:8080/"
        },
        "id": "Zt-kJVY_pj1o",
        "outputId": "8d1c59f9-ee83-4b67-e0f1-4670fb565e16"
      },
      "execution_count": 43,
      "outputs": [
        {
          "output_type": "stream",
          "name": "stdout",
          "text": [
            "Enter a number : 45\n",
            "Entered number is odd\n"
          ]
        }
      ]
    },
    {
      "cell_type": "code",
      "source": [
        "even_odd()"
      ],
      "metadata": {
        "colab": {
          "base_uri": "https://localhost:8080/"
        },
        "id": "SEtKAntdpr4P",
        "outputId": "f01499e3-ee37-4b16-91d1-818aa0fa225b"
      },
      "execution_count": 44,
      "outputs": [
        {
          "output_type": "stream",
          "name": "stdout",
          "text": [
            "Enter a number : 78\n",
            "Entered number is even\n"
          ]
        }
      ]
    },
    {
      "cell_type": "code",
      "source": [
        "\"\"\"Q) Write a Function to find Factorial of given Number?\"\"\"\n",
        "#using for loop\n",
        "def fact():\n",
        "  n = int(input(\"enter the number : \"))\n",
        "  m = 1\n",
        "  for i in range(1,n+1):\n",
        "    m=m*i\n",
        "  print(m)"
      ],
      "metadata": {
        "id": "e6AcS5PSpyXg"
      },
      "execution_count": 67,
      "outputs": []
    },
    {
      "cell_type": "code",
      "source": [
        "fact()"
      ],
      "metadata": {
        "colab": {
          "base_uri": "https://localhost:8080/"
        },
        "id": "TViRnjQfvVjc",
        "outputId": "88029ac3-1079-4f04-f9d9-42be8f0bdd45"
      },
      "execution_count": 68,
      "outputs": [
        {
          "output_type": "stream",
          "name": "stdout",
          "text": [
            "enter the number : 4\n",
            "24\n"
          ]
        }
      ]
    },
    {
      "cell_type": "code",
      "source": [
        "fact()"
      ],
      "metadata": {
        "colab": {
          "base_uri": "https://localhost:8080/"
        },
        "id": "6Gs4gLnRvatb",
        "outputId": "8a9100a4-9e0a-4bb7-fb42-3a2e5a4a41d8"
      },
      "execution_count": 69,
      "outputs": [
        {
          "output_type": "stream",
          "name": "stdout",
          "text": [
            "enter the number : 5\n",
            "120\n"
          ]
        }
      ]
    },
    {
      "cell_type": "code",
      "source": [
        "#factorial using while loop\n",
        "\n",
        "def factt():\n",
        "  n = int(input(\"Enter the number : \"))\n",
        "  v=1\n",
        "  while n>=1:\n",
        "    v=v*n\n",
        "    n=n-1  \n",
        "  print(v)  \n"
      ],
      "metadata": {
        "id": "bwNh7XoGv-hW"
      },
      "execution_count": 62,
      "outputs": []
    },
    {
      "cell_type": "code",
      "source": [
        "factt()"
      ],
      "metadata": {
        "colab": {
          "base_uri": "https://localhost:8080/"
        },
        "id": "qxVda4D5xHE2",
        "outputId": "aa75c582-a037-43ba-9586-4789778fdd89"
      },
      "execution_count": 63,
      "outputs": [
        {
          "output_type": "stream",
          "name": "stdout",
          "text": [
            "Enter the number : 4\n",
            "24\n"
          ]
        }
      ]
    },
    {
      "cell_type": "code",
      "source": [
        "factt()"
      ],
      "metadata": {
        "colab": {
          "base_uri": "https://localhost:8080/"
        },
        "id": "AWFcOqwDxJIS",
        "outputId": "6ef5473b-789b-4cfd-fcb4-7332633f242d"
      },
      "execution_count": 65,
      "outputs": [
        {
          "output_type": "stream",
          "name": "stdout",
          "text": [
            "Enter the number : 5\n",
            "120\n"
          ]
        }
      ]
    },
    {
      "cell_type": "code",
      "source": [
        "print(factt())\n",
        "fact()"
      ],
      "metadata": {
        "colab": {
          "base_uri": "https://localhost:8080/"
        },
        "id": "s-gg_N_dyfo0",
        "outputId": "bb93bdb9-5421-4b9c-a792-b15172c0fe79"
      },
      "execution_count": 66,
      "outputs": [
        {
          "output_type": "stream",
          "name": "stdout",
          "text": [
            "Enter the number : 5\n",
            "120\n",
            "None\n",
            "enter a number : 5\n",
            "120\n"
          ]
        }
      ]
    },
    {
      "cell_type": "code",
      "source": [
        "def fact(num):\n",
        "  v= 1\n",
        "  while num>=1:\n",
        "    v=num*v\n",
        "    num=num-1\n",
        "  return v "
      ],
      "metadata": {
        "id": "tKMlK28BzTJW"
      },
      "execution_count": 89,
      "outputs": []
    },
    {
      "cell_type": "code",
      "source": [
        "fact(5)"
      ],
      "metadata": {
        "colab": {
          "base_uri": "https://localhost:8080/"
        },
        "id": "GC3Fl3ck0N1t",
        "outputId": "f6ebefef-2840-4ab2-f81c-4651fef264e4"
      },
      "execution_count": 90,
      "outputs": [
        {
          "output_type": "execute_result",
          "data": {
            "text/plain": [
              "120"
            ]
          },
          "metadata": {},
          "execution_count": 90
        }
      ]
    },
    {
      "cell_type": "code",
      "source": [
        "for i in range(1,5):\n",
        "  print(\"factorial of\",i,\"is:\",fact(i))"
      ],
      "metadata": {
        "colab": {
          "base_uri": "https://localhost:8080/"
        },
        "id": "eBW3WXOUyr-X",
        "outputId": "1889ac9c-d637-40da-884d-531202cd39a5"
      },
      "execution_count": 91,
      "outputs": [
        {
          "output_type": "stream",
          "name": "stdout",
          "text": [
            "factorial of 1 is: 1\n",
            "factorial of 2 is: 2\n",
            "factorial of 3 is: 6\n",
            "factorial of 4 is: 24\n"
          ]
        }
      ]
    },
    {
      "cell_type": "code",
      "source": [
        "for i in range(15,5,-1):\n",
        "   print(\"The Factorial of\",i,\"is :\",fact(i))"
      ],
      "metadata": {
        "colab": {
          "base_uri": "https://localhost:8080/"
        },
        "id": "bJkG1sdPzuDq",
        "outputId": "b00717ed-ebe5-43f6-f85e-247a931fd5c4"
      },
      "execution_count": 94,
      "outputs": [
        {
          "output_type": "stream",
          "name": "stdout",
          "text": [
            "The Factorial of 15 is : 1307674368000\n",
            "The Factorial of 14 is : 87178291200\n",
            "The Factorial of 13 is : 6227020800\n",
            "The Factorial of 12 is : 479001600\n",
            "The Factorial of 11 is : 39916800\n",
            "The Factorial of 10 is : 3628800\n",
            "The Factorial of 9 is : 362880\n",
            "The Factorial of 8 is : 40320\n",
            "The Factorial of 7 is : 5040\n",
            "The Factorial of 6 is : 720\n"
          ]
        }
      ]
    },
    {
      "cell_type": "markdown",
      "source": [
        "## Returning Multiple Values from a Function:"
      ],
      "metadata": {
        "id": "HPoKaIGL2LNG"
      }
    },
    {
      "cell_type": "code",
      "source": [
        "def sum_sub(a,b):\n",
        "  sum = a+b\n",
        "  sub = a-b\n",
        "  return sum,sub"
      ],
      "metadata": {
        "id": "UP-kdQ_81Tsj"
      },
      "execution_count": 97,
      "outputs": []
    },
    {
      "cell_type": "code",
      "source": [
        "sum_sub(150,50)"
      ],
      "metadata": {
        "colab": {
          "base_uri": "https://localhost:8080/"
        },
        "id": "H9ABZOxO2lfV",
        "outputId": "47c0ac20-8dd9-4298-d9a3-aa219c752964"
      },
      "execution_count": 98,
      "outputs": [
        {
          "output_type": "execute_result",
          "data": {
            "text/plain": [
              "(200, 100)"
            ]
          },
          "metadata": {},
          "execution_count": 98
        }
      ]
    },
    {
      "cell_type": "code",
      "source": [
        "sum_sub(500,150)"
      ],
      "metadata": {
        "colab": {
          "base_uri": "https://localhost:8080/"
        },
        "id": "bVMPs9-82679",
        "outputId": "ae63bc89-08ae-413d-ba25-b0730ab927a8"
      },
      "execution_count": 99,
      "outputs": [
        {
          "output_type": "execute_result",
          "data": {
            "text/plain": [
              "(650, 350)"
            ]
          },
          "metadata": {},
          "execution_count": 99
        }
      ]
    },
    {
      "cell_type": "code",
      "source": [
        "def mul_div(a,b):\n",
        "  mul = a*b\n",
        "  div = a/b\n",
        "  print(mul,div)\n",
        "  "
      ],
      "metadata": {
        "id": "N0UQZPlZ3ALP"
      },
      "execution_count": 100,
      "outputs": []
    },
    {
      "cell_type": "code",
      "source": [
        "mul_div(15,5)"
      ],
      "metadata": {
        "colab": {
          "base_uri": "https://localhost:8080/"
        },
        "id": "-qLOeK5l3Spm",
        "outputId": "1e17cedc-71af-43fd-c7f7-7cbf1e3a1507"
      },
      "execution_count": 101,
      "outputs": [
        {
          "output_type": "stream",
          "name": "stdout",
          "text": [
            "75 3.0\n"
          ]
        }
      ]
    },
    {
      "cell_type": "code",
      "source": [
        "def mul_div(a,b):\n",
        "  mul = a*b\n",
        "  div =int(a/b)\n",
        "  return mul,div"
      ],
      "metadata": {
        "id": "YoVhHBTV3Wqc"
      },
      "execution_count": 118,
      "outputs": []
    },
    {
      "cell_type": "code",
      "source": [
        "mul_div(15,5)"
      ],
      "metadata": {
        "colab": {
          "base_uri": "https://localhost:8080/"
        },
        "id": "ZVa_1DxW3d4G",
        "outputId": "0e94c247-7ef3-4163-865f-051b46adc719"
      },
      "execution_count": 119,
      "outputs": [
        {
          "output_type": "execute_result",
          "data": {
            "text/plain": [
              "(75, 3)"
            ]
          },
          "metadata": {},
          "execution_count": 119
        }
      ]
    },
    {
      "cell_type": "code",
      "source": [
        "mul_div(9,3)"
      ],
      "metadata": {
        "colab": {
          "base_uri": "https://localhost:8080/"
        },
        "id": "JwXfxBJR5p5V",
        "outputId": "b42e0d7f-5422-43a6-ddaa-3e22402818eb"
      },
      "execution_count": 120,
      "outputs": [
        {
          "output_type": "execute_result",
          "data": {
            "text/plain": [
              "(27, 3)"
            ]
          },
          "metadata": {},
          "execution_count": 120
        }
      ]
    },
    {
      "cell_type": "code",
      "source": [
        "x,y = sum_sub(10,12)\n",
        "print(\"the sum is :\",x)\n",
        "print(\"the sub is :\",y)\n",
        "\n",
        "\n",
        "m,n = mul_div(120,12)\n",
        "print(\"the mul is :\",m)\n",
        "print(\"the div is :\",n)"
      ],
      "metadata": {
        "colab": {
          "base_uri": "https://localhost:8080/"
        },
        "id": "l3lM5X-v3hUh",
        "outputId": "d08cba75-9f03-4d2b-80f4-54ecee17bb25"
      },
      "execution_count": 123,
      "outputs": [
        {
          "output_type": "stream",
          "name": "stdout",
          "text": [
            "the sum is : 22\n",
            "the sub is : -2\n",
            "the mul is : 1440\n",
            "the div is : 10\n"
          ]
        }
      ]
    },
    {
      "cell_type": "code",
      "source": [
        "m,n=mul_div(12,12)\n",
        "print(\"the multiplication is :\",m)\n",
        "print(\"the division is :\",n)"
      ],
      "metadata": {
        "colab": {
          "base_uri": "https://localhost:8080/"
        },
        "id": "xZVCqpLP307i",
        "outputId": "542c7b0c-a158-4e13-acb2-ef43cb676235"
      },
      "execution_count": 124,
      "outputs": [
        {
          "output_type": "stream",
          "name": "stdout",
          "text": [
            "the multiplication is : 144\n",
            "the division is : 1\n"
          ]
        }
      ]
    },
    {
      "cell_type": "markdown",
      "source": [
        "# Types of Arguments\n",
        "\n",
        "def f1(a,b):\n",
        "\n",
        "-\n",
        "\n",
        "-\n",
        "\n",
        "f1(10,20)\n",
        "\n",
        "a, b are formal arguments where as 10,20 are actual arguments.\n"
      ],
      "metadata": {
        "id": "TwSvFzGJ63Om"
      }
    },
    {
      "cell_type": "markdown",
      "source": [
        "There are 4 types are actual arguments are allowed in Python.\n",
        "\n",
        "* Positional Arguments\n",
        "* Keyword Arguments\n",
        "* Default Arguments\n",
        "* Variable length arguments"
      ],
      "metadata": {
        "id": "kyA8sVTR7aBW"
      }
    },
    {
      "cell_type": "markdown",
      "source": [
        "# Positional Arguments\n",
        "\n",
        "These are the arguments passed to function in correct positional order.\n",
        "\n",
        "def sub(a, b):\n",
        "\n",
        "print(a-b)\n",
        "\n",
        "sub(100, 200)\n",
        "\n",
        "sub(200, 100)\n",
        "\n",
        "The number of arguments and position of arguments must be matched. If we change the order then result may be changed.\n",
        "\n"
      ],
      "metadata": {
        "id": "NNQQu_0F7oOk"
      }
    },
    {
      "cell_type": "code",
      "source": [
        "def sum_sub(x,y):\n",
        "  sum= x+y\n",
        "  sub = x-y\n",
        "  return sum, sub\n"
      ],
      "metadata": {
        "id": "Ljp8tl7z5Zhs"
      },
      "execution_count": 131,
      "outputs": []
    },
    {
      "cell_type": "code",
      "source": [
        "sum_sub(15,5)"
      ],
      "metadata": {
        "colab": {
          "base_uri": "https://localhost:8080/"
        },
        "id": "x4qnG8-P8DTW",
        "outputId": "4737336f-6af5-4cd1-ddb2-63e8af5e4ea1"
      },
      "execution_count": 132,
      "outputs": [
        {
          "output_type": "execute_result",
          "data": {
            "text/plain": [
              "(20, 10)"
            ]
          },
          "metadata": {},
          "execution_count": 132
        }
      ]
    },
    {
      "cell_type": "code",
      "source": [
        "sum_sub(5,15)"
      ],
      "metadata": {
        "colab": {
          "base_uri": "https://localhost:8080/"
        },
        "id": "mS2k22n38JV3",
        "outputId": "e2a3913d-b5e0-4830-d5b4-dabfc04d39a5"
      },
      "execution_count": 133,
      "outputs": [
        {
          "output_type": "execute_result",
          "data": {
            "text/plain": [
              "(20, -10)"
            ]
          },
          "metadata": {},
          "execution_count": 133
        }
      ]
    },
    {
      "cell_type": "code",
      "source": [
        "sum_sub(200,100)"
      ],
      "metadata": {
        "colab": {
          "base_uri": "https://localhost:8080/"
        },
        "id": "ufHfaKfp8L2R",
        "outputId": "aab06da7-381c-4e43-f6c7-5dfb19aa030f"
      },
      "execution_count": 134,
      "outputs": [
        {
          "output_type": "execute_result",
          "data": {
            "text/plain": [
              "(300, 100)"
            ]
          },
          "metadata": {},
          "execution_count": 134
        }
      ]
    },
    {
      "cell_type": "code",
      "source": [
        "sum_sub(100,200)"
      ],
      "metadata": {
        "colab": {
          "base_uri": "https://localhost:8080/"
        },
        "id": "p5Tacbvt8ULN",
        "outputId": "099fe2db-9283-4ec7-ac0a-b7cc807228a3"
      },
      "execution_count": 135,
      "outputs": [
        {
          "output_type": "execute_result",
          "data": {
            "text/plain": [
              "(300, -100)"
            ]
          },
          "metadata": {},
          "execution_count": 135
        }
      ]
    },
    {
      "cell_type": "markdown",
      "source": [
        "## 2. Keyword Arguments:\n",
        "\n",
        "We can pass argument values by keyword i.e by parameter name."
      ],
      "metadata": {
        "id": "OPguG92e8ePz"
      }
    },
    {
      "cell_type": "code",
      "source": [
        "def wish(name,message):\n",
        "  print(\"Hello\",name,message)\n"
      ],
      "metadata": {
        "id": "1Sjssxnb8dsX"
      },
      "execution_count": 140,
      "outputs": []
    },
    {
      "cell_type": "code",
      "source": [
        "wish(message=\"hello\",name = \"rahul\")"
      ],
      "metadata": {
        "colab": {
          "base_uri": "https://localhost:8080/"
        },
        "id": "LeTrj87C8W9m",
        "outputId": "81ffd87c-d12d-4ae8-b40f-a5f66d10b8ce"
      },
      "execution_count": 141,
      "outputs": [
        {
          "output_type": "stream",
          "name": "stdout",
          "text": [
            "Hello rahul hello\n"
          ]
        }
      ]
    },
    {
      "cell_type": "code",
      "source": [
        "wish(name=\"rahul\",message=\"hello\") #position change does not matters"
      ],
      "metadata": {
        "colab": {
          "base_uri": "https://localhost:8080/"
        },
        "id": "Ky9AKICt-NVa",
        "outputId": "d7c7cb50-0c97-445f-8b7a-da224e81be3a"
      },
      "execution_count": 144,
      "outputs": [
        {
          "output_type": "stream",
          "name": "stdout",
          "text": [
            "Hello rahul hello\n"
          ]
        }
      ]
    },
    {
      "cell_type": "markdown",
      "source": [
        "## 3. Default Arguments:\n",
        "\n",
        "Sometimes we can provide default values for our positional arguments."
      ],
      "metadata": {
        "id": "DSfgqaGs_n1y"
      }
    },
    {
      "cell_type": "code",
      "source": [
        "def wish(name=\" \"):\n",
        "  print(\"Hello\",name,\"Good Morning\")"
      ],
      "metadata": {
        "id": "jvCM4-qg-jDK"
      },
      "execution_count": 160,
      "outputs": []
    },
    {
      "cell_type": "code",
      "source": [
        "wish(\"sandeep\")"
      ],
      "metadata": {
        "colab": {
          "base_uri": "https://localhost:8080/"
        },
        "id": "kisRUTx0AITO",
        "outputId": "54a61be9-a4ce-4505-bde8-c2c6abb187cc"
      },
      "execution_count": 161,
      "outputs": [
        {
          "output_type": "stream",
          "name": "stdout",
          "text": [
            "Hello sandeep Good Morning\n"
          ]
        }
      ]
    },
    {
      "cell_type": "code",
      "source": [
        "wish()"
      ],
      "metadata": {
        "colab": {
          "base_uri": "https://localhost:8080/"
        },
        "id": "7_6CV0CzANzF",
        "outputId": "87add95e-d0d9-4bdc-c44f-764d1a346630"
      },
      "execution_count": 162,
      "outputs": [
        {
          "output_type": "stream",
          "name": "stdout",
          "text": [
            "Hello   Good Morning\n"
          ]
        }
      ]
    },
    {
      "cell_type": "code",
      "source": [
        "def hgr(name = \"Guest\"):\n",
        "  print(\"Hello\",name,\"How are you.?\")"
      ],
      "metadata": {
        "id": "3xynSGn9At23"
      },
      "execution_count": 163,
      "outputs": []
    },
    {
      "cell_type": "code",
      "source": [
        "hgr(\"sandeep\")"
      ],
      "metadata": {
        "colab": {
          "base_uri": "https://localhost:8080/"
        },
        "id": "KK-YBgGXBUEu",
        "outputId": "f4983538-eb8e-493d-fe66-ff4d872d8f21"
      },
      "execution_count": 164,
      "outputs": [
        {
          "output_type": "stream",
          "name": "stdout",
          "text": [
            "Hello sandeep How are you.?\n"
          ]
        }
      ]
    },
    {
      "cell_type": "code",
      "source": [
        "hgr()"
      ],
      "metadata": {
        "colab": {
          "base_uri": "https://localhost:8080/"
        },
        "id": "xrrszLKABYsX",
        "outputId": "2a50e994-7b5e-4951-99c0-6f8fbc8c8012"
      },
      "execution_count": 165,
      "outputs": [
        {
          "output_type": "stream",
          "name": "stdout",
          "text": [
            "Hello Guest How are you.?\n"
          ]
        }
      ]
    },
    {
      "cell_type": "markdown",
      "source": [
        "## 4. Variable Length Arguments:\n",
        "\n",
        "Sometimes we can pass variable number of arguments to our function, such type of arguments are called variable length arguments.\n",
        "\n",
        "We can declare a variable length argument with * symbol as follows\n",
        "\n",
        "def f1(*n):\n",
        "\n",
        "We can call this function by passing any number of arguments including zero number.\n",
        "\n",
        "Internally all these values represented in the form of tuple."
      ],
      "metadata": {
        "id": "e1dbF1idBf5k"
      }
    },
    {
      "cell_type": "code",
      "source": [
        "def sum (*n):\n",
        "  total = 0\n",
        "  for i in n:\n",
        "    total = total+i\n",
        "  return total"
      ],
      "metadata": {
        "id": "0bT-rGQgBaPZ"
      },
      "execution_count": 168,
      "outputs": []
    },
    {
      "cell_type": "code",
      "source": [
        "sum(10,15,16,19)"
      ],
      "metadata": {
        "colab": {
          "base_uri": "https://localhost:8080/"
        },
        "id": "j0u4fvhnFo8q",
        "outputId": "434a4407-5388-44df-8584-0dfb66f98ff4"
      },
      "execution_count": 169,
      "outputs": [
        {
          "output_type": "execute_result",
          "data": {
            "text/plain": [
              "60"
            ]
          },
          "metadata": {},
          "execution_count": 169
        }
      ]
    },
    {
      "cell_type": "code",
      "source": [
        "sum(10,10,10,10)"
      ],
      "metadata": {
        "colab": {
          "base_uri": "https://localhost:8080/"
        },
        "id": "LlpTqFi0FspJ",
        "outputId": "ec3d4537-2918-4028-8465-f561eece5430"
      },
      "execution_count": 170,
      "outputs": [
        {
          "output_type": "execute_result",
          "data": {
            "text/plain": [
              "40"
            ]
          },
          "metadata": {},
          "execution_count": 170
        }
      ]
    },
    {
      "cell_type": "code",
      "source": [
        "sum()"
      ],
      "metadata": {
        "colab": {
          "base_uri": "https://localhost:8080/"
        },
        "id": "7ba3vs5aF4C1",
        "outputId": "a2c05895-5a3c-43cb-df60-24c465607c78"
      },
      "execution_count": 171,
      "outputs": [
        {
          "output_type": "execute_result",
          "data": {
            "text/plain": [
              "0"
            ]
          },
          "metadata": {},
          "execution_count": 171
        }
      ]
    },
    {
      "cell_type": "code",
      "source": [
        "# We can mix variable length arguments with positional arguments.\n",
        "\n",
        "def grh(n,*v):\n",
        "  print(n)\n",
        "  for i in v:\n",
        "    print(i)"
      ],
      "metadata": {
        "id": "2fKg__KAF_Rh"
      },
      "execution_count": 182,
      "outputs": []
    },
    {
      "cell_type": "code",
      "source": [
        "grh(15,15,15,14,15,45)"
      ],
      "metadata": {
        "colab": {
          "base_uri": "https://localhost:8080/"
        },
        "id": "KG5cTVAfGuIY",
        "outputId": "2c4bd4dc-39e3-46ab-8c47-49ef31d6e208"
      },
      "execution_count": 183,
      "outputs": [
        {
          "output_type": "stream",
          "name": "stdout",
          "text": [
            "15\n",
            "15\n",
            "15\n",
            "14\n",
            "15\n",
            "45\n"
          ]
        }
      ]
    },
    {
      "cell_type": "code",
      "source": [
        "grh(15,25,63,21,45,85,69)"
      ],
      "metadata": {
        "colab": {
          "base_uri": "https://localhost:8080/"
        },
        "id": "BqqO4ibdGx2A",
        "outputId": "c651eaee-6015-47ed-b89c-ce5bdec60f6a"
      },
      "execution_count": 179,
      "outputs": [
        {
          "output_type": "stream",
          "name": "stdout",
          "text": [
            "15\n",
            "25\n",
            "63\n",
            "21\n",
            "45\n",
            "85\n",
            "69\n"
          ]
        }
      ]
    },
    {
      "cell_type": "markdown",
      "source": [
        "Note: After variable length argument,if we are taking any other arguments then we should provide values as keyword arguments."
      ],
      "metadata": {
        "id": "HuI2HrDRHWQO"
      }
    },
    {
      "cell_type": "code",
      "source": [
        "def ggg(*v,n):\n",
        "  for i in v:\n",
        "    print(i)\n",
        "  print(n)  "
      ],
      "metadata": {
        "id": "ZwfnU8xgHGwQ"
      },
      "execution_count": 185,
      "outputs": []
    },
    {
      "cell_type": "code",
      "source": [
        "ggg(12,15,14,15,16,n=45)"
      ],
      "metadata": {
        "colab": {
          "base_uri": "https://localhost:8080/"
        },
        "id": "tzhKBKorIdM1",
        "outputId": "f596165a-cc44-49df-cb2c-5f0b4958213a"
      },
      "execution_count": 186,
      "outputs": [
        {
          "output_type": "stream",
          "name": "stdout",
          "text": [
            "12\n",
            "15\n",
            "14\n",
            "15\n",
            "16\n",
            "45\n"
          ]
        }
      ]
    },
    {
      "cell_type": "code",
      "source": [
        "def ghg(*g,n): #here we add the argument elents\n",
        "  p=0\n",
        "  for i in g:\n",
        "    p=p+i\n",
        "    i+=1\n",
        "  return p,n"
      ],
      "metadata": {
        "id": "Vj5dnBDjIkzR"
      },
      "execution_count": 189,
      "outputs": []
    },
    {
      "cell_type": "code",
      "source": [
        "ghg(12,15,14,18,19,n=26)"
      ],
      "metadata": {
        "colab": {
          "base_uri": "https://localhost:8080/"
        },
        "id": "Re2ATJNgI-aF",
        "outputId": "0cd5224e-e344-447e-b10c-c4f960df9260"
      },
      "execution_count": 190,
      "outputs": [
        {
          "output_type": "execute_result",
          "data": {
            "text/plain": [
              "(78, 26)"
            ]
          },
          "metadata": {},
          "execution_count": 190
        }
      ]
    },
    {
      "cell_type": "markdown",
      "source": [
        "# Note: We can declare key word variable length arguments also.\n",
        "\n",
        "We can call this function by passing any number of keyword arguments. Internally these keyword arguments will be stored inside a dictionary."
      ],
      "metadata": {
        "id": "2z8yboRbOQvt"
      }
    },
    {
      "cell_type": "code",
      "source": [
        "def display(**kwargs):\n",
        "  for i,j in kwargs.items():\n",
        "    print(i,'=',j)"
      ],
      "metadata": {
        "id": "CJSHkAzVJIhG"
      },
      "execution_count": 195,
      "outputs": []
    },
    {
      "cell_type": "code",
      "source": [
        "display(a=10,b=15,c=20)"
      ],
      "metadata": {
        "colab": {
          "base_uri": "https://localhost:8080/"
        },
        "id": "5FBHeEE7PO57",
        "outputId": "5d546b37-3bfe-49ba-81cb-ac1743c349b6"
      },
      "execution_count": 196,
      "outputs": [
        {
          "output_type": "stream",
          "name": "stdout",
          "text": [
            "a = 10\n",
            "b = 15\n",
            "c = 20\n"
          ]
        }
      ]
    },
    {
      "cell_type": "code",
      "source": [
        "def show(**ght):\n",
        "  for a,b in ght.items():\n",
        "    print(a,'=',b)"
      ],
      "metadata": {
        "id": "4TvcT5kDPTr8"
      },
      "execution_count": 199,
      "outputs": []
    },
    {
      "cell_type": "code",
      "source": [
        "show(a=12,d=45,g=48)"
      ],
      "metadata": {
        "colab": {
          "base_uri": "https://localhost:8080/"
        },
        "id": "0VeUNIivP6ZA",
        "outputId": "dbb233ce-d739-4755-cc46-cf02f11e3692"
      },
      "execution_count": 200,
      "outputs": [
        {
          "output_type": "stream",
          "name": "stdout",
          "text": [
            "a = 12\n",
            "d = 45\n",
            "g = 48\n"
          ]
        }
      ]
    },
    {
      "cell_type": "markdown",
      "source": [
        "Note: Function vs Module vs Library\n",
        "\n",
        "A group of lines with some name is called a function\n",
        "\n",
        "A group of functions saved to a file, is called Module\n",
        "\n",
        "A group of Modules is nothing but Library"
      ],
      "metadata": {
        "id": "EyiAnIyzQH1v"
      }
    },
    {
      "cell_type": "markdown",
      "source": [
        "# Types of Variables\n",
        "\n",
        "Python supports 2 types of variables.\n",
        "\n",
        "1. Global Variables\n",
        "\n",
        "2. Local Variables"
      ],
      "metadata": {
        "id": "TT9FXLSGRGdM"
      }
    },
    {
      "cell_type": "code",
      "source": [
        "# global variables define outside the function\n",
        "\n",
        "x= 10\n",
        "def sum():\n",
        "  b=15\n",
        "  print(x+b)"
      ],
      "metadata": {
        "id": "CknDDQjYP-Rb"
      },
      "execution_count": 204,
      "outputs": []
    },
    {
      "cell_type": "code",
      "source": [
        "sum() #we can access global variable in function but not vice versa."
      ],
      "metadata": {
        "colab": {
          "base_uri": "https://localhost:8080/"
        },
        "id": "KQL-Eb4qRgvH",
        "outputId": "5c467094-b495-47ee-cde7-436bc3e8676c"
      },
      "execution_count": 205,
      "outputs": [
        {
          "output_type": "stream",
          "name": "stdout",
          "text": [
            "25\n"
          ]
        }
      ]
    },
    {
      "cell_type": "code",
      "source": [
        "x"
      ],
      "metadata": {
        "colab": {
          "base_uri": "https://localhost:8080/"
        },
        "id": "qhBhkx0sRiqy",
        "outputId": "e312afea-0630-4ec4-fad8-5e8b7ccd4689"
      },
      "execution_count": 209,
      "outputs": [
        {
          "output_type": "execute_result",
          "data": {
            "text/plain": [
              "10"
            ]
          },
          "metadata": {},
          "execution_count": 209
        }
      ]
    },
    {
      "cell_type": "markdown",
      "source": [
        "# Local Variables:\n",
        "\n",
        "1. The variables which are declared inside a function are called local variables.\n",
        "\n",
        "2. Local variables are available only for the function in which we declared it."
      ],
      "metadata": {
        "id": "vU1vs2vDSJla"
      }
    },
    {
      "cell_type": "code",
      "source": [
        "def hi():\n",
        "  a=45\n",
        "  print(a)"
      ],
      "metadata": {
        "id": "MYCcNPzXR6hF"
      },
      "execution_count": 213,
      "outputs": []
    },
    {
      "cell_type": "code",
      "source": [
        "a #Local variables are available only for the function in which we declared it."
      ],
      "metadata": {
        "colab": {
          "base_uri": "https://localhost:8080/",
          "height": 165
        },
        "id": "-WJY3rlxR8A2",
        "outputId": "d926d4ff-f1f1-4ddb-a13e-ec787d7e26ca"
      },
      "execution_count": 212,
      "outputs": [
        {
          "output_type": "error",
          "ename": "NameError",
          "evalue": "ignored",
          "traceback": [
            "\u001b[0;31m---------------------------------------------------------------------------\u001b[0m",
            "\u001b[0;31mNameError\u001b[0m                                 Traceback (most recent call last)",
            "\u001b[0;32m<ipython-input-212-8d371f4f1548>\u001b[0m in \u001b[0;36m<module>\u001b[0;34m()\u001b[0m\n\u001b[0;32m----> 1\u001b[0;31m \u001b[0ma\u001b[0m \u001b[0;31m#Local variables are available only for the function in which we declared it.\u001b[0m\u001b[0;34m\u001b[0m\u001b[0;34m\u001b[0m\u001b[0m\n\u001b[0m",
            "\u001b[0;31mNameError\u001b[0m: name 'a' is not defined"
          ]
        }
      ]
    },
    {
      "cell_type": "code",
      "source": [
        "hi()"
      ],
      "metadata": {
        "colab": {
          "base_uri": "https://localhost:8080/"
        },
        "id": "OAzoAekOTF22",
        "outputId": "09f24309-71ca-4d7e-ac71-2a80456bcd3f"
      },
      "execution_count": 214,
      "outputs": [
        {
          "output_type": "stream",
          "name": "stdout",
          "text": [
            "45\n"
          ]
        }
      ]
    },
    {
      "cell_type": "code",
      "source": [
        "\"\"\"Note: If global variable and local variable having the same name then we can access\n",
        "  global variable inside a function as follows\"\"\"\n",
        "\n",
        "a= 120 #global variable\n",
        "def hello():\n",
        "  a=652  #local variable\n",
        "  print(a)\n"
      ],
      "metadata": {
        "id": "7TUqKn-PTb0h"
      },
      "execution_count": 215,
      "outputs": []
    },
    {
      "cell_type": "code",
      "source": [
        "hello()"
      ],
      "metadata": {
        "colab": {
          "base_uri": "https://localhost:8080/"
        },
        "id": "5KjQZ2qATTvq",
        "outputId": "fe7099fc-1a71-462c-8215-6c617573aa39"
      },
      "execution_count": 216,
      "outputs": [
        {
          "output_type": "stream",
          "name": "stdout",
          "text": [
            "652\n"
          ]
        }
      ]
    },
    {
      "cell_type": "code",
      "source": [
        "a=120 #global variable\n",
        "def hello():\n",
        "  a=652 #local variable\n",
        "  print(a)\n",
        "  print(globals()[\"a\"])\n",
        "  "
      ],
      "metadata": {
        "id": "gVCYXUxBTqWv"
      },
      "execution_count": 219,
      "outputs": []
    },
    {
      "cell_type": "code",
      "source": [
        "hello()"
      ],
      "metadata": {
        "colab": {
          "base_uri": "https://localhost:8080/"
        },
        "id": "QAErUSc2UHkJ",
        "outputId": "3ae3b78e-848d-4978-f9de-166b6ce6d748"
      },
      "execution_count": 220,
      "outputs": [
        {
          "output_type": "stream",
          "name": "stdout",
          "text": [
            "652\n",
            "120\n"
          ]
        }
      ]
    },
    {
      "cell_type": "markdown",
      "source": [
        "# Recursive Function:\n",
        "\n",
        "A function that calls itself is known as Recursive Function.\n",
        "\n",
        "Main advantages of recursive functions are:\n",
        "\n",
        "1. We can reduce length of the code and improves readability.\n",
        "2. We can solve complex problems very easily.\n",
        "E.g.\n",
        "\n",
        "factorial(3) = 3 * factorial(2)\n",
        "\n",
        "= 3 * 2 * factorial(1)\n",
        "\n",
        "=321*factorial(0)\n",
        "\n",
        "=321*1\n",
        "\n",
        "=6\n",
        "\n",
        "factorial(n) = n * factorial(n-1)"
      ],
      "metadata": {
        "id": "ROcLJJXuYTFT"
      }
    },
    {
      "cell_type": "code",
      "source": [
        "'''Write a Python Function to find Factorial of given\n",
        "  Number with Recursion'''\n",
        "\n",
        "def factorial(n):\n",
        "  if n==0:\n",
        "    result=1\n",
        "  else:\n",
        "    result= n*factorial(n-1)\n",
        "  return result"
      ],
      "metadata": {
        "id": "sjAXNkhWUVxe"
      },
      "execution_count": 236,
      "outputs": []
    },
    {
      "cell_type": "code",
      "source": [
        "factorial(4)"
      ],
      "metadata": {
        "colab": {
          "base_uri": "https://localhost:8080/"
        },
        "id": "5hzNOlAcaR7K",
        "outputId": "4c3154c1-ae5f-4f37-b3f1-8a8ee6a8126d"
      },
      "execution_count": 229,
      "outputs": [
        {
          "output_type": "execute_result",
          "data": {
            "text/plain": [
              "24"
            ]
          },
          "metadata": {},
          "execution_count": 229
        }
      ]
    },
    {
      "cell_type": "code",
      "source": [
        "factorial(5)"
      ],
      "metadata": {
        "colab": {
          "base_uri": "https://localhost:8080/"
        },
        "id": "jZS1dCD7bPLb",
        "outputId": "54bb2f14-587a-48c4-c89b-3bb558b581e5"
      },
      "execution_count": 237,
      "outputs": [
        {
          "output_type": "execute_result",
          "data": {
            "text/plain": [
              "120"
            ]
          },
          "metadata": {},
          "execution_count": 237
        }
      ]
    },
    {
      "cell_type": "code",
      "source": [
        "print(\"factorial of 5 is: \",factorial(5))"
      ],
      "metadata": {
        "colab": {
          "base_uri": "https://localhost:8080/"
        },
        "id": "H3LsOp5abtI7",
        "outputId": "d5616552-760f-4134-e712-8bdb0f2a93f6"
      },
      "execution_count": 238,
      "outputs": [
        {
          "output_type": "stream",
          "name": "stdout",
          "text": [
            "factorial of 5 is:  120\n"
          ]
        }
      ]
    },
    {
      "cell_type": "code",
      "source": [
        "print(\"factorial of 10 is :\",factorial(10))"
      ],
      "metadata": {
        "colab": {
          "base_uri": "https://localhost:8080/"
        },
        "id": "ITtkAnbNcCCJ",
        "outputId": "65674564-eebe-4281-b7e6-3c866365c508"
      },
      "execution_count": 239,
      "outputs": [
        {
          "output_type": "stream",
          "name": "stdout",
          "text": [
            "factorial of 10 is : 3628800\n"
          ]
        }
      ]
    },
    {
      "cell_type": "markdown",
      "source": [
        "## Anonymous Functions:(Lambda Function)\n",
        "\n",
        "Sometimes we can declare a function without any name,such type of nameless functions are called anonymous functions or lambda functions.\n",
        "\n",
        "The main purpose of anonymous function is just for instant use(i.e for one time usage)\n",
        "\n",
        "We can define by using lambda keyword\n",
        "\n",
        "lambda n:n*n\n",
        "\n",
        "SyntaxoflambdaFunction:lambda argument_list:expression\n",
        "\n",
        "Note: By using Lambda Functions we can write very concise code so that readability of the program will be improved."
      ],
      "metadata": {
        "id": "1ZZou-_tckP0"
      }
    },
    {
      "cell_type": "code",
      "source": [
        "'''Q) Write a Program to create a Lambda Function to find Square of\n",
        "  given Number?'''\n",
        "s = lambda n:n*n\n",
        "\n",
        "s(5) #sqr of 5"
      ],
      "metadata": {
        "colab": {
          "base_uri": "https://localhost:8080/"
        },
        "id": "6T6uytiGdkJl",
        "outputId": "ff2e485f-88c2-4d6a-ff30-f35dbef8e2be"
      },
      "execution_count": 241,
      "outputs": [
        {
          "output_type": "execute_result",
          "data": {
            "text/plain": [
              "25"
            ]
          },
          "metadata": {},
          "execution_count": 241
        }
      ]
    },
    {
      "cell_type": "code",
      "source": [
        "s(10)"
      ],
      "metadata": {
        "colab": {
          "base_uri": "https://localhost:8080/"
        },
        "id": "0vYYjueOd45A",
        "outputId": "3feed4cc-1edf-439f-8132-a02fcea12b99"
      },
      "execution_count": 242,
      "outputs": [
        {
          "output_type": "execute_result",
          "data": {
            "text/plain": [
              "100"
            ]
          },
          "metadata": {},
          "execution_count": 242
        }
      ]
    },
    {
      "cell_type": "code",
      "source": [
        "print(\"squr of 15 is :\",s(15))"
      ],
      "metadata": {
        "colab": {
          "base_uri": "https://localhost:8080/"
        },
        "id": "umzoV5T4d6Xo",
        "outputId": "01050c29-b720-465e-9178-3cd51b045898"
      },
      "execution_count": 244,
      "outputs": [
        {
          "output_type": "stream",
          "name": "stdout",
          "text": [
            "squr of 15 is : 225\n"
          ]
        }
      ]
    },
    {
      "cell_type": "code",
      "source": [
        "for i in range(9,15):\n",
        "  print(\"squr of \",i,\"is :\",s(i))"
      ],
      "metadata": {
        "colab": {
          "base_uri": "https://localhost:8080/"
        },
        "id": "tr3ko1b4eMrC",
        "outputId": "a0359a26-91cb-4a41-bc43-da85c81cef43"
      },
      "execution_count": 245,
      "outputs": [
        {
          "output_type": "stream",
          "name": "stdout",
          "text": [
            "squr of  9 is : 81\n",
            "squr of  10 is : 100\n",
            "squr of  11 is : 121\n",
            "squr of  12 is : 144\n",
            "squr of  13 is : 169\n",
            "squr of  14 is : 196\n"
          ]
        }
      ]
    },
    {
      "cell_type": "code",
      "source": [
        "'''Q) Lambda Function to find Sum of 2 given Numbers'''\n",
        "a = lambda p,q:p+q\n"
      ],
      "metadata": {
        "id": "V5Bv_JYPek2V"
      },
      "execution_count": 252,
      "outputs": []
    },
    {
      "cell_type": "code",
      "source": [
        "a(15,16)"
      ],
      "metadata": {
        "colab": {
          "base_uri": "https://localhost:8080/"
        },
        "id": "7bVoK2jrfapg",
        "outputId": "1e9cba84-6eee-4c32-f747-aead4f46e009"
      },
      "execution_count": 253,
      "outputs": [
        {
          "output_type": "execute_result",
          "data": {
            "text/plain": [
              "31"
            ]
          },
          "metadata": {},
          "execution_count": 253
        }
      ]
    },
    {
      "cell_type": "code",
      "source": [
        "print(\"the addition of 20 and 30 is:\",a(20,30))"
      ],
      "metadata": {
        "colab": {
          "base_uri": "https://localhost:8080/"
        },
        "id": "oD7-gLUsfeaM",
        "outputId": "3a1cdf01-c6ab-42c1-e742-bbb2b2252315"
      },
      "execution_count": 255,
      "outputs": [
        {
          "output_type": "stream",
          "name": "stdout",
          "text": [
            "the addition of 20 and 30 is: 50\n"
          ]
        }
      ]
    },
    {
      "cell_type": "code",
      "source": [
        "print(\"the sum of 485 and 152 is :\",a(485,152))"
      ],
      "metadata": {
        "colab": {
          "base_uri": "https://localhost:8080/"
        },
        "id": "_GQU_VE2gip1",
        "outputId": "f3b25567-9b26-4c1d-b437-d228d1ec05cc"
      },
      "execution_count": 258,
      "outputs": [
        {
          "output_type": "stream",
          "name": "stdout",
          "text": [
            "the sum of 485 and 152 is : 637\n"
          ]
        }
      ]
    },
    {
      "cell_type": "code",
      "source": [
        "'''Q) Lambda Function to find biggest of given Values'''\n",
        "\n",
        "a = lambda a,b,c: a if a>b and a>ce else b if b>c else c "
      ],
      "metadata": {
        "id": "oz36BrIog0TU"
      },
      "execution_count": 262,
      "outputs": []
    },
    {
      "cell_type": "code",
      "source": [
        "a(15,48,56)"
      ],
      "metadata": {
        "colab": {
          "base_uri": "https://localhost:8080/"
        },
        "id": "o_FFE1zghpFl",
        "outputId": "2aa1f794-3f22-422a-c776-0ca18c0ccc18"
      },
      "execution_count": 263,
      "outputs": [
        {
          "output_type": "execute_result",
          "data": {
            "text/plain": [
              "56"
            ]
          },
          "metadata": {},
          "execution_count": 263
        }
      ]
    },
    {
      "cell_type": "code",
      "source": [
        "a(5,85,96)"
      ],
      "metadata": {
        "colab": {
          "base_uri": "https://localhost:8080/"
        },
        "id": "hC5ud0pKioeN",
        "outputId": "14b20cac-05b3-4f98-8643-1527ef679181"
      },
      "execution_count": 264,
      "outputs": [
        {
          "output_type": "execute_result",
          "data": {
            "text/plain": [
              "96"
            ]
          },
          "metadata": {},
          "execution_count": 264
        }
      ]
    },
    {
      "cell_type": "code",
      "source": [
        "a(89,89.52,89.5)"
      ],
      "metadata": {
        "colab": {
          "base_uri": "https://localhost:8080/"
        },
        "id": "hE7tGfQxiuW1",
        "outputId": "573738fe-ccbc-44a7-f82b-b756e5889129"
      },
      "execution_count": 265,
      "outputs": [
        {
          "output_type": "execute_result",
          "data": {
            "text/plain": [
              "89.52"
            ]
          },
          "metadata": {},
          "execution_count": 265
        }
      ]
    },
    {
      "cell_type": "code",
      "source": [
        "print(\"the biggest number in 45,69,65 is :\", a(45,69,65))\n",
        "print(\"the biggest number in 48,56,26 is :\",a(48,56,26),end=\"\\t\")"
      ],
      "metadata": {
        "colab": {
          "base_uri": "https://localhost:8080/"
        },
        "id": "pYRkIT9miy53",
        "outputId": "f1db89a6-fbbe-4bbb-f3ff-f1032da45036"
      },
      "execution_count": 268,
      "outputs": [
        {
          "output_type": "stream",
          "name": "stdout",
          "text": [
            "the biggest number in 45,69,65 is : 69\n",
            "the biggest number in 48,56,26 is : 56\t"
          ]
        }
      ]
    },
    {
      "cell_type": "markdown",
      "source": [
        "Note: Lambda Function internally returns expression value and we are not required to write return statement explicitly.\n",
        "\n",
        "We can use lambda functions very commonly with filter(), map() and reduce() functions, because these functions expect function as argument."
      ],
      "metadata": {
        "id": "uQw7uU4cjbIc"
      }
    },
    {
      "cell_type": "code",
      "source": [
        ""
      ],
      "metadata": {
        "id": "5uTJh8tajCzh"
      },
      "execution_count": null,
      "outputs": []
    }
  ]
}
