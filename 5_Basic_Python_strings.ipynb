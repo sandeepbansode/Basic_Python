{
  "cells": [
    {
      "cell_type": "markdown",
      "metadata": {
        "id": "view-in-github",
        "colab_type": "text"
      },
      "source": [
        "<a href=\"https://colab.research.google.com/github/sandeepbansode/Basic_Python/blob/main/5_Python_basic_strings.ipynb\" target=\"_parent\"><img src=\"https://colab.research.google.com/assets/colab-badge.svg\" alt=\"Open In Colab\"/></a>"
      ]
    },
    {
      "cell_type": "markdown",
      "metadata": {
        "id": "0uE8wPQ5g_Bo"
      },
      "source": [
        "# **String**\n",
        "\n",
        "* Any sequence of characters within either single quotes or double quotes is considered as a String.\n",
        "\n",
        "* We can define multi-line String literals by using triple single or double quotes.\n",
        "\n",
        "* We can also use triple quotes to use single quotes or double quotes as symbol inside String literal\n",
        "\n",
        "* Square brackets can be used to access elements of the string."
      ]
    },
    {
      "cell_type": "code",
      "execution_count": null,
      "metadata": {
        "colab": {
          "background_save": true,
          "base_uri": "https://localhost:8080/",
          "height": 70
        },
        "id": "9oqZ5cMoe4Ia",
        "outputId": "a2d030ac-77ff-44f2-cc80-da845f6ac42e"
      },
      "outputs": [
        {
          "name": "stdout",
          "output_type": "stream",
          "text": [
            "hello\n",
            "hello\n"
          ]
        },
        {
          "data": {
            "application/vnd.google.colaboratory.intrinsic+json": {
              "type": "string"
            },
            "text/plain": [
              "' hello\\n      world'"
            ]
          },
          "execution_count": null,
          "metadata": {},
          "output_type": "execute_result"
        }
      ],
      "source": [
        "a = 'hello'\n",
        "b = \"hello\"\n",
        "c = \"\"\" hello\n",
        "      world\"\"\"\n",
        "\n",
        "print(a)\n",
        "print(b)\n",
        "c"
      ]
    },
    {
      "cell_type": "code",
      "execution_count": null,
      "metadata": {
        "colab": {
          "background_save": true
        },
        "id": "qX02vE-AiZ-J"
      },
      "outputs": [],
      "source": [
        ""
      ]
    },
    {
      "cell_type": "markdown",
      "metadata": {
        "id": "GD-C-QoVjVpR"
      },
      "source": [
        "### **How to access characters of a string?**\n",
        "\n",
        " We can access characters of a string by using the following ways.\n",
        "* By using index\n",
        "* By using slice operator"
      ]
    },
    {
      "cell_type": "code",
      "execution_count": 5,
      "metadata": {
        "colab": {
          "base_uri": "https://localhost:8080/",
          "height": 35
        },
        "id": "5kJfae3ajnXB",
        "outputId": "5654d67d-e954-4932-8a2b-390a87efdfbc"
      },
      "outputs": [
        {
          "output_type": "execute_result",
          "data": {
            "text/plain": [
              "'h'"
            ],
            "application/vnd.google.colaboratory.intrinsic+json": {
              "type": "string"
            }
          },
          "metadata": {},
          "execution_count": 5
        }
      ],
      "source": [
        "#accesing characters by using index\n",
        "x= \"hi, how are you?\"\n",
        "x[0]"
      ]
    },
    {
      "cell_type": "code",
      "execution_count": 6,
      "metadata": {
        "colab": {
          "base_uri": "https://localhost:8080/",
          "height": 35
        },
        "id": "6Uy-siA2j8W4",
        "outputId": "de87d93a-e193-4741-adf9-c0180b23ae5e"
      },
      "outputs": [
        {
          "output_type": "execute_result",
          "data": {
            "text/plain": [
              "'?'"
            ],
            "application/vnd.google.colaboratory.intrinsic+json": {
              "type": "string"
            }
          },
          "metadata": {},
          "execution_count": 6
        }
      ],
      "source": [
        "#-ve indicing begins from right side\n",
        "x[-1]       #starts with 1 not zero"
      ]
    },
    {
      "cell_type": "code",
      "execution_count": 7,
      "metadata": {
        "id": "gqvppnUmktlO"
      },
      "outputs": [],
      "source": [
        "#accesing charactors by using slic\n",
        "#syntax [beginning index:end index:Step]\n"
      ]
    },
    {
      "cell_type": "code",
      "execution_count": 8,
      "metadata": {
        "id": "0N-mzaVAnA7M",
        "colab": {
          "base_uri": "https://localhost:8080/",
          "height": 35
        },
        "outputId": "c725f57c-049a-42f5-aff0-9944a75fc8b7"
      },
      "outputs": [
        {
          "output_type": "execute_result",
          "data": {
            "text/plain": [
              "'i, h'"
            ],
            "application/vnd.google.colaboratory.intrinsic+json": {
              "type": "string"
            }
          },
          "metadata": {},
          "execution_count": 8
        }
      ],
      "source": [
        "x[1:5]"
      ]
    },
    {
      "cell_type": "code",
      "execution_count": 9,
      "metadata": {
        "colab": {
          "base_uri": "https://localhost:8080/",
          "height": 35
        },
        "id": "geZopw8f1p1w",
        "outputId": "61f537b1-e379-44b2-8cd0-427ffe8898e3"
      },
      "outputs": [
        {
          "output_type": "execute_result",
          "data": {
            "text/plain": [
              "'hi, how are you?'"
            ],
            "application/vnd.google.colaboratory.intrinsic+json": {
              "type": "string"
            }
          },
          "metadata": {},
          "execution_count": 9
        }
      ],
      "source": [
        "x[:]"
      ]
    },
    {
      "cell_type": "code",
      "source": [
        "\n",
        "x[2:4:-1]"
      ],
      "metadata": {
        "colab": {
          "base_uri": "https://localhost:8080/",
          "height": 35
        },
        "id": "62_7Gck_pTRi",
        "outputId": "40c659d3-f58c-48af-d19b-851e59432d64"
      },
      "execution_count": 10,
      "outputs": [
        {
          "output_type": "execute_result",
          "data": {
            "text/plain": [
              "''"
            ],
            "application/vnd.google.colaboratory.intrinsic+json": {
              "type": "string"
            }
          },
          "metadata": {},
          "execution_count": 10
        }
      ]
    },
    {
      "cell_type": "code",
      "source": [
        "#  Slice operator never raises IndexError\n",
        "x[122233:1:-1]\n"
      ],
      "metadata": {
        "colab": {
          "base_uri": "https://localhost:8080/",
          "height": 35
        },
        "id": "rvskeNZhpcwu",
        "outputId": "c27c0c3e-b149-41b0-ebb5-4623d9976e45"
      },
      "execution_count": 13,
      "outputs": [
        {
          "output_type": "execute_result",
          "data": {
            "text/plain": [
              "'?uoy era woh ,'"
            ],
            "application/vnd.google.colaboratory.intrinsic+json": {
              "type": "string"
            }
          },
          "metadata": {},
          "execution_count": 13
        }
      ]
    },
    {
      "cell_type": "code",
      "source": [
        "#for reverse the string\n",
        "x[::-1]"
      ],
      "metadata": {
        "colab": {
          "base_uri": "https://localhost:8080/",
          "height": 35
        },
        "id": "u_GatESEqE2N",
        "outputId": "a5c34072-e0b1-4821-b748-9239c2a3a6fb"
      },
      "execution_count": 14,
      "outputs": [
        {
          "output_type": "execute_result",
          "data": {
            "text/plain": [
              "'?uoy era woh ,ih'"
            ],
            "application/vnd.google.colaboratory.intrinsic+json": {
              "type": "string"
            }
          },
          "metadata": {},
          "execution_count": 14
        }
      ]
    },
    {
      "cell_type": "code",
      "source": [
        "# len() inbuiltt function to measure string\n",
        "len(x)"
      ],
      "metadata": {
        "colab": {
          "base_uri": "https://localhost:8080/"
        },
        "id": "EvdyT-pWqgT8",
        "outputId": "19f6b843-26e4-48f9-c596-5ef4cca92eb4"
      },
      "execution_count": 15,
      "outputs": [
        {
          "output_type": "execute_result",
          "data": {
            "text/plain": [
              "16"
            ]
          },
          "metadata": {},
          "execution_count": 15
        }
      ]
    },
    {
      "cell_type": "markdown",
      "source": [
        "Q)Write a Program to access each Character of String in Forward and Backward Direction by using while Loop?"
      ],
      "metadata": {
        "id": "gwWcBvLWsSul"
      }
    },
    {
      "cell_type": "code",
      "source": [
        "x= \"hi,how are you....???\"\n",
        "y = len(x)\n",
        "z=0\n",
        "print(\"forworddirection\")\n",
        "while z<y:\n",
        "  print(x[z],end=\"\")\n",
        "  z=z+1\n",
        "\n",
        "\n",
        "print(\"backworddirection\")\n",
        "z=-1\n",
        " \n",
        "while z>=-y:\n",
        " \n",
        "  print(x[z],end=\"\")\n",
        "  z=z-1"
      ],
      "metadata": {
        "colab": {
          "base_uri": "https://localhost:8080/"
        },
        "id": "I_6NczUCrG4n",
        "outputId": "47b6f057-95a5-43ae-899b-f050cfa7ef49"
      },
      "execution_count": 30,
      "outputs": [
        {
          "output_type": "stream",
          "name": "stdout",
          "text": [
            "forworddirection\n",
            "hi,how are you....???backworddirection\n",
            "???....uoy era woh,ih"
          ]
        }
      ]
    },
    {
      "cell_type": "markdown",
      "source": [
        "### Checking Membership:\n",
        "\n",
        "We can check whether the character or string is the member of another string or not by using in and not in operators."
      ],
      "metadata": {
        "id": "9CyfCPnGwX72"
      }
    },
    {
      "cell_type": "code",
      "source": [
        "s=\"avengers\"\n",
        "\n",
        "'a' in s"
      ],
      "metadata": {
        "colab": {
          "base_uri": "https://localhost:8080/"
        },
        "id": "ybpEZsM3uRIJ",
        "outputId": "6fe36423-1f45-42df-9092-c3bdb918c564"
      },
      "execution_count": 32,
      "outputs": [
        {
          "output_type": "execute_result",
          "data": {
            "text/plain": [
              "True"
            ]
          },
          "metadata": {},
          "execution_count": 32
        }
      ]
    },
    {
      "cell_type": "code",
      "source": [
        "\"p\" in s"
      ],
      "metadata": {
        "colab": {
          "base_uri": "https://localhost:8080/"
        },
        "id": "W6nVuP4EwvyB",
        "outputId": "c7568b03-42d6-44c7-93cc-7c2595482bc4"
      },
      "execution_count": 34,
      "outputs": [
        {
          "output_type": "execute_result",
          "data": {
            "text/plain": [
              "False"
            ]
          },
          "metadata": {},
          "execution_count": 34
        }
      ]
    },
    {
      "cell_type": "markdown",
      "source": [
        "## Comparison of Strings\n",
        "We can use comparison operators (<, <=, >, >=) and equality operators (==, !=) for strings."
      ],
      "metadata": {
        "id": "mCwbRZ74w9m6"
      }
    },
    {
      "cell_type": "code",
      "source": [
        "s1 = input(\"Enter the 1st string :\")\n",
        "s2 = input(\"Enter the 2nd string :\")\n",
        "\n",
        "if s1==s2:\n",
        "  print(\"both string are equal\")\n",
        "elif s1>s2:\n",
        "  print(\"1st string is greater than 2nd\")\n",
        "else:\n",
        "  print(\"2nd string is greater than 1st\")    "
      ],
      "metadata": {
        "colab": {
          "base_uri": "https://localhost:8080/"
        },
        "id": "38pcSXUfw2Ok",
        "outputId": "977805eb-5b12-442f-a39c-0f45550b53e1"
      },
      "execution_count": 40,
      "outputs": [
        {
          "output_type": "stream",
          "name": "stdout",
          "text": [
            "Enter the 1st string :is \n",
            "Enter the 2nd string :hello how are you\n",
            "1st string is greater than 2nd\n"
          ]
        }
      ]
    },
    {
      "cell_type": "code",
      "source": [
        "s1=input(\"Enter first string:\") # comparision of string is not based on lenght is based on letters to letters\n",
        "s2=input(\"Enter Second string:\")\n",
        "if s1==s2:\n",
        "  print(\"Both strings are equal\")\n",
        "elif s1<s2:\n",
        "  print(\"First String is less than Second String\")\n",
        "else:\n",
        "  print(\"First String is greater than Second String\")"
      ],
      "metadata": {
        "colab": {
          "base_uri": "https://localhost:8080/"
        },
        "id": "S5RFJgPJyT1o",
        "outputId": "378ce193-074a-4bf3-e8f7-b90539a446c5"
      },
      "execution_count": 42,
      "outputs": [
        {
          "output_type": "stream",
          "name": "stdout",
          "text": [
            "Enter first string:z\n",
            "Enter Second string:a bcdddjdddddd\n",
            "First String is greater than Second String\n"
          ]
        }
      ]
    },
    {
      "cell_type": "markdown",
      "source": [
        "# removing Spaces from the String:\n",
        "1)rstrip()-->To remove spaces at right hand side.\n",
        "\n",
        "2) lstrip()--> To remove spaces at left hand side.\n",
        "\n",
        "3) strip()-->To remove spaces both sides."
      ],
      "metadata": {
        "id": "AYQt5_ma2WL-"
      }
    },
    {
      "cell_type": "code",
      "source": [
        "city = input(\"enter your city name :\")\n",
        "city= city.strip()\n",
        "\n",
        "if city == 'mumbai':\n",
        "  print (\"Hello mumbaikar\")\n",
        "elif city == 'pune':\n",
        "  print(\"Hello punekar\")\n",
        "elif city == 'nagpur':\n",
        "  print(\"Hello nagpurkar\")\n",
        "else :\n",
        "  print(\"hello, how are you.? \")      "
      ],
      "metadata": {
        "colab": {
          "base_uri": "https://localhost:8080/"
        },
        "id": "fnZ4MysEyteP",
        "outputId": "a5167ebd-2a12-416c-9f7a-0d4d9eece872"
      },
      "execution_count": 46,
      "outputs": [
        {
          "output_type": "stream",
          "name": "stdout",
          "text": [
            "enter your city name :   pune\n",
            "Hello punekar\n"
          ]
        }
      ]
    },
    {
      "cell_type": "code",
      "source": [
        "a = \"  hello\"\n",
        "a.lstrip()"
      ],
      "metadata": {
        "colab": {
          "base_uri": "https://localhost:8080/",
          "height": 35
        },
        "id": "c6RZCrdp35Ip",
        "outputId": "d9f1718b-d734-49ec-ff4c-d3f3f44e024f"
      },
      "execution_count": 47,
      "outputs": [
        {
          "output_type": "execute_result",
          "data": {
            "text/plain": [
              "'hello'"
            ],
            "application/vnd.google.colaboratory.intrinsic+json": {
              "type": "string"
            }
          },
          "metadata": {},
          "execution_count": 47
        }
      ]
    },
    {
      "cell_type": "code",
      "source": [
        "b = \"hello    \"\n",
        "b.rstrip()"
      ],
      "metadata": {
        "colab": {
          "base_uri": "https://localhost:8080/",
          "height": 35
        },
        "id": "x0e0JAoG4sxe",
        "outputId": "7cec4b04-40ff-474a-b94a-6c6ee3ac62aa"
      },
      "execution_count": 48,
      "outputs": [
        {
          "output_type": "execute_result",
          "data": {
            "text/plain": [
              "'hello'"
            ],
            "application/vnd.google.colaboratory.intrinsic+json": {
              "type": "string"
            }
          },
          "metadata": {},
          "execution_count": 48
        }
      ]
    },
    {
      "cell_type": "markdown",
      "source": [
        "# **Finding Substrings:**\n",
        "\n",
        "We can use the following 4 methods\n",
        "\n",
        "For forward direction:\n",
        "\n",
        "1) find()\n",
        "\n",
        "2) index()\n",
        "\n",
        "For backward direction:\n",
        "\n",
        "1) rfind()\n",
        "\n",
        "2) rindex()\n"
      ],
      "metadata": {
        "id": "2ytBKCKB45Cj"
      }
    },
    {
      "cell_type": "markdown",
      "source": [
        "### **1) find()**"
      ],
      "metadata": {
        "id": "hDqlV6TC5LYK"
      }
    },
    {
      "cell_type": "code",
      "source": [
        "# find(): Returns index of first occurrence of the given substring. If it is not available then we will\n",
        "# get -1.\n",
        "\n",
        "s=\"avengers\"\n",
        "s.find(\"e\")"
      ],
      "metadata": {
        "colab": {
          "base_uri": "https://localhost:8080/"
        },
        "id": "7F4mEJXn4zDA",
        "outputId": "4dee1ee3-1746-44be-dcfd-52f57c9724ce"
      },
      "execution_count": 49,
      "outputs": [
        {
          "output_type": "execute_result",
          "data": {
            "text/plain": [
              "2"
            ]
          },
          "metadata": {},
          "execution_count": 49
        }
      ]
    },
    {
      "cell_type": "code",
      "source": [
        "# syntax: s.find(substring,bEgin,end)\n",
        "s.find(\"v\",1,10)"
      ],
      "metadata": {
        "colab": {
          "base_uri": "https://localhost:8080/"
        },
        "id": "WLWkpKMR6uXT",
        "outputId": "bca4a5c4-07fd-44a6-a0c1-04318c694f9f"
      },
      "execution_count": 55,
      "outputs": [
        {
          "output_type": "execute_result",
          "data": {
            "text/plain": [
              "1"
            ]
          },
          "metadata": {},
          "execution_count": 55
        }
      ]
    },
    {
      "cell_type": "markdown",
      "source": [
        "**2)index()**\n",
        "\n",
        "index() method is exactly same as find() method except that if the specified substring is not available then we will get ValueError."
      ],
      "metadata": {
        "id": "c7Xzsm8F7xil"
      }
    },
    {
      "cell_type": "code",
      "source": [
        "s.index('a')"
      ],
      "metadata": {
        "colab": {
          "base_uri": "https://localhost:8080/"
        },
        "id": "7CKiFer98LvA",
        "outputId": "8b5a5f1d-8cdc-4576-843e-848907b5d828"
      },
      "execution_count": 57,
      "outputs": [
        {
          "output_type": "execute_result",
          "data": {
            "text/plain": [
              "0"
            ]
          },
          "metadata": {},
          "execution_count": 57
        }
      ]
    },
    {
      "cell_type": "code",
      "source": [
        "s.index('p')"
      ],
      "metadata": {
        "colab": {
          "base_uri": "https://localhost:8080/",
          "height": 165
        },
        "id": "BFKli_Pl7cNx",
        "outputId": "9aac40c7-22ca-4d95-c946-70a8d9816928"
      },
      "execution_count": 58,
      "outputs": [
        {
          "output_type": "error",
          "ename": "ValueError",
          "evalue": "ignored",
          "traceback": [
            "\u001b[0;31m---------------------------------------------------------------------------\u001b[0m",
            "\u001b[0;31mValueError\u001b[0m                                Traceback (most recent call last)",
            "\u001b[0;32m<ipython-input-58-267539954185>\u001b[0m in \u001b[0;36m<module>\u001b[0;34m()\u001b[0m\n\u001b[0;32m----> 1\u001b[0;31m \u001b[0ms\u001b[0m\u001b[0;34m.\u001b[0m\u001b[0mindex\u001b[0m\u001b[0;34m(\u001b[0m\u001b[0;34m'p'\u001b[0m\u001b[0;34m)\u001b[0m\u001b[0;34m\u001b[0m\u001b[0;34m\u001b[0m\u001b[0m\n\u001b[0m",
            "\u001b[0;31mValueError\u001b[0m: substring not found"
          ]
        }
      ]
    },
    {
      "cell_type": "code",
      "source": [
        ""
      ],
      "metadata": {
        "id": "ON_z_PSA8jBx"
      },
      "execution_count": null,
      "outputs": []
    },
    {
      "cell_type": "markdown",
      "source": [
        "Q) Program to display all Positions of Substring in a given Main String"
      ],
      "metadata": {
        "id": "abVSwnlR8g4p"
      }
    },
    {
      "cell_type": "code",
      "source": [
        "s=input(\"Entermainstring:\")\n",
        "subs=input(\"Entersubstring:\")\n",
        "flag=False\n",
        "pos=-1\n",
        "n=len(s)\n",
        "while True:\n",
        "  pos=s.find(subs,pos+1,n)\n",
        "  if pos==-1:\n",
        "    break\n",
        "  print(\"Found at position\",pos)\n",
        "  flag=True\n",
        "if flag==False:\n",
        "  print(\"Not Found\")"
      ],
      "metadata": {
        "colab": {
          "base_uri": "https://localhost:8080/"
        },
        "id": "Dulu8YNQ8C_-",
        "outputId": "2b20cf34-1b6e-4f76-a53b-6dd0dd7d2101"
      },
      "execution_count": 61,
      "outputs": [
        {
          "output_type": "stream",
          "name": "stdout",
          "text": [
            "Entermainstring:hello how are you\n",
            "Entersubstring:o\n",
            "Found at position 4\n",
            "Found at position 7\n",
            "Found at position 15\n"
          ]
        }
      ]
    },
    {
      "cell_type": "markdown",
      "source": [
        "# Count substring in the given String:\n",
        "\n",
        "\n",
        "We can find the number of occurrences of substring present in the given string by using count() method.\n",
        "\n",
        "s.count(substring)-->It will search through out the string.\n",
        "\n",
        "s.count(substring, bEgin, end)-->It will search from bEgin index to end-1 index."
      ],
      "metadata": {
        "id": "0Zxo1dXL9h4g"
      }
    },
    {
      "cell_type": "code",
      "source": [
        " p=\"asfasfasfasfasdsfsds\"\n",
        " print(p.count('a'))"
      ],
      "metadata": {
        "colab": {
          "base_uri": "https://localhost:8080/"
        },
        "id": "ZYJB2WNj8uUy",
        "outputId": "cb3fb428-8a83-4051-bd8e-7f195f2f8f6c"
      },
      "execution_count": 69,
      "outputs": [
        {
          "output_type": "stream",
          "name": "stdout",
          "text": [
            "5\n"
          ]
        }
      ]
    },
    {
      "cell_type": "code",
      "source": [
        ""
      ],
      "metadata": {
        "id": "PtYG0b59-sdr"
      },
      "execution_count": null,
      "outputs": []
    },
    {
      "cell_type": "code",
      "source": [
        "z = \"sjfsjddhddhsdjdhhdjhd\"\n",
        "z.count(\"d\")"
      ],
      "metadata": {
        "colab": {
          "base_uri": "https://localhost:8080/"
        },
        "id": "Lb9aN_Id94CD",
        "outputId": "69105585-25da-401a-9b85-47a1bc64838b"
      },
      "execution_count": 70,
      "outputs": [
        {
          "output_type": "execute_result",
          "data": {
            "text/plain": [
              "8"
            ]
          },
          "metadata": {},
          "execution_count": 70
        }
      ]
    },
    {
      "cell_type": "markdown",
      "source": [
        "### **Replacing a String with another String:**\n",
        "\n",
        "s.replace(oldstring, newstring)\n",
        "\n",
        "Inside s, every occurrence of old String will be replaced with new String."
      ],
      "metadata": {
        "id": "IO_b-XAw-fGE"
      }
    },
    {
      "cell_type": "code",
      "source": [
        "a=\"hello,how are you..?\"\n",
        "a1 = s.replace(\"hello\",\"hi ,\")\n",
        "print(a)\n",
        "a1"
      ],
      "metadata": {
        "colab": {
          "base_uri": "https://localhost:8080/",
          "height": 53
        },
        "id": "Gyzw4qTx-aif",
        "outputId": "26acf2a0-4a3d-41dd-d90b-ebafce0a28ba"
      },
      "execution_count": 74,
      "outputs": [
        {
          "output_type": "stream",
          "name": "stdout",
          "text": [
            "hello,how are you..?\n"
          ]
        },
        {
          "output_type": "execute_result",
          "data": {
            "text/plain": [
              "'hi , how are you'"
            ],
            "application/vnd.google.colaboratory.intrinsic+json": {
              "type": "string"
            }
          },
          "metadata": {},
          "execution_count": 74
        }
      ]
    },
    {
      "cell_type": "markdown",
      "source": [
        "# **Splitting of Strings:**\n",
        "We can split the given string according to specified seperator by using split() method.\n",
        "\n",
        "Syntax: l = s.split(seperator)"
      ],
      "metadata": {
        "id": "AY-g9nsy_XbH"
      }
    },
    {
      "cell_type": "code",
      "source": [
        "s = \"19-4-2022\"\n",
        "l = s.split(\"-\")\n",
        "\n",
        "for x in l:\n",
        "  print(x)"
      ],
      "metadata": {
        "colab": {
          "base_uri": "https://localhost:8080/"
        },
        "id": "_s82SM4o-92w",
        "outputId": "9730ed92-5b86-4bdf-da54-802ad418bc1f"
      },
      "execution_count": 75,
      "outputs": [
        {
          "output_type": "stream",
          "name": "stdout",
          "text": [
            "19\n",
            "4\n",
            "2022\n"
          ]
        }
      ]
    },
    {
      "cell_type": "code",
      "source": [
        "l"
      ],
      "metadata": {
        "colab": {
          "base_uri": "https://localhost:8080/"
        },
        "id": "sfSn8kzOAEg0",
        "outputId": "3c05b059-3e91-457a-d4f3-11cd85963688"
      },
      "execution_count": 77,
      "outputs": [
        {
          "output_type": "execute_result",
          "data": {
            "text/plain": [
              "['19', '4', '2022']"
            ]
          },
          "metadata": {},
          "execution_count": 77
        }
      ]
    },
    {
      "cell_type": "code",
      "source": [
        ""
      ],
      "metadata": {
        "id": "YwjFUMAfAVKw"
      },
      "execution_count": 77,
      "outputs": []
    },
    {
      "cell_type": "markdown",
      "source": [
        "# **Joining Of Strings:**\n",
        "s = seperator.join(group of strings)"
      ],
      "metadata": {
        "id": "OArLKbIjAlDZ"
      }
    },
    {
      "cell_type": "code",
      "source": [
        "list1 = [\"hi\",\"hello\",\"how\",\"are\",\"you\",\"..?\"]\n",
        "' '.join(list1)"
      ],
      "metadata": {
        "colab": {
          "base_uri": "https://localhost:8080/",
          "height": 35
        },
        "id": "SUam_jidApBF",
        "outputId": "5b0858ab-7ffc-4061-9fd9-19e9b26e9b24"
      },
      "execution_count": 78,
      "outputs": [
        {
          "output_type": "execute_result",
          "data": {
            "text/plain": [
              "'hi hello how are you ..?'"
            ],
            "application/vnd.google.colaboratory.intrinsic+json": {
              "type": "string"
            }
          },
          "metadata": {},
          "execution_count": 78
        }
      ]
    },
    {
      "cell_type": "markdown",
      "source": [
        "# **Changing the case of a string:**\n",
        "\n",
        "upper()-->To convert all characters to upper case.\n",
        "\n",
        "lower()-->To convert all characters to lower case.\n",
        "\n",
        "swapcase() --> Converts all lower case characters to upper case and all upper case characters to lower case\n",
        "\n",
        "title() --> To convert all character to title case. i.e first character in every word should be upper case and all remaining characters should be in lower case.\n",
        "\n",
        "capitalize() --> Only first character will be converted to upper case and all remaining characters can be converted to lower case."
      ],
      "metadata": {
        "id": "Kx7XU_5NBW-0"
      }
    },
    {
      "cell_type": "code",
      "source": [
        "a = \"Hello How aRe You\"\n",
        "print(a.upper())\n",
        "print(a.lower())\n",
        "print(a.swapcase())\n",
        "print(a.title())\n",
        "print(a.capitalize())"
      ],
      "metadata": {
        "colab": {
          "base_uri": "https://localhost:8080/"
        },
        "id": "ynDHbqYhBHgz",
        "outputId": "5bcd2d5b-658c-4780-d46d-070a12091b55"
      },
      "execution_count": 79,
      "outputs": [
        {
          "output_type": "stream",
          "name": "stdout",
          "text": [
            "HELLO HOW ARE YOU\n",
            "hello how are you\n",
            "hELLO hOW ArE yOU\n",
            "Hello How Are You\n",
            "Hello how are you\n"
          ]
        }
      ]
    },
    {
      "cell_type": "markdown",
      "source": [
        "## **Checking Starting and Ending Part of the String:**\n",
        "\n",
        "Python contains the following methods for this purpose.\n",
        "\n",
        "s.startswith(substring)\n",
        "\n",
        "s.endswith(substring)"
      ],
      "metadata": {
        "id": "KTtPlEn6EFro"
      }
    },
    {
      "cell_type": "code",
      "source": [
        "a = \"python learning is very easy\" #boolean values\n",
        "print(a.startswith('hi'))\n",
        "print(a.startswith(\"python\"))\n",
        "a.endswith(\"easy\")"
      ],
      "metadata": {
        "colab": {
          "base_uri": "https://localhost:8080/"
        },
        "id": "lVHi2LThDWpN",
        "outputId": "be54aee6-ba68-4d01-d54c-7309f66b04af"
      },
      "execution_count": 81,
      "outputs": [
        {
          "output_type": "stream",
          "name": "stdout",
          "text": [
            "False\n",
            "True\n"
          ]
        },
        {
          "output_type": "execute_result",
          "data": {
            "text/plain": [
              "True"
            ]
          },
          "metadata": {},
          "execution_count": 81
        }
      ]
    },
    {
      "cell_type": "markdown",
      "source": [
        "# **To Check Type of Characters Present in a String:**\n",
        "\n",
        "Python contains the following methods for this purpose.\n",
        "\n",
        "* isalnum(): Returns True if all characters are alphanumeric( a to z , A to Z ,0 to9 ).\n",
        "\n",
        "* isalpha(): Returns True if all characters are only alphabet symbols(a to z,A to Z)\n",
        "\n",
        "* isdigit(): Returns True if all characters are digits only( 0 to 9)\n",
        "\n",
        "* islower(): Returns True if all characters are lower case alphabet symbols\n",
        "\n",
        "* isupper(): Returns True if all characters are upper case aplhabet symbols\n",
        "\n",
        "* istitle(): Returns True if string is in title case\n",
        "\n",
        "* isspace(): Returns True if string contains only spaces"
      ],
      "metadata": {
        "id": "nfhURL4ZFZec"
      }
    },
    {
      "cell_type": "code",
      "source": [
        "print(\"avengers456\".isalnum())"
      ],
      "metadata": {
        "colab": {
          "base_uri": "https://localhost:8080/"
        },
        "id": "YnrjsCEeFIdF",
        "outputId": "bafd37c1-4043-42c4-845b-8c9f42d3eca2"
      },
      "execution_count": 84,
      "outputs": [
        {
          "output_type": "stream",
          "name": "stdout",
          "text": [
            "True\n"
          ]
        }
      ]
    },
    {
      "cell_type": "code",
      "source": [
        "print(\"AVEngerS\".isalpha())"
      ],
      "metadata": {
        "colab": {
          "base_uri": "https://localhost:8080/"
        },
        "id": "ehLkVVXkGHx9",
        "outputId": "be48867d-e6bc-4be3-d7be-15610c64443b"
      },
      "execution_count": 85,
      "outputs": [
        {
          "output_type": "stream",
          "name": "stdout",
          "text": [
            "True\n"
          ]
        }
      ]
    },
    {
      "cell_type": "code",
      "source": [
        "print(\"1514152\".isdigit())"
      ],
      "metadata": {
        "colab": {
          "base_uri": "https://localhost:8080/"
        },
        "id": "N-jjnrNuGXOi",
        "outputId": "9e061601-643e-446b-cfd9-181ebafb8a99"
      },
      "execution_count": 87,
      "outputs": [
        {
          "output_type": "stream",
          "name": "stdout",
          "text": [
            "True\n"
          ]
        }
      ]
    },
    {
      "cell_type": "code",
      "source": [
        "print(\"avengers\".islower())"
      ],
      "metadata": {
        "colab": {
          "base_uri": "https://localhost:8080/"
        },
        "id": "Mkv8JT21Gct9",
        "outputId": "0a09bfcc-a060-401c-eebb-33163af70ca1"
      },
      "execution_count": 88,
      "outputs": [
        {
          "output_type": "stream",
          "name": "stdout",
          "text": [
            "True\n"
          ]
        }
      ]
    },
    {
      "cell_type": "code",
      "source": [
        "print(\"AVENGERS\".isupper())"
      ],
      "metadata": {
        "colab": {
          "base_uri": "https://localhost:8080/"
        },
        "id": "8o7IjFcyGnf4",
        "outputId": "e8c47cb5-643c-4291-8f0c-9ca93bd3c728"
      },
      "execution_count": 90,
      "outputs": [
        {
          "output_type": "stream",
          "name": "stdout",
          "text": [
            "True\n"
          ]
        }
      ]
    },
    {
      "cell_type": "code",
      "source": [
        "print(\"Avengers\".istitle())"
      ],
      "metadata": {
        "colab": {
          "base_uri": "https://localhost:8080/"
        },
        "id": "_d-cDkGkGu5i",
        "outputId": "ee9f9195-e423-415a-944a-a3d0250031e2"
      },
      "execution_count": 91,
      "outputs": [
        {
          "output_type": "stream",
          "name": "stdout",
          "text": [
            "True\n"
          ]
        }
      ]
    },
    {
      "cell_type": "code",
      "source": [
        "print(\"  \".isspace())"
      ],
      "metadata": {
        "colab": {
          "base_uri": "https://localhost:8080/"
        },
        "id": "iTdcn6wuG3tx",
        "outputId": "530e8000-0a8b-4701-c4a7-7575da97f50d"
      },
      "execution_count": 93,
      "outputs": [
        {
          "output_type": "stream",
          "name": "stdout",
          "text": [
            "True\n"
          ]
        }
      ]
    },
    {
      "cell_type": "markdown",
      "source": [
        "# **Formatting the Strings:**\n",
        "\n",
        "We can format the strings with variable values by using replacement operator {} and format() method."
      ],
      "metadata": {
        "id": "LveQ256KHiWE"
      }
    },
    {
      "cell_type": "code",
      "source": [
        "name = \"rahul\"\n",
        "age = 30\n",
        "\n",
        "a= (\"my name is {} and age is {}\".format(name,age))\n",
        "\n",
        "a\n"
      ],
      "metadata": {
        "colab": {
          "base_uri": "https://localhost:8080/",
          "height": 35
        },
        "id": "QAEIdFiEHIdT",
        "outputId": "57195086-07b0-4f71-aed3-da5097b68f68"
      },
      "execution_count": 97,
      "outputs": [
        {
          "output_type": "execute_result",
          "data": {
            "text/plain": [
              "'my name is rahul and my name is 30'"
            ],
            "application/vnd.google.colaboratory.intrinsic+json": {
              "type": "string"
            }
          },
          "metadata": {},
          "execution_count": 97
        }
      ]
    },
    {
      "cell_type": "code",
      "source": [
        "name = \"harsh\"\n",
        "food = \"biryani\"\n",
        "drink = \"sprite\"\n",
        "\n",
        "a = (\"{}'s favorite food is {}, and he like to drink {}.\".format(name,food,drink) )\n",
        "b = (\"{2}' favorite food is {0}, and he like to drink {1}.\".format(food,drink,name))\n",
        "c =(\"{z}'s favorite food is {y},and he like to drink {x}.\".format(x=drink,y=food,z=name))\n",
        "\n",
        "print(a)\n",
        "print(b)\n",
        "print(c)"
      ],
      "metadata": {
        "colab": {
          "base_uri": "https://localhost:8080/"
        },
        "id": "TtEcaKmBIux3",
        "outputId": "97961efd-b1b5-4cab-c760-28e589d5570e"
      },
      "execution_count": 100,
      "outputs": [
        {
          "output_type": "stream",
          "name": "stdout",
          "text": [
            "harsh's favorite food is biryani, and he like to drink sprite.\n",
            "harsh' favorite food is biryani, and he like to drink sprite.\n",
            "harsh's favorite food is biryani,and he like to drink sprite.\n"
          ]
        }
      ]
    },
    {
      "cell_type": "markdown",
      "source": [
        "Q1) Write a Program to Reverse the given String"
      ],
      "metadata": {
        "id": "zryGzgcgK1ky"
      }
    },
    {
      "cell_type": "code",
      "source": [
        "x= \"avengers\"\n",
        "x[::-1]"
      ],
      "metadata": {
        "colab": {
          "base_uri": "https://localhost:8080/",
          "height": 35
        },
        "id": "XHXkynbTJ03M",
        "outputId": "5057614e-6320-4bc1-e617-0159722c851f"
      },
      "execution_count": 101,
      "outputs": [
        {
          "output_type": "execute_result",
          "data": {
            "text/plain": [
              "'sregneva'"
            ],
            "application/vnd.google.colaboratory.intrinsic+json": {
              "type": "string"
            }
          },
          "metadata": {},
          "execution_count": 101
        }
      ]
    },
    {
      "cell_type": "markdown",
      "source": [
        "Q2) Program to Reverse Order of Words\n",
        "\n",
        "Input: Learning Python is very Easy\n",
        "\n",
        "Output: Easy Very is Python Learning"
      ],
      "metadata": {
        "id": "fr9RsaadLDbb"
      }
    },
    {
      "cell_type": "code",
      "source": [
        "s='Learning Python is very Easy'\n",
        "l=s.split()\n",
        "l1=[]\n",
        "i=len(l)-1\n",
        "while i>=0:\n",
        "  l1.append(l[i])\n",
        "  i=i-1\n",
        "output=' '.join(l1)\n",
        "print(output)"
      ],
      "metadata": {
        "colab": {
          "base_uri": "https://localhost:8080/"
        },
        "id": "8zBumGfmK8c8",
        "outputId": "6f7397ad-f5d8-4285-c627-460a895ea7c1"
      },
      "execution_count": 102,
      "outputs": [
        {
          "output_type": "stream",
          "name": "stdout",
          "text": [
            "Easy very is Python Learning\n"
          ]
        }
      ]
    },
    {
      "cell_type": "code",
      "source": [
        ""
      ],
      "metadata": {
        "id": "k4bNccr3Lyp6"
      },
      "execution_count": null,
      "outputs": []
    },
    {
      "cell_type": "markdown",
      "source": [
        "Q3) Write a Program to Remove Duplicate Characters from the given Input String?"
      ],
      "metadata": {
        "id": "76AMkmIiLxAN"
      }
    },
    {
      "cell_type": "code",
      "source": [
        "s=input(\"EnterSomeString:\")\n",
        "l=[]\n",
        "for x in s:\n",
        "  if x not in l:\n",
        "     l.append(x)\n",
        "output=''.join(l)\n",
        "print(output)"
      ],
      "metadata": {
        "colab": {
          "base_uri": "https://localhost:8080/"
        },
        "id": "2T8KtOPGLn59",
        "outputId": "537458b0-3851-4f5e-abab-1d7055df32ca"
      },
      "execution_count": 103,
      "outputs": [
        {
          "output_type": "stream",
          "name": "stdout",
          "text": [
            "EnterSomeString:asdsdsdsfffsfefdvsdsffgfsasf\n",
            "asdfevg\n"
          ]
        }
      ]
    },
    {
      "cell_type": "code",
      "source": [
        ""
      ],
      "metadata": {
        "id": "Ti032dz4MxFF"
      },
      "execution_count": null,
      "outputs": []
    },
    {
      "cell_type": "markdown",
      "source": [
        "Q4) Write a Program to find the Number of Occurrences of each Character present in the given String?"
      ],
      "metadata": {
        "id": "PxSEm_bvMsIl"
      }
    },
    {
      "cell_type": "code",
      "source": [
        "s=input(\"Enter Some String:\")\n",
        "d={}\n",
        "for x in s:\n",
        "  if x in d.keys():\n",
        "     d[x]=d[x]+1\n",
        "  else:\n",
        "     d[x]=1"
      ],
      "metadata": {
        "colab": {
          "base_uri": "https://localhost:8080/"
        },
        "id": "Fit_pUXPL--c",
        "outputId": "ea8b0505-571d-4e8c-ebed-29382e930343"
      },
      "execution_count": 104,
      "outputs": [
        {
          "name": "stdout",
          "output_type": "stream",
          "text": [
            "Enter Some String:asasdsdeddeeededsaassdd\n"
          ]
        }
      ]
    },
    {
      "cell_type": "code",
      "source": [
        "s=input(\"Enter Some String:\")\n",
        "d={}\n",
        "for x in s:\n",
        "  if x in d.keys():\n",
        "     d[x]=d[x]+1\n",
        "  else:\n",
        "     d[x]=1\n",
        "for k,v in d.items():\n",
        "   print(\"{} = {} Times\".format(k,v))"
      ],
      "metadata": {
        "colab": {
          "base_uri": "https://localhost:8080/"
        },
        "id": "z5XILUUBMyy-",
        "outputId": "20722f58-72c3-4ddd-e4b6-c2e1b71bab7d"
      },
      "execution_count": 105,
      "outputs": [
        {
          "output_type": "stream",
          "name": "stdout",
          "text": [
            "Enter Some String:asaswwdwweeddssass\n",
            "a = 3 Times\n",
            "s = 6 Times\n",
            "w = 4 Times\n",
            "d = 3 Times\n",
            "e = 2 Times\n"
          ]
        }
      ]
    },
    {
      "cell_type": "code",
      "source": [
        "z=\"aajhhhgknmgkmknkmgnkfgmdd\"\n",
        "p={}\n",
        "for x in z:\n",
        "  if x in d.keys():\n",
        "     d[x]=d[x]+1\n",
        "  else:\n",
        "     p[x]=1"
      ],
      "metadata": {
        "id": "XOp4LMugNEgN"
      },
      "execution_count": 118,
      "outputs": []
    },
    {
      "cell_type": "code",
      "source": [
        "p\n"
      ],
      "metadata": {
        "colab": {
          "base_uri": "https://localhost:8080/"
        },
        "id": "2w_2xBqjNUMj",
        "outputId": "40c607a7-df24-484c-da5b-c973a503fa75"
      },
      "execution_count": 119,
      "outputs": [
        {
          "output_type": "execute_result",
          "data": {
            "text/plain": [
              "{'f': 1, 'g': 1, 'h': 1, 'j': 1, 'k': 1, 'm': 1, 'n': 1}"
            ]
          },
          "metadata": {},
          "execution_count": 119
        }
      ]
    },
    {
      "cell_type": "code",
      "source": [
        "s=\"aaasssddd\"\n",
        "d={}\n",
        "for x in s:\n",
        "  if x in d.keys():\n",
        "     d[x]=d[x]+1\n",
        "  else:\n",
        "     d[x]=1"
      ],
      "metadata": {
        "colab": {
          "base_uri": "https://localhost:8080/"
        },
        "id": "48ysxj1bNZ8i",
        "outputId": "2f823785-9334-4d4a-d39e-a3d500a73aeb"
      },
      "execution_count": 108,
      "outputs": [
        {
          "output_type": "execute_result",
          "data": {
            "text/plain": [
              "{'a': 3, 'd': 3, 's': 3}"
            ]
          },
          "metadata": {},
          "execution_count": 108
        }
      ]
    },
    {
      "cell_type": "code",
      "source": [
        ""
      ],
      "metadata": {
        "id": "4Vw09i93NacM"
      },
      "execution_count": null,
      "outputs": []
    }
  ],
  "metadata": {
    "colab": {
      "name": "5_Python_basic_strings.ipynb",
      "provenance": [],
      "collapsed_sections": [],
      "authorship_tag": "ABX9TyOJpKC2OwgT12Xd2shUBYcP",
      "include_colab_link": true
    },
    "kernelspec": {
      "display_name": "Python 3",
      "name": "python3"
    },
    "language_info": {
      "name": "python"
    }
  },
  "nbformat": 4,
  "nbformat_minor": 0
}
