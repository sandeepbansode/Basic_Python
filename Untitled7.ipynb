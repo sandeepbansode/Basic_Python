{
  "nbformat": 4,
  "nbformat_minor": 0,
  "metadata": {
    "colab": {
      "name": "Untitled7.ipynb",
      "provenance": [],
      "authorship_tag": "ABX9TyONdCx13nCHQ1k26zRMCkjo",
      "include_colab_link": true
    },
    "kernelspec": {
      "name": "python3",
      "display_name": "Python 3"
    },
    "language_info": {
      "name": "python"
    }
  },
  "cells": [
    {
      "cell_type": "markdown",
      "metadata": {
        "id": "view-in-github",
        "colab_type": "text"
      },
      "source": [
        "<a href=\"https://colab.research.google.com/github/sandeepbansode/Basic_Python/blob/main/Untitled7.ipynb\" target=\"_parent\"><img src=\"https://colab.research.google.com/assets/colab-badge.svg\" alt=\"Open In Colab\"/></a>"
      ]
    },
    {
      "cell_type": "markdown",
      "source": [
        "# **Python**\n",
        "\n",
        "Python is a general purpose high level programming language.\n",
        "\n",
        " Python was developed by Guido Van Rossam in 1989 while working at National Research Institute at Netherlands.\n",
        "\n",
        " But officially Python was made available to public in 1991. The official Date of Birth for\n",
        "\n",
        "Python is : Feb 20th 1991.\n",
        "\n",
        " Python is recommended as first programming language for beginners.\n",
        "\n",
        "Eg1: To print Helloworld"
      ],
      "metadata": {
        "id": "afBfM5H_WpDN"
      }
    },
    {
      "cell_type": "code",
      "execution_count": 1,
      "metadata": {
        "colab": {
          "base_uri": "https://localhost:8080/"
        },
        "id": "y41vfmhKWTuT",
        "outputId": "c61b226b-61f6-4b31-a41e-e69fbd8ecee3"
      },
      "outputs": [
        {
          "output_type": "stream",
          "name": "stdout",
          "text": [
            "Hello world\n"
          ]
        }
      ],
      "source": [
        "print(\"Hello world\")"
      ]
    },
    {
      "cell_type": "code",
      "source": [
        ""
      ],
      "metadata": {
        "id": "2RvK098JWh-y"
      },
      "execution_count": 1,
      "outputs": []
    }
  ]
}