{
  "nbformat": 4,
  "nbformat_minor": 0,
  "metadata": {
    "colab": {
      "name": "8_Basic_python_set.ipynb",
      "provenance": [],
      "authorship_tag": "ABX9TyMuGREw1BcTcvWfPrJwcD7s",
      "include_colab_link": true
    },
    "kernelspec": {
      "name": "python3",
      "display_name": "Python 3"
    },
    "language_info": {
      "name": "python"
    }
  },
  "cells": [
    {
      "cell_type": "markdown",
      "metadata": {
        "id": "view-in-github",
        "colab_type": "text"
      },
      "source": [
        "<a href=\"https://colab.research.google.com/github/sandeepbansode/Basic_Python/blob/main/8_Basic_python_set.ipynb\" target=\"_parent\"><img src=\"https://colab.research.google.com/assets/colab-badge.svg\" alt=\"Open In Colab\"/></a>"
      ]
    },
    {
      "cell_type": "markdown",
      "source": [
        "**Set**"
      ],
      "metadata": {
        "id": "MH1ZIx1OCNhl"
      }
    },
    {
      "cell_type": "markdown",
      "source": [
        "Sets are used to store multiple items in a single variable.\n",
        "\n",
        "A set is a collection which is unordered, unchangeable*, and unindexed.\n",
        "\n",
        "Sets are written with curly brackets.\n",
        "\n",
        "Set items are unordered, unchangeable, and do not allow duplicate values.\n",
        "\n",
        "* Unordered\n",
        "\n",
        "  Unordered means that the items in a set do not have a defined order.\n",
        "\n",
        "  set items can appear in a different order every time 2qyou use them, and cannot   be referred to by index or key.\n",
        "\n",
        "* Unchangeable\n",
        "\n",
        "  Set items are unchangeable, meaning that we cannot change the items after the set has been created.\n",
        "\n",
        " ### Once a set is created, you cannot change its items, but you can remove  \n",
        " \n",
        " ###  items and add new items.\n",
        "\n",
        "* Duplicates Not Allowed\n",
        "\n",
        "  Sets cannot have two items with the same value."
      ],
      "metadata": {
        "id": "Zz1qJOxBCGxD"
      }
    },
    {
      "cell_type": "code",
      "execution_count": 6,
      "metadata": {
        "colab": {
          "base_uri": "https://localhost:8080/"
        },
        "id": "tBQrezuhB2wZ",
        "outputId": "20e8a8e9-ffdd-4a6a-ce41-67a2b2ce6aec"
      },
      "outputs": [
        {
          "output_type": "stream",
          "name": "stdout",
          "text": [
            "{1, 2, 3, 4, 5, 6}\n"
          ]
        },
        {
          "output_type": "execute_result",
          "data": {
            "text/plain": [
              "set"
            ]
          },
          "metadata": {},
          "execution_count": 6
        }
      ],
      "source": [
        "#set\n",
        "s = {1,2,3,4,5,6}\n",
        "print(s)\n",
        "\n",
        "type(s)"
      ]
    },
    {
      "cell_type": "code",
      "source": [
        "# we can create set  using list\n",
        "s = [10,12,45,21,10,12,10,45] #list to set fun x = set(s)\n",
        "\n",
        "x = set(s)\n",
        "\n",
        "print(type(s))\n",
        "print(type(x))\n",
        "x\n"
      ],
      "metadata": {
        "colab": {
          "base_uri": "https://localhost:8080/"
        },
        "id": "EYFB1aceB6wo",
        "outputId": "ae0889fc-6696-4db0-fbb6-a6ddabdc07e1"
      },
      "execution_count": 5,
      "outputs": [
        {
          "output_type": "stream",
          "name": "stdout",
          "text": [
            "<class 'list'>\n",
            "<class 'set'>\n"
          ]
        },
        {
          "output_type": "execute_result",
          "data": {
            "text/plain": [
              "{10, 12, 21, 45}"
            ]
          },
          "metadata": {},
          "execution_count": 5
        }
      ]
    },
    {
      "cell_type": "code",
      "source": [
        "#duplicates are not allowed\n",
        "s = {10,12,1,5,1,5,10,12}\n",
        "s"
      ],
      "metadata": {
        "colab": {
          "base_uri": "https://localhost:8080/"
        },
        "id": "5JaceNBXDRFo",
        "outputId": "f80d945a-676e-47aa-9b2c-9c48a41d53c8"
      },
      "execution_count": 8,
      "outputs": [
        {
          "output_type": "execute_result",
          "data": {
            "text/plain": [
              "{1, 5, 10, 12}"
            ]
          },
          "metadata": {},
          "execution_count": 8
        }
      ]
    },
    {
      "cell_type": "code",
      "source": [
        "#incertion order not preserved\n",
        "s = {10,0,30,40,50}\n",
        "s"
      ],
      "metadata": {
        "colab": {
          "base_uri": "https://localhost:8080/"
        },
        "id": "NRB_0UlvDn4K",
        "outputId": "3019c86e-233d-4581-8b82-26ccc991177b"
      },
      "execution_count": 9,
      "outputs": [
        {
          "output_type": "execute_result",
          "data": {
            "text/plain": [
              "{0, 10, 30, 40, 50}"
            ]
          },
          "metadata": {},
          "execution_count": 9
        }
      ]
    },
    {
      "cell_type": "code",
      "source": [
        "#indexing and slicing not allowed\n",
        "\n",
        "s = {10,20,30,40,50,60}\n",
        "print(s[1]) #it will reflect error\n",
        "\n",
        "s[::-1]"
      ],
      "metadata": {
        "colab": {
          "base_uri": "https://localhost:8080/",
          "height": 234
        },
        "id": "YgbeyaHiERQO",
        "outputId": "8827e0b3-0ea7-4c35-d4ce-44a238cdf643"
      },
      "execution_count": 12,
      "outputs": [
        {
          "output_type": "error",
          "ename": "TypeError",
          "evalue": "ignored",
          "traceback": [
            "\u001b[0;31m---------------------------------------------------------------------------\u001b[0m",
            "\u001b[0;31mTypeError\u001b[0m                                 Traceback (most recent call last)",
            "\u001b[0;32m<ipython-input-12-98fa87b500fa>\u001b[0m in \u001b[0;36m<module>\u001b[0;34m()\u001b[0m\n\u001b[1;32m      2\u001b[0m \u001b[0;34m\u001b[0m\u001b[0m\n\u001b[1;32m      3\u001b[0m \u001b[0ms\u001b[0m \u001b[0;34m=\u001b[0m \u001b[0;34m{\u001b[0m\u001b[0;36m10\u001b[0m\u001b[0;34m,\u001b[0m\u001b[0;36m20\u001b[0m\u001b[0;34m,\u001b[0m\u001b[0;36m30\u001b[0m\u001b[0;34m,\u001b[0m\u001b[0;36m40\u001b[0m\u001b[0;34m,\u001b[0m\u001b[0;36m50\u001b[0m\u001b[0;34m,\u001b[0m\u001b[0;36m60\u001b[0m\u001b[0;34m}\u001b[0m\u001b[0;34m\u001b[0m\u001b[0;34m\u001b[0m\u001b[0m\n\u001b[0;32m----> 4\u001b[0;31m \u001b[0mprint\u001b[0m\u001b[0;34m(\u001b[0m\u001b[0ms\u001b[0m\u001b[0;34m[\u001b[0m\u001b[0;36m1\u001b[0m\u001b[0;34m]\u001b[0m\u001b[0;34m)\u001b[0m \u001b[0;31m#it will reflect error\u001b[0m\u001b[0;34m\u001b[0m\u001b[0;34m\u001b[0m\u001b[0m\n\u001b[0m\u001b[1;32m      5\u001b[0m \u001b[0;34m\u001b[0m\u001b[0m\n\u001b[1;32m      6\u001b[0m \u001b[0ms\u001b[0m\u001b[0;34m[\u001b[0m\u001b[0;34m:\u001b[0m\u001b[0;34m:\u001b[0m\u001b[0;34m-\u001b[0m\u001b[0;36m1\u001b[0m\u001b[0;34m]\u001b[0m\u001b[0;34m\u001b[0m\u001b[0;34m\u001b[0m\u001b[0m\n",
            "\u001b[0;31mTypeError\u001b[0m: 'set' object is not subscriptable"
          ]
        }
      ]
    },
    {
      "cell_type": "code",
      "source": [
        "# Heterogeneous items allowed\n",
        "\n",
        "s = {10,25,\"set\",\"True\",50}\n",
        "print(s)\n",
        "type(s)"
      ],
      "metadata": {
        "colab": {
          "base_uri": "https://localhost:8080/"
        },
        "id": "6W8ShaLuEgJ9",
        "outputId": "82adf990-990f-4796-da2f-7994a48f3ef2"
      },
      "execution_count": 14,
      "outputs": [
        {
          "output_type": "stream",
          "name": "stdout",
          "text": [
            "{10, 'set', 50, 25, 'True'}\n"
          ]
        },
        {
          "output_type": "execute_result",
          "data": {
            "text/plain": [
              "set"
            ]
          },
          "metadata": {},
          "execution_count": 14
        }
      ]
    },
    {
      "cell_type": "code",
      "source": [
        "s = set(range(10))\n",
        "s\n",
        "   \n"
      ],
      "metadata": {
        "colab": {
          "base_uri": "https://localhost:8080/"
        },
        "id": "UVzsCZaTEmA8",
        "outputId": "113b7269-0817-4d63-a4fb-4c71762c5692"
      },
      "execution_count": 50,
      "outputs": [
        {
          "output_type": "execute_result",
          "data": {
            "text/plain": [
              "{0, 1, 2, 3, 4, 5, 6, 7, 8, 9}"
            ]
          },
          "metadata": {},
          "execution_count": 50
        }
      ]
    },
    {
      "cell_type": "markdown",
      "source": [
        "# important functions of set"
      ],
      "metadata": {
        "id": "db4CP4tQLXVl"
      }
    },
    {
      "cell_type": "code",
      "source": [
        "#add(x) = add x item to set\n",
        "\n",
        "x = {10,20,86,53}\n",
        "x.add(54)\n",
        "x"
      ],
      "metadata": {
        "colab": {
          "base_uri": "https://localhost:8080/"
        },
        "id": "l9wEi9HVGMFp",
        "outputId": "c71a5469-22e1-4e72-b34c-d837a3acf426"
      },
      "execution_count": 52,
      "outputs": [
        {
          "output_type": "execute_result",
          "data": {
            "text/plain": [
              "{10, 20, 53, 54, 86}"
            ]
          },
          "metadata": {},
          "execution_count": 52
        }
      ]
    },
    {
      "cell_type": "code",
      "source": [
        "x = {10,15,48,69,52} #add function only add one element\n",
        "y = {45,86,95,35}\n",
        "x.add(y)\n",
        "x"
      ],
      "metadata": {
        "colab": {
          "base_uri": "https://localhost:8080/",
          "height": 217
        },
        "id": "oJTyNy6Tcd5j",
        "outputId": "445d4631-1aeb-405a-c780-83670b6f5749"
      },
      "execution_count": 1,
      "outputs": [
        {
          "output_type": "error",
          "ename": "TypeError",
          "evalue": "ignored",
          "traceback": [
            "\u001b[0;31m---------------------------------------------------------------------------\u001b[0m",
            "\u001b[0;31mTypeError\u001b[0m                                 Traceback (most recent call last)",
            "\u001b[0;32m<ipython-input-1-7e1bb04bb1f5>\u001b[0m in \u001b[0;36m<module>\u001b[0;34m()\u001b[0m\n\u001b[1;32m      1\u001b[0m \u001b[0mx\u001b[0m \u001b[0;34m=\u001b[0m \u001b[0;34m{\u001b[0m\u001b[0;36m10\u001b[0m\u001b[0;34m,\u001b[0m\u001b[0;36m15\u001b[0m\u001b[0;34m,\u001b[0m\u001b[0;36m48\u001b[0m\u001b[0;34m,\u001b[0m\u001b[0;36m69\u001b[0m\u001b[0;34m,\u001b[0m\u001b[0;36m52\u001b[0m\u001b[0;34m}\u001b[0m\u001b[0;34m\u001b[0m\u001b[0;34m\u001b[0m\u001b[0m\n\u001b[1;32m      2\u001b[0m \u001b[0my\u001b[0m \u001b[0;34m=\u001b[0m \u001b[0;34m{\u001b[0m\u001b[0;36m45\u001b[0m\u001b[0;34m,\u001b[0m\u001b[0;36m86\u001b[0m\u001b[0;34m,\u001b[0m\u001b[0;36m95\u001b[0m\u001b[0;34m,\u001b[0m\u001b[0;36m35\u001b[0m\u001b[0;34m}\u001b[0m\u001b[0;34m\u001b[0m\u001b[0;34m\u001b[0m\u001b[0m\n\u001b[0;32m----> 3\u001b[0;31m \u001b[0mx\u001b[0m\u001b[0;34m.\u001b[0m\u001b[0madd\u001b[0m\u001b[0;34m(\u001b[0m\u001b[0my\u001b[0m\u001b[0;34m)\u001b[0m\u001b[0;34m\u001b[0m\u001b[0;34m\u001b[0m\u001b[0m\n\u001b[0m\u001b[1;32m      4\u001b[0m \u001b[0mx\u001b[0m\u001b[0;34m\u001b[0m\u001b[0;34m\u001b[0m\u001b[0m\n",
            "\u001b[0;31mTypeError\u001b[0m: unhashable type: 'set'"
          ]
        }
      ]
    },
    {
      "cell_type": "code",
      "source": [
        "#update : update multiple items in set\n",
        "\n",
        "x ={10,20,30,40,50}\n",
        "y = {15,25,35}\n",
        "x.update(y)\n",
        "x\n"
      ],
      "metadata": {
        "colab": {
          "base_uri": "https://localhost:8080/"
        },
        "id": "__9mrhloL1Fy",
        "outputId": "b9685b7a-ec03-4862-858c-782790d0837f"
      },
      "execution_count": 55,
      "outputs": [
        {
          "output_type": "execute_result",
          "data": {
            "text/plain": [
              "{10, 15, 20, 25, 30, 35, 40, 50}"
            ]
          },
          "metadata": {},
          "execution_count": 55
        }
      ]
    },
    {
      "cell_type": "code",
      "source": [
        "x = {10,15,46,23,45} #update add two set but cant update int directly in set\n",
        "x.update(12,4,78,96)"
      ],
      "metadata": {
        "colab": {
          "base_uri": "https://localhost:8080/",
          "height": 182
        },
        "id": "RvD4dDBDMNNu",
        "outputId": "dce6c9f8-2470-4aa5-fc64-12019caf4c40"
      },
      "execution_count": 2,
      "outputs": [
        {
          "output_type": "error",
          "ename": "TypeError",
          "evalue": "ignored",
          "traceback": [
            "\u001b[0;31m---------------------------------------------------------------------------\u001b[0m",
            "\u001b[0;31mTypeError\u001b[0m                                 Traceback (most recent call last)",
            "\u001b[0;32m<ipython-input-2-80f6996acbd3>\u001b[0m in \u001b[0;36m<module>\u001b[0;34m()\u001b[0m\n\u001b[1;32m      1\u001b[0m \u001b[0mx\u001b[0m \u001b[0;34m=\u001b[0m \u001b[0;34m{\u001b[0m\u001b[0;36m10\u001b[0m\u001b[0;34m,\u001b[0m\u001b[0;36m15\u001b[0m\u001b[0;34m,\u001b[0m\u001b[0;36m46\u001b[0m\u001b[0;34m,\u001b[0m\u001b[0;36m23\u001b[0m\u001b[0;34m,\u001b[0m\u001b[0;36m45\u001b[0m\u001b[0;34m}\u001b[0m\u001b[0;34m\u001b[0m\u001b[0;34m\u001b[0m\u001b[0m\n\u001b[0;32m----> 2\u001b[0;31m \u001b[0mx\u001b[0m\u001b[0;34m.\u001b[0m\u001b[0mupdate\u001b[0m\u001b[0;34m(\u001b[0m\u001b[0;36m12\u001b[0m\u001b[0;34m,\u001b[0m\u001b[0;36m4\u001b[0m\u001b[0;34m,\u001b[0m\u001b[0;36m78\u001b[0m\u001b[0;34m,\u001b[0m\u001b[0;36m96\u001b[0m\u001b[0;34m)\u001b[0m\u001b[0;34m\u001b[0m\u001b[0;34m\u001b[0m\u001b[0m\n\u001b[0m",
            "\u001b[0;31mTypeError\u001b[0m: 'int' object is not iterable"
          ]
        }
      ]
    },
    {
      "cell_type": "markdown",
      "source": [
        "Q) What is the difference between add() and update() Functions in Set?\n",
        "\n",
        "\n",
        "* We can use add() to add individual item to the Set,where as we can use update() function to add multiple items to Set.\n",
        "\n",
        "\n",
        "* add() function can take only one argument where as update() function can take any number of arguments."
      ],
      "metadata": {
        "id": "NE5CkLR5du18"
      }
    },
    {
      "cell_type": "code",
      "source": [
        "#3. copy(): returns copy of the set(cloning)\n",
        "\n",
        "x = {20,6,45,63,69,2}\n",
        "y=x.copy()\n",
        "\n",
        "print(x)\n",
        "print(y)"
      ],
      "metadata": {
        "colab": {
          "base_uri": "https://localhost:8080/"
        },
        "id": "OTE_IlBvdS6j",
        "outputId": "7158daf6-a707-4aff-f744-2d4399b606a4"
      },
      "execution_count": 3,
      "outputs": [
        {
          "output_type": "stream",
          "name": "stdout",
          "text": [
            "{2, 69, 6, 45, 20, 63}\n",
            "{2, 20, 69, 6, 45, 63}\n"
          ]
        }
      ]
    },
    {
      "cell_type": "code",
      "source": [
        "#4. pop(): It removes and returns some random element from the set \n",
        "s = [12,45,86,95,65,24] \n",
        "y = set(s)                 #converting list into set\n",
        "y"
      ],
      "metadata": {
        "colab": {
          "base_uri": "https://localhost:8080/"
        },
        "id": "ylY9YklLeTIk",
        "outputId": "522cc252-b0b7-478e-8241-1cdbd335f870"
      },
      "execution_count": 5,
      "outputs": [
        {
          "output_type": "execute_result",
          "data": {
            "text/plain": [
              "{12, 24, 45, 65, 86, 95}"
            ]
          },
          "metadata": {},
          "execution_count": 5
        }
      ]
    },
    {
      "cell_type": "code",
      "source": [
        "y.pop()        #pop() :remove random element"
      ],
      "metadata": {
        "colab": {
          "base_uri": "https://localhost:8080/"
        },
        "id": "FsrZHLhLeqDB",
        "outputId": "2a6af259-a2f0-4a0c-a903-8c44010c6908"
      },
      "execution_count": 8,
      "outputs": [
        {
          "output_type": "execute_result",
          "data": {
            "text/plain": [
              "12"
            ]
          },
          "metadata": {},
          "execution_count": 8
        }
      ]
    },
    {
      "cell_type": "code",
      "source": [
        "y"
      ],
      "metadata": {
        "colab": {
          "base_uri": "https://localhost:8080/"
        },
        "id": "uOcHxeDFewVp",
        "outputId": "387403b3-1267-4ae9-9f01-72df274fe1f2"
      },
      "execution_count": 7,
      "outputs": [
        {
          "output_type": "execute_result",
          "data": {
            "text/plain": [
              "{12, 24, 45, 86, 95}"
            ]
          },
          "metadata": {},
          "execution_count": 7
        }
      ]
    },
    {
      "cell_type": "code",
      "source": [
        "#5. remove(x):removes specified item from the set\n",
        "\n",
        "x = {15,56,35,69,45,41}\n",
        "x.remove(45)\n",
        "x"
      ],
      "metadata": {
        "colab": {
          "base_uri": "https://localhost:8080/"
        },
        "id": "1hpDs3jQex0h",
        "outputId": "ea60359e-5b7d-4554-ad77-b929bcdcc116"
      },
      "execution_count": 10,
      "outputs": [
        {
          "output_type": "execute_result",
          "data": {
            "text/plain": [
              "{15, 35, 41, 56, 69}"
            ]
          },
          "metadata": {},
          "execution_count": 10
        }
      ]
    },
    {
      "cell_type": "code",
      "source": [
        "x.remove(35)\n",
        "x"
      ],
      "metadata": {
        "colab": {
          "base_uri": "https://localhost:8080/"
        },
        "id": "tszMw6a6fa7R",
        "outputId": "328cedff-cefa-4304-c97c-1e210b474c7f"
      },
      "execution_count": 11,
      "outputs": [
        {
          "output_type": "execute_result",
          "data": {
            "text/plain": [
              "{15, 41, 56, 69}"
            ]
          },
          "metadata": {},
          "execution_count": 11
        }
      ]
    },
    {
      "cell_type": "code",
      "source": [
        "x.remove(70)  #if item is not in set it will give error\n",
        "x"
      ],
      "metadata": {
        "colab": {
          "base_uri": "https://localhost:8080/",
          "height": 182
        },
        "id": "M8HDs0K1fgoE",
        "outputId": "1391ea5b-27c0-499a-df57-a29bc9a2e0f7"
      },
      "execution_count": 12,
      "outputs": [
        {
          "output_type": "error",
          "ename": "KeyError",
          "evalue": "ignored",
          "traceback": [
            "\u001b[0;31m---------------------------------------------------------------------------\u001b[0m",
            "\u001b[0;31mKeyError\u001b[0m                                  Traceback (most recent call last)",
            "\u001b[0;32m<ipython-input-12-890a7958428d>\u001b[0m in \u001b[0;36m<module>\u001b[0;34m()\u001b[0m\n\u001b[0;32m----> 1\u001b[0;31m \u001b[0mx\u001b[0m\u001b[0;34m.\u001b[0m\u001b[0mremove\u001b[0m\u001b[0;34m(\u001b[0m\u001b[0;36m70\u001b[0m\u001b[0;34m)\u001b[0m\u001b[0;34m\u001b[0m\u001b[0;34m\u001b[0m\u001b[0m\n\u001b[0m\u001b[1;32m      2\u001b[0m \u001b[0mx\u001b[0m\u001b[0;34m\u001b[0m\u001b[0;34m\u001b[0m\u001b[0m\n",
            "\u001b[0;31mKeyError\u001b[0m: 70"
          ]
        }
      ]
    },
    {
      "cell_type": "code",
      "source": [
        "#6.  discard(): It removes specified element from the space\n",
        "# If specified error not present in the set then it will not throw error\n",
        "\n",
        "x = {15,63,5,52,534,35,22,42,25,2,41}\n",
        "\n",
        "x.discard(534)\n",
        "x"
      ],
      "metadata": {
        "colab": {
          "base_uri": "https://localhost:8080/"
        },
        "id": "aAa75dRoflmw",
        "outputId": "766cf1b6-a6b1-4373-b86d-df749cab12fa"
      },
      "execution_count": 14,
      "outputs": [
        {
          "output_type": "execute_result",
          "data": {
            "text/plain": [
              "{2, 5, 15, 22, 25, 35, 41, 42, 52, 63}"
            ]
          },
          "metadata": {},
          "execution_count": 14
        }
      ]
    },
    {
      "cell_type": "code",
      "source": [
        "x.discard(22)\n",
        "x"
      ],
      "metadata": {
        "colab": {
          "base_uri": "https://localhost:8080/"
        },
        "id": "bjIvZ5Ldgdwp",
        "outputId": "5bf75884-b24c-4798-e9a8-04df05a2c031"
      },
      "execution_count": 16,
      "outputs": [
        {
          "output_type": "execute_result",
          "data": {
            "text/plain": [
              "{2, 5, 15, 25, 35, 41, 42, 52, 63}"
            ]
          },
          "metadata": {},
          "execution_count": 16
        }
      ]
    },
    {
      "cell_type": "code",
      "source": [
        "x.discard(500) #500 is not in set \n",
        "x"
      ],
      "metadata": {
        "colab": {
          "base_uri": "https://localhost:8080/"
        },
        "id": "rVZ8jTKRgqf1",
        "outputId": "ad260118-0bb0-473e-8cf3-d0bfa19fe31e"
      },
      "execution_count": 17,
      "outputs": [
        {
          "output_type": "execute_result",
          "data": {
            "text/plain": [
              "{2, 5, 15, 25, 35, 41, 42, 52, 63}"
            ]
          },
          "metadata": {},
          "execution_count": 17
        }
      ]
    },
    {
      "cell_type": "code",
      "source": [
        "#7. clear(): to remove all the elements from the set\n",
        "\n",
        "x = {12,45,78,98,65,32}\n",
        "x.clear()\n",
        "x"
      ],
      "metadata": {
        "colab": {
          "base_uri": "https://localhost:8080/"
        },
        "id": "-DVPXIJ5g2_B",
        "outputId": "3a4bfccd-0558-4423-8e99-568a1d9387e3"
      },
      "execution_count": 18,
      "outputs": [
        {
          "output_type": "execute_result",
          "data": {
            "text/plain": [
              "set()"
            ]
          },
          "metadata": {},
          "execution_count": 18
        }
      ]
    },
    {
      "cell_type": "code",
      "source": [
        "x = {15,75,95,35,25,5,85,65} #clear does not take arguments it clears all the set\n",
        "x.clear(35)\n"
      ],
      "metadata": {
        "colab": {
          "base_uri": "https://localhost:8080/",
          "height": 182
        },
        "id": "ye0FfAOuhBze",
        "outputId": "4ad379c4-61b5-4733-db88-95a5f5d771aa"
      },
      "execution_count": 19,
      "outputs": [
        {
          "output_type": "error",
          "ename": "TypeError",
          "evalue": "ignored",
          "traceback": [
            "\u001b[0;31m---------------------------------------------------------------------------\u001b[0m",
            "\u001b[0;31mTypeError\u001b[0m                                 Traceback (most recent call last)",
            "\u001b[0;32m<ipython-input-19-edd61bf1e169>\u001b[0m in \u001b[0;36m<module>\u001b[0;34m()\u001b[0m\n\u001b[1;32m      1\u001b[0m \u001b[0mx\u001b[0m \u001b[0;34m=\u001b[0m \u001b[0;34m{\u001b[0m\u001b[0;36m15\u001b[0m\u001b[0;34m,\u001b[0m\u001b[0;36m75\u001b[0m\u001b[0;34m,\u001b[0m\u001b[0;36m95\u001b[0m\u001b[0;34m,\u001b[0m\u001b[0;36m35\u001b[0m\u001b[0;34m,\u001b[0m\u001b[0;36m25\u001b[0m\u001b[0;34m,\u001b[0m\u001b[0;36m5\u001b[0m\u001b[0;34m,\u001b[0m\u001b[0;36m85\u001b[0m\u001b[0;34m,\u001b[0m\u001b[0;36m65\u001b[0m\u001b[0;34m}\u001b[0m\u001b[0;34m\u001b[0m\u001b[0;34m\u001b[0m\u001b[0m\n\u001b[0;32m----> 2\u001b[0;31m \u001b[0mx\u001b[0m\u001b[0;34m.\u001b[0m\u001b[0mclear\u001b[0m\u001b[0;34m(\u001b[0m\u001b[0;36m35\u001b[0m\u001b[0;34m)\u001b[0m\u001b[0;34m\u001b[0m\u001b[0;34m\u001b[0m\u001b[0m\n\u001b[0m",
            "\u001b[0;31mTypeError\u001b[0m: clear() takes no arguments (1 given)"
          ]
        }
      ]
    },
    {
      "cell_type": "code",
      "source": [
        "x = {35,52,54,58,56,86}\n",
        "x.clear()\n",
        "x "
      ],
      "metadata": {
        "colab": {
          "base_uri": "https://localhost:8080/"
        },
        "id": "AAHXsPnXhNS4",
        "outputId": "89a853cd-d456-4b23-9d33-cdf6d13727be"
      },
      "execution_count": 20,
      "outputs": [
        {
          "output_type": "execute_result",
          "data": {
            "text/plain": [
              "set()"
            ]
          },
          "metadata": {},
          "execution_count": 20
        }
      ]
    },
    {
      "cell_type": "markdown",
      "source": [
        "# **IMPORTANT CONCEPTS**\n",
        "\n",
        "# Mathematical Operations on the Set:"
      ],
      "metadata": {
        "id": "bDHafJFohihY"
      }
    },
    {
      "cell_type": "code",
      "source": [
        "# 1. union() :\n",
        "# Syntax: x.union(y) OR x|y: Return all the elements present in both sets\n",
        "\n",
        "x = {12,15,45,85,65,23}\n",
        "y = {78,45,26,12,23}\n",
        "x.union(y)"
      ],
      "metadata": {
        "colab": {
          "base_uri": "https://localhost:8080/"
        },
        "id": "0LzIJXZthcPD",
        "outputId": "c8b40789-99e0-41e9-a3cc-61c829340df3"
      },
      "execution_count": 22,
      "outputs": [
        {
          "output_type": "execute_result",
          "data": {
            "text/plain": [
              "{12, 15, 23, 26, 45, 65, 78, 85}"
            ]
          },
          "metadata": {},
          "execution_count": 22
        }
      ]
    },
    {
      "cell_type": "code",
      "source": [
        "y|x"
      ],
      "metadata": {
        "colab": {
          "base_uri": "https://localhost:8080/"
        },
        "id": "FGlqlqr_jR7Y",
        "outputId": "458281d3-f924-464f-fa5b-c02e572e640a"
      },
      "execution_count": 23,
      "outputs": [
        {
          "output_type": "execute_result",
          "data": {
            "text/plain": [
              "{12, 15, 23, 26, 45, 65, 78, 85}"
            ]
          },
          "metadata": {},
          "execution_count": 23
        }
      ]
    },
    {
      "cell_type": "code",
      "source": [
        "x = {15,36,95,32,63,25,}\n",
        "y = {36,48,63,15,35,95}\n",
        "print(y.union(x))\n",
        "print(x.union(y))\n",
        "print(x|y)\n",
        "print(y|x)"
      ],
      "metadata": {
        "colab": {
          "base_uri": "https://localhost:8080/"
        },
        "id": "gH-HDRzNjaDS",
        "outputId": "6078905b-8c18-40d5-ff2e-34c9b44da59d"
      },
      "execution_count": 26,
      "outputs": [
        {
          "output_type": "stream",
          "name": "stdout",
          "text": [
            "{32, 35, 36, 15, 48, 25, 95, 63}\n",
            "{32, 35, 36, 15, 48, 25, 95, 63}\n",
            "{32, 35, 36, 15, 48, 25, 95, 63}\n",
            "{32, 35, 36, 15, 48, 25, 95, 63}\n"
          ]
        }
      ]
    },
    {
      "cell_type": "code",
      "source": [
        "# 2. intersection():\n",
        "#Syntax: x.intersection(y) or x&y\n",
        "#Returns common elements present in both x and y\n",
        "x = {15,36,95,35,65}\n",
        "y = {36,65,95.36,15}\n",
        "\n",
        "print(x.intersection(y))\n",
        "\n",
        "x&y"
      ],
      "metadata": {
        "colab": {
          "base_uri": "https://localhost:8080/"
        },
        "id": "a9PVXb4fj0HG",
        "outputId": "7961f566-1cb1-49eb-9994-9734b3db7e63"
      },
      "execution_count": 27,
      "outputs": [
        {
          "output_type": "stream",
          "name": "stdout",
          "text": [
            "{65, 36, 15}\n"
          ]
        },
        {
          "output_type": "execute_result",
          "data": {
            "text/plain": [
              "{15, 36, 65}"
            ]
          },
          "metadata": {},
          "execution_count": 27
        }
      ]
    },
    {
      "cell_type": "code",
      "source": [
        "a = {15,35,62,96,53}\n",
        "b = {35,63,69,53,96}\n",
        "\n",
        "print(a.intersection(b))\n",
        "\n",
        "a&b\n"
      ],
      "metadata": {
        "colab": {
          "base_uri": "https://localhost:8080/"
        },
        "id": "FKAKhPiGlmzb",
        "outputId": "7d9d92b7-8177-44c2-a153-97cd4b984695"
      },
      "execution_count": 28,
      "outputs": [
        {
          "output_type": "stream",
          "name": "stdout",
          "text": [
            "{96, 35, 53}\n"
          ]
        },
        {
          "output_type": "execute_result",
          "data": {
            "text/plain": [
              "{35, 53, 96}"
            ]
          },
          "metadata": {},
          "execution_count": 28
        }
      ]
    },
    {
      "cell_type": "code",
      "source": [
        "# 3. difference():\n",
        "# Syntax: x.difference(y) OR x-y.\n",
        "#Returns the elements present in x but not in y.\n",
        "x = {10,15,36,965,3,33}\n",
        "y = {23,15,36,33,622,52}\n",
        "x.difference(y)\n"
      ],
      "metadata": {
        "colab": {
          "base_uri": "https://localhost:8080/"
        },
        "id": "4wDvPXRgmTeH",
        "outputId": "f9f86341-d664-4503-dc16-cc6b242d965d"
      },
      "execution_count": 29,
      "outputs": [
        {
          "output_type": "execute_result",
          "data": {
            "text/plain": [
              "{3, 10, 965}"
            ]
          },
          "metadata": {},
          "execution_count": 29
        }
      ]
    },
    {
      "cell_type": "code",
      "source": [
        "x-y\n"
      ],
      "metadata": {
        "colab": {
          "base_uri": "https://localhost:8080/"
        },
        "id": "oSEjYX93nJ_K",
        "outputId": "f28bc135-0897-4989-9a1a-8420744d68d8"
      },
      "execution_count": 30,
      "outputs": [
        {
          "output_type": "execute_result",
          "data": {
            "text/plain": [
              "{3, 10, 965}"
            ]
          },
          "metadata": {},
          "execution_count": 30
        }
      ]
    },
    {
      "cell_type": "code",
      "source": [
        "x= {15,53,62,65,96}\n",
        "y = {75,63,52,62,\"b\",96}\n",
        "\n",
        "y-x"
      ],
      "metadata": {
        "colab": {
          "base_uri": "https://localhost:8080/"
        },
        "id": "PPlTMV5ZnL0B",
        "outputId": "d88431d5-34bc-40b3-c170-6e061391b4de"
      },
      "execution_count": 32,
      "outputs": [
        {
          "output_type": "execute_result",
          "data": {
            "text/plain": [
              "{52, 63, 75, 'b'}"
            ]
          },
          "metadata": {},
          "execution_count": 32
        }
      ]
    },
    {
      "cell_type": "code",
      "source": [
        "#4. symmetric_difference():\n",
        "# x.symmetric_difference(y) OR x^y\n",
        "#Returns elements present in either x OR y but not in both.\n",
        "\n",
        "x = {15,26,36,86,95,12,\"data\"}\n",
        "y = {\"python\", \"is\",23,56,36,95}\n",
        "x.symmetric_difference(y)"
      ],
      "metadata": {
        "colab": {
          "base_uri": "https://localhost:8080/"
        },
        "id": "Li62ulFKnlJx",
        "outputId": "ec749a55-c35d-448a-a9fe-a43241eb499c"
      },
      "execution_count": 33,
      "outputs": [
        {
          "output_type": "execute_result",
          "data": {
            "text/plain": [
              "{12, 15, 23, 26, 56, 86, 'data', 'is', 'python'}"
            ]
          },
          "metadata": {},
          "execution_count": 33
        }
      ]
    },
    {
      "cell_type": "code",
      "source": [
        "print(x^y)\n",
        "print(y^x)"
      ],
      "metadata": {
        "colab": {
          "base_uri": "https://localhost:8080/"
        },
        "id": "Dfr2fGi1oh2Q",
        "outputId": "c4d26327-7c61-4d1f-8156-1922d5b2ef9a"
      },
      "execution_count": 35,
      "outputs": [
        {
          "output_type": "stream",
          "name": "stdout",
          "text": [
            "{12, 15, 86, 23, 26, 'is', 'python', 'data', 56}\n",
            "{12, 15, 86, 23, 26, 'is', 'python', 'data', 56}\n"
          ]
        }
      ]
    },
    {
      "cell_type": "markdown",
      "source": [
        "## membership operator (in , not in)\n",
        "\n"
      ],
      "metadata": {
        "id": "pHYMfo6_o7DR"
      }
    },
    {
      "cell_type": "code",
      "source": [
        "x = {12,35,62,96,52,36,25,}\n",
        "15 in x\n"
      ],
      "metadata": {
        "colab": {
          "base_uri": "https://localhost:8080/"
        },
        "id": "A1e_dWedopSI",
        "outputId": "c4fe954c-cfd4-402f-cecd-1414398b8a0f"
      },
      "execution_count": 36,
      "outputs": [
        {
          "output_type": "execute_result",
          "data": {
            "text/plain": [
              "False"
            ]
          },
          "metadata": {},
          "execution_count": 36
        }
      ]
    },
    {
      "cell_type": "code",
      "source": [
        "15 not in x"
      ],
      "metadata": {
        "colab": {
          "base_uri": "https://localhost:8080/"
        },
        "id": "p4lnNx0bpWHz",
        "outputId": "b35e9640-353f-4ad5-8b21-e94c13e24972"
      },
      "execution_count": 37,
      "outputs": [
        {
          "output_type": "execute_result",
          "data": {
            "text/plain": [
              "True"
            ]
          },
          "metadata": {},
          "execution_count": 37
        }
      ]
    },
    {
      "cell_type": "code",
      "source": [
        "35 in x"
      ],
      "metadata": {
        "colab": {
          "base_uri": "https://localhost:8080/"
        },
        "id": "E5bqcBLwpkRn",
        "outputId": "be3601d8-d602-49cc-c667-0179caa6759c"
      },
      "execution_count": 38,
      "outputs": [
        {
          "output_type": "execute_result",
          "data": {
            "text/plain": [
              "True"
            ]
          },
          "metadata": {},
          "execution_count": 38
        }
      ]
    },
    {
      "cell_type": "code",
      "source": [
        "s = set(\"python is easy lang\")\n",
        "s"
      ],
      "metadata": {
        "colab": {
          "base_uri": "https://localhost:8080/"
        },
        "id": "Fr_3-aQIpvR1",
        "outputId": "9dc4952c-b2ed-47c8-92f4-fc7fbcafd6d1"
      },
      "execution_count": 40,
      "outputs": [
        {
          "output_type": "execute_result",
          "data": {
            "text/plain": [
              "{' ', 'a', 'e', 'g', 'h', 'i', 'l', 'n', 'o', 'p', 's', 't', 'y'}"
            ]
          },
          "metadata": {},
          "execution_count": 40
        }
      ]
    },
    {
      "cell_type": "code",
      "source": [
        " \" \" in s"
      ],
      "metadata": {
        "colab": {
          "base_uri": "https://localhost:8080/"
        },
        "id": "NGY-WdGYp5g5",
        "outputId": "b148b4e2-09ee-4ac7-d65c-36e1a235630e"
      },
      "execution_count": 41,
      "outputs": [
        {
          "output_type": "execute_result",
          "data": {
            "text/plain": [
              "True"
            ]
          },
          "metadata": {},
          "execution_count": 41
        }
      ]
    },
    {
      "cell_type": "code",
      "source": [
        "\"d\" in s"
      ],
      "metadata": {
        "colab": {
          "base_uri": "https://localhost:8080/"
        },
        "id": "J7_3UuDusvpg",
        "outputId": "170dab52-b432-4040-8a22-513f8bed9119"
      },
      "execution_count": 43,
      "outputs": [
        {
          "output_type": "execute_result",
          "data": {
            "text/plain": [
              "False"
            ]
          },
          "metadata": {},
          "execution_count": 43
        }
      ]
    },
    {
      "cell_type": "markdown",
      "source": [
        "# set comprehention"
      ],
      "metadata": {
        "id": "4OlM-Lo3s5Ng"
      }
    },
    {
      "cell_type": "code",
      "source": [
        "\n",
        "\n",
        "x = {s*s for s in range (0,100,15)} #squr in range of 0,15,30,45,...90\n",
        "x"
      ],
      "metadata": {
        "colab": {
          "base_uri": "https://localhost:8080/"
        },
        "id": "cJ4jk3X_s0Z2",
        "outputId": "e6935502-4b0b-489d-a32b-29136cecdc78"
      },
      "execution_count": 1,
      "outputs": [
        {
          "output_type": "execute_result",
          "data": {
            "text/plain": [
              "{0, 225, 900, 2025, 3600, 5625, 8100}"
            ]
          },
          "metadata": {},
          "execution_count": 1
        }
      ]
    },
    {
      "cell_type": "code",
      "source": [
        " x = {s%5==0 for s in range(10,50)}    #\n",
        " x   "
      ],
      "metadata": {
        "colab": {
          "base_uri": "https://localhost:8080/"
        },
        "id": "bcox45VttHhI",
        "outputId": "5ba3f4f2-d6cf-417c-bcce-45d71c948c49"
      },
      "execution_count": 48,
      "outputs": [
        {
          "output_type": "execute_result",
          "data": {
            "text/plain": [
              "{False, True}"
            ]
          },
          "metadata": {},
          "execution_count": 48
        }
      ]
    },
    {
      "cell_type": "markdown",
      "source": [
        "### Q) Write a Program to eliminate Duplicates Present in the List?"
      ],
      "metadata": {
        "id": "fN2MXXYq-bbh"
      }
    },
    {
      "cell_type": "code",
      "source": [
        "list1 = [10,20,30,40,10,20,30,40] #create a list with duplicate items\n",
        "list2 = []                        # emty list\n",
        "for i in list1:\n",
        "  if i not in list2:              #olny add once\n",
        "    list2.append(i)               #list.append() items in list\n",
        "print(list2)"
      ],
      "metadata": {
        "colab": {
          "base_uri": "https://localhost:8080/"
        },
        "id": "fCty8sJ6_bju",
        "outputId": "85cb0050-583e-4134-a5de-ed8927e79103"
      },
      "execution_count": 58,
      "outputs": [
        {
          "output_type": "stream",
          "name": "stdout",
          "text": [
            "[10, 20, 30, 40]\n"
          ]
        }
      ]
    },
    {
      "cell_type": "code",
      "source": [
        "x = [10,20,30,40,10,30,40,] #if list change in to set , duplicates automatically eliminate\n",
        "\n",
        "y = set(x)\n",
        "print(x)\n",
        "y"
      ],
      "metadata": {
        "colab": {
          "base_uri": "https://localhost:8080/"
        },
        "id": "9Bl9PlMmx3Ev",
        "outputId": "12bc1215-5ef9-45d1-b5c0-c971bfe37263"
      },
      "execution_count": 19,
      "outputs": [
        {
          "output_type": "stream",
          "name": "stdout",
          "text": [
            "[10, 20, 30, 40, 10, 30, 40]\n"
          ]
        },
        {
          "output_type": "execute_result",
          "data": {
            "text/plain": [
              "{10, 20, 30, 40}"
            ]
          },
          "metadata": {},
          "execution_count": 19
        }
      ]
    },
    {
      "cell_type": "code",
      "source": [
        "#Q. add items in list up to 100 only divisible by 9\n",
        "list1= []\n",
        "\n",
        "for i in range(0,100):\n",
        "  if i%9==0:\n",
        "    if i not in list1:\n",
        "      list1.append(i)\n",
        "print(list1)\n"
      ],
      "metadata": {
        "colab": {
          "base_uri": "https://localhost:8080/"
        },
        "id": "nFraV0mvtqT_",
        "outputId": "698ef808-2e37-4bb1-819c-6cca262f0b45"
      },
      "execution_count": 48,
      "outputs": [
        {
          "output_type": "stream",
          "name": "stdout",
          "text": [
            "[0, 9, 18, 27, 36, 45, 54, 63, 72, 81, 90, 99]\n"
          ]
        }
      ]
    },
    {
      "cell_type": "markdown",
      "source": [
        "Q) Write a Program to Print different Vowels Present in the given Word?(Using intersection method"
      ],
      "metadata": {
        "id": "Sdob_UyeJIkD"
      }
    },
    {
      "cell_type": "code",
      "source": [
        "# Q) Write a Program to Print different Vowels Present in the given Word?/string(Using intersection method\n",
        "\n",
        "x = \"data scientist\"\n",
        "y = ['a','e','i','o','u']\n",
        "for i in x:\n",
        "  if i in y:\n",
        "    print(i,end=\"\\t\")"
      ],
      "metadata": {
        "colab": {
          "base_uri": "https://localhost:8080/"
        },
        "id": "AoZUVtGMJFWM",
        "outputId": "72ad56e5-9e60-46a9-a43d-93b5a39cb4d5"
      },
      "execution_count": 67,
      "outputs": [
        {
          "output_type": "stream",
          "name": "stdout",
          "text": [
            "a\ta\ti\te\ti\t"
          ]
        }
      ]
    },
    {
      "cell_type": "code",
      "source": [
        "x = \"data scientist\"    # dont print vowels\n",
        "y = ('a','e','i','o','u')\n",
        "for i in x:\n",
        "  if i in y:\n",
        "    continue\n",
        "  print(i,end=\"\\t\")"
      ],
      "metadata": {
        "colab": {
          "base_uri": "https://localhost:8080/"
        },
        "id": "hPFB7I50_zqp",
        "outputId": "5bcc502b-e86d-40af-e1fb-92df45cf3d0b"
      },
      "execution_count": 69,
      "outputs": [
        {
          "output_type": "stream",
          "name": "stdout",
          "text": [
            "d\tt\t \ts\tc\tn\tt\ts\tt\t"
          ]
        }
      ]
    },
    {
      "cell_type": "markdown",
      "source": [
        "## UTF - 8\n",
        "\n",
        "UTF-8 is one of the most commonly used encodings, and Python often defaults to using it. UTF stands for “Unicode Transformation Format”, and the ‘8’ means that 8-bit values are used in the encoding."
      ],
      "metadata": {
        "id": "8VF8JtrWSlP4"
      }
    },
    {
      "cell_type": "markdown",
      "source": [
        "**UTF-8 uses the following rules:**\n",
        "\n",
        "* If the code point is < 128, it’s represented by the corresponding byte value.\n",
        "\n",
        "* If the code point is >= 128, it’s turned into a sequence of two, three, or four bytes, where each byte of the sequence is between 128 and 255.\n",
        "\n",
        "**UTF-8 has several convenient properties:**\n",
        "\n",
        "* It can handle any Unicode code point.\n",
        "\n",
        "* A Unicode string is turned into a sequence of bytes that contains embedded zero bytes only where they represent the null character (U+0000). This means that UTF-8 strings can be processed by C functions such as strcpy() and sent through protocols that can’t handle zero bytes for anything other than end-of-string markers.\n",
        "\n",
        "* A string of ASCII text is also valid UTF-8 text.\n",
        "\n",
        "* UTF-8 is fairly compact; the majority of commonly used characters can be represented with one or two bytes.\n",
        "\n",
        "* If bytes are corrupted or lost, it’s possible to determine the start of the next UTF-8-encoded code point and resynchronize. It’s also unlikely that random 8-bit data will look like valid UTF-8.\n",
        "\n",
        "* UTF-8 is a byte oriented encoding. The encoding specifies that each character is represented by a specific sequence of one or more bytes. This avoids the byte-ordering issues that can occur with integer and word oriented encodings, like UTF-16 and UTF-32, where the sequence of bytes varies depending on the hardware on which the string was encoded."
      ],
      "metadata": {
        "id": "q7KqnFThTbjp"
      }
    },
    {
      "cell_type": "code",
      "source": [
        ""
      ],
      "metadata": {
        "id": "uotArH7EMoy8"
      },
      "execution_count": null,
      "outputs": []
    }
  ]
}