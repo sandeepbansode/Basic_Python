{
  "nbformat": 4,
  "nbformat_minor": 0,
  "metadata": {
    "colab": {
      "name": "4_Basic_python_control flow.ipynb",
      "provenance": [],
      "collapsed_sections": [],
      "authorship_tag": "ABX9TyNYRswzNZBsxMvxJGeg9HFm",
      "include_colab_link": true
    },
    "kernelspec": {
      "name": "python3",
      "display_name": "Python 3"
    },
    "language_info": {
      "name": "python"
    }
  },
  "cells": [
    {
      "cell_type": "markdown",
      "metadata": {
        "id": "view-in-github",
        "colab_type": "text"
      },
      "source": [
        "<a href=\"https://colab.research.google.com/github/sandeepbansode/Basic_Python/blob/main/4_Basic_python_control_flow.ipynb\" target=\"_parent\"><img src=\"https://colab.research.google.com/assets/colab-badge.svg\" alt=\"Open In Colab\"/></a>"
      ]
    },
    {
      "cell_type": "markdown",
      "source": [
        "# **Flow control**"
      ],
      "metadata": {
        "id": "98HyKj3jJqgD"
      }
    },
    {
      "cell_type": "markdown",
      "source": [
        "\n",
        "![python-flow-control-statements.webp](data:image/webp;base64,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)"
      ],
      "metadata": {
        "id": "cJvQD88YIl1R"
      }
    },
    {
      "cell_type": "markdown",
      "source": [
        "# **conditional statements**\n",
        " In Python, condition statements act depending on whether a given condition is true or false. You can execute different blocks of codes depending on the outcome of a condition. Condition statements always evaluate to either True or False.\n",
        "\n",
        "There are four types of conditional statements.\n",
        "\n",
        "* #### if statement\n",
        "* #### if-else\n",
        "* ### if-elif-else\n",
        "* ### nested if-else"
      ],
      "metadata": {
        "id": "W8YB-hCKIjUa"
      }
    },
    {
      "cell_type": "markdown",
      "source": [
        "# **if statement**\n",
        "\n",
        "In control statements, The if statement is the simplest form. It takes a condition and evaluates to either True or False.\n",
        "\n",
        "If the condition is True, then the True block of code will be executed, and if the condition is False, then the block of code is skipped, and The controller moves to the next line\n",
        "\n",
        "Syntax of the if statement\n",
        "\n",
        " \n",
        " if condition:\n",
        "\n",
        "     statement 1\n",
        "\n",
        "     statement 2\n",
        "\n",
        "     statement n\n"
      ],
      "metadata": {
        "id": "ClMwEkqqLSHG"
      }
    },
    {
      "cell_type": "code",
      "source": [
        "x= 25\n",
        "y= 15\n",
        "if x>y:\n",
        "  print(\"x is greater than y\")"
      ],
      "metadata": {
        "colab": {
          "base_uri": "https://localhost:8080/"
        },
        "id": "8O6pJhH0LuOC",
        "outputId": "5d3ffbbc-4521-43c0-d12e-ae4c67b55dd1"
      },
      "execution_count": null,
      "outputs": [
        {
          "output_type": "stream",
          "name": "stdout",
          "text": [
            "x is greater than y\n"
          ]
        }
      ]
    },
    {
      "cell_type": "code",
      "source": [
        "#if else statement\n",
        "x=input(\"Enter ypur name: \")\n",
        "\n",
        "if x==\"rahul\":\n",
        "  print(\"hello rahul\")\n",
        "  print(\"Good Morning Rahul\")\n",
        "else:\n",
        "  print(\"hello\",x)\n",
        "  print(\"Good Morning\",x)\n",
        "\n",
        "print(\"Have nice day\",x)\n"
      ],
      "metadata": {
        "colab": {
          "base_uri": "https://localhost:8080/"
        },
        "id": "0FGKFadS0d5e",
        "outputId": "4a38eae0-d955-46ee-ab6e-3a98a6824083"
      },
      "execution_count": 6,
      "outputs": [
        {
          "output_type": "stream",
          "name": "stdout",
          "text": [
            "Enter ypur name: rahul\n",
            "hello rahul\n",
            "Good Morning Rahul\n",
            "Have nice day rahul\n"
          ]
        }
      ]
    },
    {
      "cell_type": "code",
      "source": [
        "# a program to find biggest of given 2 numbers\n",
        "x= input(\"Enter the value of x :\" )\n",
        "y = input(\"Enter the value of y: \")\n",
        "\n",
        "if x>y:                           #\n",
        "  print(\"x is greater than y\")\n",
        "  print(\"thank you ,good bye\")"
      ],
      "metadata": {
        "colab": {
          "base_uri": "https://localhost:8080/"
        },
        "id": "dcaxZUllMMq5",
        "outputId": "a3f6c4d9-fbdd-4610-ccf3-438a76dc6b5b"
      },
      "execution_count": null,
      "outputs": [
        {
          "output_type": "stream",
          "name": "stdout",
          "text": [
            "Enter the value of x :85\n",
            "Enter the value of y: 12\n",
            "x is greater than y\n",
            "thank you ,good bye\n"
          ]
        }
      ]
    },
    {
      "cell_type": "code",
      "source": [
        "#if elif else loop\n",
        "# Program to find Biggest of given 3 Numbers from the Commad Prompt\n",
        "\n",
        "x = int(input(\"Enter 1st number : \"))\n",
        "y = int(input(\"Enter 2nd number : \"))\n",
        "z = int(input(\"Enter 3rd number : \"))\n",
        "\n",
        "if x>y and x>z:\n",
        "  print(\"The biggest number is : \", x)\n",
        "elif y>z :\n",
        "  print(\"The biggest number is :\", y)\n",
        "elif x==y and y==z:\n",
        "  print(\"all numbers are equal\")  \n",
        "else :\n",
        "  print(\"The biggest number is :\", z)  \n",
        "\n",
        "\n",
        "\n",
        "print(\"thank you\")      "
      ],
      "metadata": {
        "colab": {
          "base_uri": "https://localhost:8080/"
        },
        "id": "rZdGdKZCMzSQ",
        "outputId": "ce7a59be-5ce4-48b9-b9ca-909775771b9b"
      },
      "execution_count": null,
      "outputs": [
        {
          "output_type": "stream",
          "name": "stdout",
          "text": [
            "Enter 1st number : 14\n",
            "Enter 2nd number : 45\n",
            "Enter 3rd number : 14\n",
            "The biggest number is : 45\n",
            "thank you\n"
          ]
        }
      ]
    },
    {
      "cell_type": "code",
      "source": [
        "# a program to find smallest of given 2 numbers\n",
        "a = input (\"Enter the 1st number : \")\n",
        "b = input (\"Enter the 2nd number : \")\n",
        "\n",
        "\n",
        "if a>b :\n",
        " print(\"smallest number is :\", b)\n",
        "else:\n",
        " print(\"smallest number is :\", a)"
      ],
      "metadata": {
        "colab": {
          "base_uri": "https://localhost:8080/"
        },
        "id": "RYI9Y0B_PpHa",
        "outputId": "83402e0c-ce03-4fb2-a7c4-e34791352dc3"
      },
      "execution_count": null,
      "outputs": [
        {
          "output_type": "stream",
          "name": "stdout",
          "text": [
            "Enter the 1st number : 14\n",
            "Enter the 2nd number : 15\n",
            "smallest number is : 14\n"
          ]
        }
      ]
    },
    {
      "cell_type": "code",
      "source": [
        "# a program to find smallest of given 3 numbers\n",
        "m= input(\"Enter 1st number :\" )\n",
        "n = input(\"Enter 2nd number : \")\n",
        "o = input(\"Enter 3rd number : \")\n",
        "\n",
        "if m<n and m<o :\n",
        "  print(\"smallest number is :\", m)\n",
        "elif n<o:\n",
        "  print(\"smallest number is : \",n)\n",
        "elif m==n and n==o :\n",
        "  print (\"all the numbers are equal\")\n",
        "else:\n",
        "  print(\"smallest number is :\", o)  \n",
        "\n",
        "print(\"Thank you \")\n"
      ],
      "metadata": {
        "colab": {
          "base_uri": "https://localhost:8080/"
        },
        "id": "vMR479IkXbHV",
        "outputId": "bd8fc071-ad1f-4703-c388-f23c13f64cf3"
      },
      "execution_count": null,
      "outputs": [
        {
          "output_type": "stream",
          "name": "stdout",
          "text": [
            "Enter 1st number :45\n",
            "Enter 2nd number : 48\n",
            "Enter 3rd number : 46\n",
            "smallest number is : 45\n",
            "Thank you \n"
          ]
        }
      ]
    },
    {
      "cell_type": "code",
      "source": [
        "#a program to check whether the given number is even or odd\n",
        "\n",
        "s = int (input (\"Enter the number : \"))\n",
        "\n",
        "if s%2 ==0 :\n",
        "  print(\"This number is even :\",s)\n",
        "else:\n",
        "  print(\"This number is odd :\",s) \n",
        "\n",
        "print(\"Thank You\")   "
      ],
      "metadata": {
        "colab": {
          "base_uri": "https://localhost:8080/"
        },
        "id": "PXNNIkybbgg9",
        "outputId": "3be34e16-7a11-4016-fa70-8e55b54313d6"
      },
      "execution_count": null,
      "outputs": [
        {
          "output_type": "stream",
          "name": "stdout",
          "text": [
            "Enter the number : 15\n",
            "This number is odd : 15\n",
            "Thank You\n"
          ]
        }
      ]
    },
    {
      "cell_type": "markdown",
      "source": [
        "# **2) Iterative Statements:**\n",
        "\n",
        "֍ ֍If we want to execute a group of statements multiple times then we should go for Iterative statements.\n",
        "\n",
        "Python supports 2 types of iterative statements.\n",
        "\n",
        "for loop\n",
        "\n",
        "while loop\n",
        "\n",
        "###**for loop:**\n",
        "\n",
        "If we want to execute some action for every element present in some sequence (it may be string or collection) then we should go for for loop.\n",
        "\n",
        "Syntax:\n",
        "\n",
        "for x in sequence:\n",
        "\n",
        "Body\n",
        "\n",
        "Where sequence can be string or any collection.\n",
        "\n",
        "Body will be executed for every element present in the sequence."
      ],
      "metadata": {
        "id": "NXUSDo_KlhV8"
      }
    },
    {
      "cell_type": "code",
      "source": [
        "# To print characters present in the given string\n",
        "y = \"Avengers: \" #priting i\n",
        "for i in y:\n",
        "  print(i)"
      ],
      "metadata": {
        "colab": {
          "base_uri": "https://localhost:8080/"
        },
        "id": "w0DhCh8kcpjq",
        "outputId": "4727d033-d89a-45e8-b20e-7675c36d99b7"
      },
      "execution_count": null,
      "outputs": [
        {
          "output_type": "stream",
          "name": "stdout",
          "text": [
            "A\n",
            "v\n",
            "e\n",
            "n\n",
            "g\n",
            "e\n",
            "r\n",
            "s\n",
            ":\n",
            " \n"
          ]
        }
      ]
    },
    {
      "cell_type": "code",
      "source": [
        "x = (10,15,52,48,41) #printig x (tupel) \n",
        "for i in x:\n",
        "   print(x)"
      ],
      "metadata": {
        "colab": {
          "base_uri": "https://localhost:8080/"
        },
        "id": "XRirn5CrdAUe",
        "outputId": "ed6822ae-0a25-4a56-f8de-a41cfe63f440"
      },
      "execution_count": null,
      "outputs": [
        {
          "output_type": "stream",
          "name": "stdout",
          "text": [
            "(10, 15, 52, 48, 41)\n",
            "(10, 15, 52, 48, 41)\n",
            "(10, 15, 52, 48, 41)\n",
            "(10, 15, 52, 48, 41)\n",
            "(10, 15, 52, 48, 41)\n"
          ]
        }
      ]
    },
    {
      "cell_type": "code",
      "source": [
        "x = [10,15,52,48,41] #printig i #printing values in list\n",
        "for i in x:\n",
        "   print(i)"
      ],
      "metadata": {
        "colab": {
          "base_uri": "https://localhost:8080/"
        },
        "id": "de8vkyudnwKW",
        "outputId": "c50a7785-ee4e-4c34-f365-79a3b894004c"
      },
      "execution_count": null,
      "outputs": [
        {
          "output_type": "stream",
          "name": "stdout",
          "text": [
            "10\n",
            "15\n",
            "52\n",
            "48\n",
            "41\n"
          ]
        }
      ]
    },
    {
      "cell_type": "code",
      "source": [
        "#disply multiple of 5 in bet'n 75 to 100\n",
        "\n",
        "for i in range(74,101):\n",
        "  if i%5==0:\n",
        "    print(i)"
      ],
      "metadata": {
        "colab": {
          "base_uri": "https://localhost:8080/"
        },
        "id": "uAaNJyPepLB-",
        "outputId": "54d5652e-8e78-4768-f6d0-7c209380281b"
      },
      "execution_count": null,
      "outputs": [
        {
          "output_type": "stream",
          "name": "stdout",
          "text": [
            "75\n",
            "80\n",
            "85\n",
            "90\n",
            "95\n",
            "100\n"
          ]
        }
      ]
    },
    {
      "cell_type": "code",
      "source": [
        "#disply (10-0)in decending order\n",
        "\n",
        "for i in range (10,0,-1):\n",
        "  print(i)"
      ],
      "metadata": {
        "colab": {
          "base_uri": "https://localhost:8080/"
        },
        "id": "BSD4iDtuqlT1",
        "outputId": "c3b27faa-922e-4bd2-dde0-017f03b971bb"
      },
      "execution_count": null,
      "outputs": [
        {
          "output_type": "stream",
          "name": "stdout",
          "text": [
            "10\n",
            "9\n",
            "8\n",
            "7\n",
            "6\n",
            "5\n",
            "4\n",
            "3\n",
            "2\n",
            "1\n"
          ]
        }
      ]
    },
    {
      "cell_type": "code",
      "source": [
        "# To print sqrt of numbers presenst inside list\n",
        "import math\n",
        "a = eval(input(\"Enter the list :\"))\n",
        "\n",
        "for x in a:\n",
        "  x = math.sqrt(x)\n",
        "  print(x) "
      ],
      "metadata": {
        "colab": {
          "base_uri": "https://localhost:8080/"
        },
        "id": "aozdsIy0rN6l",
        "outputId": "6d74d166-2dfa-4e8b-8f0c-77100a26a8b3"
      },
      "execution_count": null,
      "outputs": [
        {
          "output_type": "stream",
          "name": "stdout",
          "text": [
            "Enter the list :4,45,47\n",
            "2.0\n",
            "6.708203932499369\n",
            "6.855654600401044\n"
          ]
        }
      ]
    },
    {
      "cell_type": "markdown",
      "source": [
        "# **While loop in Python**\n",
        "\n",
        "In Python, The while loop statement repeatedly executes a code block while a particular condition is true.\n",
        "\n",
        "In a while-loop, every time the condition is checked at the beginning of the loop, and if it is true, then the loop’s body gets executed. When the condition became False, the controller comes out of the block."
      ],
      "metadata": {
        "id": "XanaWnDOyV2g"
      }
    },
    {
      "cell_type": "code",
      "source": [
        "# To print numbers from 90 to 101 by using while loop\n",
        "i=90\n",
        "while i<=100:\n",
        "  i+=1\n",
        "  print(i)"
      ],
      "metadata": {
        "colab": {
          "base_uri": "https://localhost:8080/"
        },
        "id": "Rd61UbRSuEAY",
        "outputId": "68412985-0e99-4008-e8bf-a6b8d08bf0c1"
      },
      "execution_count": null,
      "outputs": [
        {
          "output_type": "stream",
          "name": "stdout",
          "text": [
            "91\n",
            "92\n",
            "93\n",
            "94\n",
            "95\n",
            "96\n",
            "97\n",
            "98\n",
            "99\n",
            "100\n",
            "101\n"
          ]
        },
        {
          "output_type": "execute_result",
          "data": {
            "text/plain": [
              "True"
            ]
          },
          "metadata": {},
          "execution_count": 120
        }
      ]
    },
    {
      "cell_type": "code",
      "source": [
        "for i in range (90,101):\n",
        " if i%2!=0:\n",
        "   print(i)"
      ],
      "metadata": {
        "colab": {
          "base_uri": "https://localhost:8080/"
        },
        "id": "aK3YXpo-zLDw",
        "outputId": "db18b82e-4856-4d27-9186-45049383a1f9"
      },
      "execution_count": null,
      "outputs": [
        {
          "output_type": "stream",
          "name": "stdout",
          "text": [
            "91\n",
            "93\n",
            "95\n",
            "97\n",
            "99\n"
          ]
        }
      ]
    },
    {
      "cell_type": "code",
      "source": [
        "# To print only even numbers from 90 to 101 by using while loop\n",
        "i=90\n",
        "while i<=100:\n",
        "  i+=2\n",
        "  print(i)\n",
        "\"Thank you\"  "
      ],
      "metadata": {
        "colab": {
          "base_uri": "https://localhost:8080/",
          "height": 140
        },
        "id": "eONXkScS1p8-",
        "outputId": "98705e3d-fed8-4c7f-ee97-9ca8fdb5ac17"
      },
      "execution_count": null,
      "outputs": [
        {
          "output_type": "stream",
          "name": "stdout",
          "text": [
            "92\n",
            "94\n",
            "96\n",
            "98\n",
            "100\n",
            "102\n"
          ]
        },
        {
          "output_type": "execute_result",
          "data": {
            "text/plain": [
              "'Thank you'"
            ],
            "application/vnd.google.colaboratory.intrinsic+json": {
              "type": "string"
            }
          },
          "metadata": {},
          "execution_count": 131
        }
      ]
    },
    {
      "cell_type": "code",
      "source": [
        "#print only odd number bet'n given list\n",
        "\n",
        "x = eval(input(\"Enter the list:\"))\n",
        "\n",
        "for i in x: \n",
        "  if i%2 !=0:\n",
        "    print(i)"
      ],
      "metadata": {
        "colab": {
          "base_uri": "https://localhost:8080/"
        },
        "id": "wgGGq2aI7d7p",
        "outputId": "b87da0ef-3673-4be7-f9b6-488909871ef8"
      },
      "execution_count": null,
      "outputs": [
        {
          "output_type": "stream",
          "name": "stdout",
          "text": [
            "Enter the list:1,2,3,4,5,6\n",
            "1\n",
            "3\n",
            "5\n"
          ]
        }
      ]
    },
    {
      "cell_type": "markdown",
      "source": [
        "# infinite loop"
      ],
      "metadata": {
        "id": "yNtJqJ8H-CFG"
      }
    },
    {
      "cell_type": "code",
      "source": [
        "'''x=90\n",
        "while x<100:\n",
        "  print(x)'''"
      ],
      "metadata": {
        "colab": {
          "base_uri": "https://localhost:8080/",
          "height": 35
        },
        "id": "ZAJvYZJM8n4z",
        "outputId": "7dc03cdb-cc63-4364-ac94-35219f37f684"
      },
      "execution_count": null,
      "outputs": [
        {
          "output_type": "execute_result",
          "data": {
            "text/plain": [
              "'x=90\\nwhile x<100:\\n  print(x)'"
            ],
            "application/vnd.google.colaboratory.intrinsic+json": {
              "type": "string"
            }
          },
          "metadata": {},
          "execution_count": 144
        }
      ]
    },
    {
      "cell_type": "markdown",
      "source": [
        "# **Nested loops**\n",
        "\n",
        "A nested loop is a loop inside the body of the outer loop. The inner or outer loop can be any type, such as a while loop or for loop. For example, the outer for loop can contain a while loop and vice versa"
      ],
      "metadata": {
        "id": "YNWOm4OZCTsr"
      }
    },
    {
      "cell_type": "code",
      "source": [
        "for i in range(2):\n",
        "  for j in range(3):\n",
        "    print(\"i=\",i,\"j=\",j)"
      ],
      "metadata": {
        "colab": {
          "base_uri": "https://localhost:8080/"
        },
        "id": "yOlW_PK_B9Pq",
        "outputId": "7d55e23a-ad64-4130-b3b5-de87da6c90ea"
      },
      "execution_count": null,
      "outputs": [
        {
          "output_type": "stream",
          "name": "stdout",
          "text": [
            "i= 0 j= 0\n",
            "i= 0 j= 1\n",
            "i= 0 j= 2\n",
            "i= 1 j= 0\n",
            "i= 1 j= 1\n",
            "i= 1 j= 2\n"
          ]
        }
      ]
    },
    {
      "cell_type": "code",
      "source": [
        "i=4\n",
        "j=5\n",
        "for i in range(0,4,1):\n",
        "  for j in range(4,0,-3):\n",
        "\n",
        "    print(i,j)"
      ],
      "metadata": {
        "colab": {
          "base_uri": "https://localhost:8080/"
        },
        "id": "_G86KNc_DAY5",
        "outputId": "606e0e6f-1a74-4761-a6ce-fa39e3831004"
      },
      "execution_count": null,
      "outputs": [
        {
          "output_type": "stream",
          "name": "stdout",
          "text": [
            "0 4\n",
            "0 1\n",
            "1 4\n",
            "1 1\n",
            "2 4\n",
            "2 1\n",
            "3 4\n",
            "3 1\n"
          ]
        }
      ]
    },
    {
      "cell_type": "code",
      "source": [
        "# a Program to dispaly *'s in Right Angled Triangled Form\n",
        "x = int(input(\"Enter the number of rows: \"))\n",
        "\n",
        "for i in range(0,x):       #outer loop to handle numbers of rows\n",
        "\n",
        "  for j in range(0,i+1):   #inner loop to handle inner coloumn\n",
        "\n",
        "    print(\"*\",end=\"\")      #end=\"\"  for * to print in one cell\n",
        "\n",
        "  print()                  #ending line after each row\n"
      ],
      "metadata": {
        "colab": {
          "base_uri": "https://localhost:8080/"
        },
        "id": "1yr6oU-oDvaT",
        "outputId": "0cca2867-2439-45e5-b005-137580d1733b"
      },
      "execution_count": null,
      "outputs": [
        {
          "output_type": "stream",
          "name": "stdout",
          "text": [
            "Enter the number of rows: 5\n",
            "*\n",
            "**\n",
            "***\n",
            "****\n",
            "*****\n"
          ]
        }
      ]
    },
    {
      "cell_type": "code",
      "source": [
        "#upside down pyramid\n",
        "x = int(input(\"Enter the number of rows: \"))\n",
        "for i in range(x+1,0,-1):\n",
        "  for j in range (0,i):\n",
        "    print(\"*\",end=\"\")\n",
        "  print()  "
      ],
      "metadata": {
        "colab": {
          "base_uri": "https://localhost:8080/"
        },
        "id": "-W3T9ApWHvgc",
        "outputId": "2bad2532-024d-432b-a904-2378d2bc9280"
      },
      "execution_count": null,
      "outputs": [
        {
          "output_type": "stream",
          "name": "stdout",
          "text": [
            "Enter the number of rows: 5\n",
            "******\n",
            "*****\n",
            "****\n",
            "***\n",
            "**\n",
            "*\n"
          ]
        }
      ]
    },
    {
      "cell_type": "code",
      "source": [
        ""
      ],
      "metadata": {
        "id": "mdRMiggtMGvr"
      },
      "execution_count": null,
      "outputs": []
    },
    {
      "cell_type": "markdown",
      "source": [
        "# Transfer statements\n",
        "\n",
        "1) Break Statement\n",
        "\n",
        "2) Continue statement \n",
        "\n",
        "3) Pass statement"
      ],
      "metadata": {
        "id": "CdH5vdNB4OAI"
      }
    },
    {
      "cell_type": "markdown",
      "source": [
        "### **break statement**"
      ],
      "metadata": {
        "id": "1dthCg0h6pEq"
      }
    },
    {
      "cell_type": "code",
      "source": [
        "for i in range (10,25):  #range (10,25)=(10,11,12,13,.....,25)\n",
        "  if i==15:\n",
        "    break          # break the loop if i = 15\n",
        "  print(i)\n",
        "\n",
        "'Thank you'  \n"
      ],
      "metadata": {
        "colab": {
          "base_uri": "https://localhost:8080/",
          "height": 122
        },
        "id": "ihuZlhN_5ENt",
        "outputId": "6cb8f8ce-1f4f-4618-e194-9f4e41df9430"
      },
      "execution_count": 19,
      "outputs": [
        {
          "output_type": "stream",
          "name": "stdout",
          "text": [
            "10\n",
            "11\n",
            "12\n",
            "13\n",
            "14\n"
          ]
        },
        {
          "output_type": "execute_result",
          "data": {
            "text/plain": [
              "'Thank you'"
            ],
            "application/vnd.google.colaboratory.intrinsic+json": {
              "type": "string"
            }
          },
          "metadata": {},
          "execution_count": 19
        }
      ]
    },
    {
      "cell_type": "code",
      "source": [
        "#using break statement on giving input #order on your burger cafe\n",
        "x=eval(input(\"Enter your order list: \"))\n",
        "for i in x:\n",
        "\n",
        "  if i >=70:\n",
        "    break                               #break the loop if i>=70\n",
        "  print(\"your %d burgers will deliver in 30 mins\"%(i))  # %d= int\n",
        "\n",
        "\n",
        "print(\"thank you enjoy your meal\")    "
      ],
      "metadata": {
        "colab": {
          "base_uri": "https://localhost:8080/"
        },
        "id": "mtLTi_AL7RMT",
        "outputId": "97efef49-439d-4263-aea0-a9708ad340dc"
      },
      "execution_count": 61,
      "outputs": [
        {
          "output_type": "stream",
          "name": "stdout",
          "text": [
            "Enter your order list: 15,16,63,96.14\n",
            "your 15 burgers will deliver in 30 mins\n",
            "your 16 burgers will deliver in 30 mins\n",
            "your 63 burgers will deliver in 30 mins\n",
            "thank you enjoy your meal\n"
          ]
        }
      ]
    },
    {
      "cell_type": "markdown",
      "source": [
        "# continue statement"
      ],
      "metadata": {
        "id": "KFRLl2NwJyZD"
      }
    },
    {
      "cell_type": "code",
      "source": [
        "x= eval(input(\"enter your order list:=\"))\n",
        "for i in x:\n",
        "  if i>=70:\n",
        "    continue               #continue = if condition false skip and go to next  \n",
        "  print(\"your %d burgers will be deliver in 30 mins \"%(i))\n"
      ],
      "metadata": {
        "colab": {
          "base_uri": "https://localhost:8080/"
        },
        "id": "EP-Ww_oa935O",
        "outputId": "5b2e5d5c-2e09-403f-80ff-9bc0044a5a0c"
      },
      "execution_count": 69,
      "outputs": [
        {
          "output_type": "stream",
          "name": "stdout",
          "text": [
            "enter your order list:=16,36,96,56,89\n",
            "your 16 burgers will be deliver in 30 mins \n",
            "your 36 burgers will be deliver in 30 mins \n",
            "your 56 burgers will be deliver in 30 mins \n"
          ]
        }
      ]
    },
    {
      "cell_type": "markdown",
      "source": [
        "loops with else block"
      ],
      "metadata": {
        "id": "r5wudqDJfn8q"
      }
    },
    {
      "cell_type": "code",
      "source": [
        "x = [10,15,46,89,63,36,96] #loops with else block\n",
        "for i in x:\n",
        "  if i>=50:\n",
        "    print(\"Enter the number below 50\") #if number is greater than 50 it will print this statement\n",
        "  else:\n",
        "    print(i)  "
      ],
      "metadata": {
        "colab": {
          "base_uri": "https://localhost:8080/"
        },
        "id": "R4xGUIhXcMEj",
        "outputId": "cdab94d8-d16e-4d87-e5a7-0769e44e465f"
      },
      "execution_count": 65,
      "outputs": [
        {
          "output_type": "stream",
          "name": "stdout",
          "text": [
            "10\n",
            "15\n",
            "46\n",
            "Enter the number below 50\n",
            "Enter the number below 50\n",
            "36\n",
            "Enter the number below 50\n"
          ]
        }
      ]
    },
    {
      "cell_type": "code",
      "source": [
        ""
      ],
      "metadata": {
        "id": "5srl6ao1fERE"
      },
      "execution_count": null,
      "outputs": []
    },
    {
      "cell_type": "code",
      "source": [
        "cart = [15,46,825,500,65,585,49,565]\n",
        "for i in cart:\n",
        "  if i>=500:\n",
        "    print(\"we does not have this much items\",i)\n",
        "    continue\n",
        "  else:\n",
        "    print(i)  \n",
        "  \n",
        "    "
      ],
      "metadata": {
        "colab": {
          "base_uri": "https://localhost:8080/"
        },
        "id": "Corgl5nTjrUy",
        "outputId": "20a80eda-350d-4a3e-9b0f-28d24d43cb28"
      },
      "execution_count": 70,
      "outputs": [
        {
          "output_type": "stream",
          "name": "stdout",
          "text": [
            "15\n",
            "46\n",
            "we does not have this much items 825\n",
            "we does not have this much items 500\n",
            "65\n",
            "we does not have this much items 585\n",
            "49\n",
            "we does not have this much items 565\n"
          ]
        }
      ]
    },
    {
      "cell_type": "markdown",
      "source": [
        "# **pass statement**"
      ],
      "metadata": {
        "id": "cYw0UB5kfxE9"
      }
    },
    {
      "cell_type": "markdown",
      "source": [
        "pass is a keyword in python.\n",
        "\n",
        "In our programming syntactically if block is required which won't do anything then we can define that empty block with pass keyword.\n",
        "\n",
        "--> It is an empty statement.\n",
        "\n",
        "-->It is a null statement.\n",
        "\n",
        "--> It will not do anything.\n",
        "\n",
        "Sometimes in the parent class we have to declare a function with empty body and child class responsible to provide proper implementation. Such type of empty body we can define by using pass keyword.\n"
      ],
      "metadata": {
        "id": "WoEt7oOglZ2e"
      }
    },
    {
      "cell_type": "code",
      "source": [
        "for i in range(100,200):\n",
        "  if i%7==0:\n",
        "    print(i)\n",
        "  else:\n",
        "    pass  \n",
        "\n",
        "\n"
      ],
      "metadata": {
        "colab": {
          "base_uri": "https://localhost:8080/"
        },
        "id": "SW0jhkN9h-ka",
        "outputId": "c131582f-d5f4-4639-f2d4-70cc6523b84f"
      },
      "execution_count": 72,
      "outputs": [
        {
          "output_type": "stream",
          "name": "stdout",
          "text": [
            "105\n",
            "112\n",
            "119\n",
            "126\n",
            "133\n",
            "140\n",
            "147\n",
            "154\n",
            "161\n",
            "168\n",
            "175\n",
            "182\n",
            "189\n",
            "196\n"
          ]
        }
      ]
    },
    {
      "cell_type": "code",
      "source": [
        ""
      ],
      "metadata": {
        "id": "d26ejZ3Dm_49"
      },
      "execution_count": null,
      "outputs": []
    }
  ]
}