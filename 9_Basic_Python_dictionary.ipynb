{
  "nbformat": 4,
  "nbformat_minor": 0,
  "metadata": {
    "colab": {
      "name": "9_Basic_Python_dictionary.ipynb",
      "provenance": [],
      "authorship_tag": "ABX9TyM6MbmQcXPLWAyKHARe6cEK",
      "include_colab_link": true
    },
    "kernelspec": {
      "name": "python3",
      "display_name": "Python 3"
    },
    "language_info": {
      "name": "python"
    }
  },
  "cells": [
    {
      "cell_type": "markdown",
      "metadata": {
        "id": "view-in-github",
        "colab_type": "text"
      },
      "source": [
        "<a href=\"https://colab.research.google.com/github/sandeepbansode/Basic_Python/blob/main/9_Basic_Python_dictionary.ipynb\" target=\"_parent\"><img src=\"https://colab.research.google.com/assets/colab-badge.svg\" alt=\"Open In Colab\"/></a>"
      ]
    },
    {
      "cell_type": "markdown",
      "source": [
        "# **Dictionary Data Structure**\n",
        "\n",
        "* We can use List, Tuple and Set to represent a group of individual objects as a single entity\n",
        "\n",
        "*  If we want to represent a group of objects as key-value pairs then we should go for Dictionary.\n",
        "\n",
        " rollno ---- name\n",
        "\n",
        " phone number -- address\n",
        "\n",
        " ipaddress --- domain name\n",
        "\n",
        "* Duplicate keys are not allowed but values can be duplicated.\n",
        "\n",
        "* Hetrogeneous objects are allowed for both key and values.\n",
        "\n",
        "* Insertion order is not preserved.\n",
        "\n",
        "* Dictionaries are mutable.\n",
        "\n",
        "* Dictionaries are dynamic.\n",
        "\n",
        "* Indexing and slicing concepts are not applicable.\n",
        "\n",
        "# **How to create a Dictionary?**"
      ],
      "metadata": {
        "id": "oLH5qFFoYwiJ"
      }
    },
    {
      "cell_type": "code",
      "source": [
        "#creating empty dictionary\n",
        "#syntax : d = {} or d = dict()\n",
        "\n",
        "d = {}\n",
        "\n",
        "d['a'] = 'hello'\n",
        "d['b'] = 'world'\n",
        "d['c'] = '...!!'\n",
        "d"
      ],
      "metadata": {
        "colab": {
          "base_uri": "https://localhost:8080/"
        },
        "id": "kDZdszpfaKBN",
        "outputId": "131ff9d2-2313-4f60-95ab-d5a9a55748e4"
      },
      "execution_count": null,
      "outputs": [
        {
          "output_type": "execute_result",
          "data": {
            "text/plain": [
              "{'a': 'hello', 'b': 'world', 'c': '...!!'}"
            ]
          },
          "metadata": {},
          "execution_count": 4
        }
      ]
    },
    {
      "cell_type": "code",
      "source": [
        "# if we know the value, we can directly creat dict as follow:\n",
        "d = {\"a\":\"hello\",\"b\":\"world\",\"c\":\"...!!\"}\n",
        "d"
      ],
      "metadata": {
        "colab": {
          "base_uri": "https://localhost:8080/"
        },
        "id": "7fOicPHDaqOQ",
        "outputId": "f297c101-481b-4f80-f400-e3edfd2dbcab"
      },
      "execution_count": null,
      "outputs": [
        {
          "output_type": "execute_result",
          "data": {
            "text/plain": [
              "{'a': 'hello', 'b': 'world', 'c': '...!!'}"
            ]
          },
          "metadata": {},
          "execution_count": 7
        }
      ]
    },
    {
      "cell_type": "code",
      "source": [
        "d = {1:\"a\",2:\"b\",3:\"c\"}\n",
        "d"
      ],
      "metadata": {
        "colab": {
          "base_uri": "https://localhost:8080/"
        },
        "id": "dQhokGzlb_nx",
        "outputId": "a58d216f-7207-4847-d238-cc56a1b0a1ee"
      },
      "execution_count": null,
      "outputs": [
        {
          "output_type": "execute_result",
          "data": {
            "text/plain": [
              "{1: 'a', 2: 'b', 3: 'c'}"
            ]
          },
          "metadata": {},
          "execution_count": 8
        }
      ]
    },
    {
      "cell_type": "markdown",
      "source": [
        "## **How to access data from dictionary ?**"
      ],
      "metadata": {
        "id": "Q0zVJZ93cxMv"
      }
    },
    {
      "cell_type": "code",
      "source": [
        "# we can access data by using keys:\n",
        "#syntax : d[key]\n",
        "a = {100:\"balls\",200:\"banana\",300:\"apple\"}\n",
        "\n",
        "a[100]"
      ],
      "metadata": {
        "colab": {
          "base_uri": "https://localhost:8080/",
          "height": 35
        },
        "id": "O8tS_PHcctDa",
        "outputId": "0bec6d87-34bf-4173-9cb5-e40bc087113c"
      },
      "execution_count": null,
      "outputs": [
        {
          "output_type": "execute_result",
          "data": {
            "text/plain": [
              "'balls'"
            ],
            "application/vnd.google.colaboratory.intrinsic+json": {
              "type": "string"
            }
          },
          "metadata": {},
          "execution_count": 11
        }
      ]
    },
    {
      "cell_type": "code",
      "source": [
        "a[300]"
      ],
      "metadata": {
        "colab": {
          "base_uri": "https://localhost:8080/",
          "height": 35
        },
        "id": "hDR7EHH_dJtj",
        "outputId": "9a213871-3951-4a9e-c0e1-abf969e11522"
      },
      "execution_count": null,
      "outputs": [
        {
          "output_type": "execute_result",
          "data": {
            "text/plain": [
              "'apple'"
            ],
            "application/vnd.google.colaboratory.intrinsic+json": {
              "type": "string"
            }
          },
          "metadata": {},
          "execution_count": 12
        }
      ]
    },
    {
      "cell_type": "markdown",
      "source": [
        "# **How to update dictionary ?**\n",
        "\n",
        "syntax : d[key]: new value\n",
        "\n",
        "if key is already available then old value will be replaced with new value.\n",
        "\n",
        "if key is not in dictionary a new entry will be add in to the dictionary."
      ],
      "metadata": {
        "id": "aXX5RPWuflkX"
      }
    },
    {
      "cell_type": "code",
      "source": [
        "d = {100:\"hello\",101:\"hello\",103:\"hello\"}\n",
        "d[100]= \"how\"\n",
        "d[104]=\"here\"\n",
        "d[105]=\"hii\"\n",
        "d"
      ],
      "metadata": {
        "colab": {
          "base_uri": "https://localhost:8080/"
        },
        "id": "jqq_RIuVgVBU",
        "outputId": "4caf07fe-ba19-40a5-d2fb-31b54d70f4d8"
      },
      "execution_count": null,
      "outputs": [
        {
          "output_type": "execute_result",
          "data": {
            "text/plain": [
              "{100: 'how', 101: 'hello', 103: 'hello', 104: 'here', 105: 'hii'}"
            ]
          },
          "metadata": {},
          "execution_count": 13
        }
      ]
    },
    {
      "cell_type": "markdown",
      "source": [
        "# How to update dictionary with another dictionary?\n",
        "\n",
        "Python Dictionary update() method updates the dictionary with the elements from another dictionary object or from an iterable of key/value pairs.\n",
        "\n",
        "* Syntax: dict.update()\n",
        "\n",
        "Parameters: This method takes either a dictionary or an iterable object of key/value pairs (generally tuples) as parameters.\n",
        "\n",
        "Returns: It doesn’t return any value but updates the Dictionary with elements from a dictionary object or an iterable object of key/value pairs."
      ],
      "metadata": {
        "id": "W9q5-eX1d8QU"
      }
    },
    {
      "cell_type": "code",
      "source": [
        "d1 = {100:\"a\",200:\"b\",300:\"c\"}\n",
        "d2 = {400:\"d\",500:\"e\",600:\"f\"}\n",
        "\n",
        "print(d1)\n",
        "print(d2)\n",
        "d1.update(d2)\n",
        "print(d1)"
      ],
      "metadata": {
        "colab": {
          "base_uri": "https://localhost:8080/"
        },
        "id": "siC_ZRnMd2tz",
        "outputId": "0fcc862e-85b4-4bca-ed3a-78cc593c82b7"
      },
      "execution_count": null,
      "outputs": [
        {
          "output_type": "stream",
          "name": "stdout",
          "text": [
            "{100: 'a', 200: 'b', 300: 'c'}\n",
            "{400: 'd', 500: 'e', 600: 'f'}\n",
            "{100: 'a', 200: 'b', 300: 'c', 400: 'd', 500: 'e', 600: 'f'}\n"
          ]
        }
      ]
    },
    {
      "cell_type": "markdown",
      "source": [
        "# **How to delet elements form dictionary?**\n",
        "\n",
        "* syntax : del d [key]\n",
        "\n",
        "* It deletes entry associated with the specified key.\n",
        "\n",
        "* If the key is not available then we will get KeyError."
      ],
      "metadata": {
        "id": "jK6K-QnajeN8"
      }
    },
    {
      "cell_type": "code",
      "source": [
        "d = {100: 'a',200:'b', 300:'c', 400: 'd', 500: 'e', 600: 'f'}\n",
        "\n",
        "del d [200]\n",
        "d"
      ],
      "metadata": {
        "colab": {
          "base_uri": "https://localhost:8080/"
        },
        "id": "BkLEYVHIh7bz",
        "outputId": "92e8c601-19e1-4e81-9bc5-999c8baf811d"
      },
      "execution_count": null,
      "outputs": [
        {
          "output_type": "execute_result",
          "data": {
            "text/plain": [
              "{100: 'a', 300: 'c', 400: 'd', 500: 'e', 600: 'f'}"
            ]
          },
          "metadata": {},
          "execution_count": 28
        }
      ]
    },
    {
      "cell_type": "code",
      "source": [
        "del d [500]\n",
        "d"
      ],
      "metadata": {
        "colab": {
          "base_uri": "https://localhost:8080/"
        },
        "id": "OsHqhHn1kvLl",
        "outputId": "ef74de5c-90d6-4d2c-9109-1b4d60112bf4"
      },
      "execution_count": null,
      "outputs": [
        {
          "output_type": "execute_result",
          "data": {
            "text/plain": [
              "{100: 'a', 300: 'c', 400: 'd', 600: 'f'}"
            ]
          },
          "metadata": {},
          "execution_count": 29
        }
      ]
    },
    {
      "cell_type": "code",
      "source": [
        "del[500]"
      ],
      "metadata": {
        "colab": {
          "base_uri": "https://localhost:8080/",
          "height": 130
        },
        "id": "PtVWAviWk4Hw",
        "outputId": "dcb4c988-503e-4594-849d-790d6cc25c23"
      },
      "execution_count": null,
      "outputs": [
        {
          "output_type": "error",
          "ename": "SyntaxError",
          "evalue": "ignored",
          "traceback": [
            "\u001b[0;36m  File \u001b[0;32m\"<ipython-input-30-df4f2a422609>\"\u001b[0;36m, line \u001b[0;32m1\u001b[0m\n\u001b[0;31m    del[500]\u001b[0m\n\u001b[0m      ^\u001b[0m\n\u001b[0;31mSyntaxError\u001b[0m\u001b[0;31m:\u001b[0m can't delete literal\n"
          ]
        }
      ]
    },
    {
      "cell_type": "code",
      "source": [
        "#clear () : to clear all elements from dict\n",
        "d = {100: 'a',200:'b', 300:'c', 400: 'd', 500: 'e', 600: 'f'}\n",
        "\n",
        "print(d)\n",
        "d.clear()\n",
        "d"
      ],
      "metadata": {
        "colab": {
          "base_uri": "https://localhost:8080/"
        },
        "id": "r2cJnXEAl6HE",
        "outputId": "a8eab5b2-7bf3-44a6-abe2-e15fc451ba39"
      },
      "execution_count": null,
      "outputs": [
        {
          "output_type": "stream",
          "name": "stdout",
          "text": [
            "{100: 'a', 200: 'b', 300: 'c', 400: 'd', 500: 'e', 600: 'f'}\n"
          ]
        },
        {
          "output_type": "execute_result",
          "data": {
            "text/plain": [
              "{}"
            ]
          },
          "metadata": {},
          "execution_count": 33
        }
      ]
    },
    {
      "cell_type": "code",
      "source": [
        "d"
      ],
      "metadata": {
        "colab": {
          "base_uri": "https://localhost:8080/"
        },
        "id": "3HqySBN_nVrL",
        "outputId": "0f773e60-585f-4afd-99c9-17569ac25868"
      },
      "execution_count": null,
      "outputs": [
        {
          "output_type": "execute_result",
          "data": {
            "text/plain": [
              "{}"
            ]
          },
          "metadata": {},
          "execution_count": 34
        }
      ]
    },
    {
      "cell_type": "code",
      "source": [
        "#del() : to delet dict\n",
        "\n",
        "d = {1:\"a\",2:\"b\",3:\"c\"}\n",
        "\n",
        "del d\n"
      ],
      "metadata": {
        "id": "M2v5ENjOmvQX"
      },
      "execution_count": null,
      "outputs": []
    },
    {
      "cell_type": "code",
      "source": [
        "d # we deleted dict so it will throw error"
      ],
      "metadata": {
        "colab": {
          "base_uri": "https://localhost:8080/",
          "height": 165
        },
        "id": "kS9Osn-QnZqp",
        "outputId": "19d1d7c5-3d46-4d8a-9791-13213105e569"
      },
      "execution_count": null,
      "outputs": [
        {
          "output_type": "error",
          "ename": "NameError",
          "evalue": "ignored",
          "traceback": [
            "\u001b[0;31m---------------------------------------------------------------------------\u001b[0m",
            "\u001b[0;31mNameError\u001b[0m                                 Traceback (most recent call last)",
            "\u001b[0;32m<ipython-input-39-e983f374794d>\u001b[0m in \u001b[0;36m<module>\u001b[0;34m()\u001b[0m\n\u001b[0;32m----> 1\u001b[0;31m \u001b[0md\u001b[0m\u001b[0;34m\u001b[0m\u001b[0;34m\u001b[0m\u001b[0m\n\u001b[0m",
            "\u001b[0;31mNameError\u001b[0m: name 'd' is not defined"
          ]
        }
      ]
    },
    {
      "cell_type": "markdown",
      "source": [
        "## Important Functions of Dictionary:"
      ],
      "metadata": {
        "id": "Ek_Pb_PYoDwN"
      }
    },
    {
      "cell_type": "code",
      "source": [
        "#to create dict\n",
        "d = dict()\n",
        "type(d)"
      ],
      "metadata": {
        "colab": {
          "base_uri": "https://localhost:8080/"
        },
        "id": "3Zv8jhn9npSR",
        "outputId": "5f48b507-38af-4835-e6c7-0faebe388f15"
      },
      "execution_count": null,
      "outputs": [
        {
          "output_type": "execute_result",
          "data": {
            "text/plain": [
              "dict"
            ]
          },
          "metadata": {},
          "execution_count": 41
        }
      ]
    },
    {
      "cell_type": "code",
      "source": [
        "# How to add elements inside dict function:\n",
        "\n",
        "d = dict([(1,\"a\"),(2,\"b\"),(3,\"c\")])\n",
        "\n",
        "print(d)\n",
        "type(d)"
      ],
      "metadata": {
        "colab": {
          "base_uri": "https://localhost:8080/"
        },
        "id": "j7IK0mmooYpv",
        "outputId": "fc46cf44-7036-4a62-ab43-5c4b0fb15c1e"
      },
      "execution_count": null,
      "outputs": [
        {
          "output_type": "stream",
          "name": "stdout",
          "text": [
            "{1: 'a', 2: 'b', 3: 'c'}\n"
          ]
        },
        {
          "output_type": "execute_result",
          "data": {
            "text/plain": [
              "dict"
            ]
          },
          "metadata": {},
          "execution_count": 44
        }
      ]
    },
    {
      "cell_type": "code",
      "source": [
        "# len() ; number of items in dict\n",
        "len(d)"
      ],
      "metadata": {
        "colab": {
          "base_uri": "https://localhost:8080/"
        },
        "id": "qjyKQQgKpNtH",
        "outputId": "121437ba-3fc1-46f6-9148-9ea1d83433df"
      },
      "execution_count": null,
      "outputs": [
        {
          "output_type": "execute_result",
          "data": {
            "text/plain": [
              "3"
            ]
          },
          "metadata": {},
          "execution_count": 45
        }
      ]
    },
    {
      "cell_type": "code",
      "source": [
        "# get() : to get the value associated with key\n",
        "\n",
        "''' syntax :d.get(key)\n",
        "if key is available then returns the corresponding value otherwise none. it wont raise any error. '''\n",
        "\n",
        "d = {1:\"a\",2:\"b\",3:\"c\",4:\"d\"}\n",
        "\n",
        "d.get(2)"
      ],
      "metadata": {
        "colab": {
          "base_uri": "https://localhost:8080/",
          "height": 35
        },
        "id": "p-KsNR3qqBDU",
        "outputId": "acd9639e-594e-4fad-b78a-7025b30c329d"
      },
      "execution_count": null,
      "outputs": [
        {
          "output_type": "execute_result",
          "data": {
            "text/plain": [
              "'b'"
            ],
            "application/vnd.google.colaboratory.intrinsic+json": {
              "type": "string"
            }
          },
          "metadata": {},
          "execution_count": 46
        }
      ]
    },
    {
      "cell_type": "code",
      "source": [
        "d.get(4)"
      ],
      "metadata": {
        "colab": {
          "base_uri": "https://localhost:8080/",
          "height": 35
        },
        "id": "BkgvFBTtrM3i",
        "outputId": "0fff6b8c-24de-4159-f452-336439ae6fc2"
      },
      "execution_count": null,
      "outputs": [
        {
          "output_type": "execute_result",
          "data": {
            "text/plain": [
              "'d'"
            ],
            "application/vnd.google.colaboratory.intrinsic+json": {
              "type": "string"
            }
          },
          "metadata": {},
          "execution_count": 47
        }
      ]
    },
    {
      "cell_type": "code",
      "source": [
        "d.get(56)"
      ],
      "metadata": {
        "id": "Zux1DnFsrOzg"
      },
      "execution_count": null,
      "outputs": []
    },
    {
      "cell_type": "markdown",
      "source": [
        "# **Palindrome**\n",
        "\n",
        "a word, phrase, or sequence that reads the same backwards as forwards, e.g. madam or nurses run."
      ],
      "metadata": {
        "id": "olrSZrYF3kqo"
      }
    },
    {
      "cell_type": "code",
      "source": [
        "# write a progam  to reterun word reverse.\n",
        "\n",
        "x = \"madam\"\n",
        "if x==x[::-1]:\n",
        "  print(\"word is palindrome\")\n",
        "else:\n",
        "    print(\"word is not palindrome\")\n"
      ],
      "metadata": {
        "colab": {
          "base_uri": "https://localhost:8080/"
        },
        "id": "So9T38DirRYe",
        "outputId": "f7c72e07-9b72-4cf2-9c07-3876ac97630d"
      },
      "execution_count": null,
      "outputs": [
        {
          "output_type": "stream",
          "name": "stdout",
          "text": [
            "word is palindrome\n"
          ]
        }
      ]
    },
    {
      "cell_type": "code",
      "source": [
        "# if we want wrod as input\n",
        "\n",
        "x = str(input())\n",
        "\n",
        "if x==x[::-1]:\n",
        "  print(\"Entered string is palindrome\")\n",
        "\n",
        "else:\n",
        "  print(\"Entered string is not palindrome\")\n",
        "  \n",
        "    "
      ],
      "metadata": {
        "colab": {
          "base_uri": "https://localhost:8080/"
        },
        "id": "8vKUk1Py5ROc",
        "outputId": "77434b82-7680-4900-91c7-7a1d5ebfafbf"
      },
      "execution_count": null,
      "outputs": [
        {
          "output_type": "stream",
          "name": "stdout",
          "text": [
            "hi hi hi ih ih ih\n",
            "Entered string is palindrome\n"
          ]
        }
      ]
    },
    {
      "cell_type": "markdown",
      "source": [
        "# **PEP 8**\n",
        "\n",
        "## Python Enhancement Proposal.\n",
        "\n",
        "* The PEP is an abbreviation form of Python Enterprise Proposal. Writing code with proper logic is a key factor of programming, but many other important factors can affect the code's quality. The developer's coding style makes the code much reliable, and every developer should keep in mind that Python strictly follows the way of order and format of the string.\n",
        "\n",
        "* Adaptive a nice coding style makes the code more readable. The code becomes easy for end-user.\n",
        "\n",
        "* PEP 8 is a document that provides various guidelines to write the readable in Python. PEP 8 describes how the developer can write beautiful code. It was officially written in 2001 by Guido van Rossum, Barry Warsaw, and Nick Coghlan. The main aim of PEP is to enhance the readability and consistency of code.\n",
        "\n",
        "\n",
        "\n",
        "##  Why PEP 8 is Important?\n",
        "\n",
        "* PEP 8 enhances the readability of the Python\n",
        "code, but why is readability so important? Let's understand this concept.\n",
        "\n",
        "* Creator of Python, Guido van Rossum said, \"Code is much more often than it is written.\" The code can be written in a few minutes, a few hours, or a whole day but once we have written the code, we will never rewrite it again. But sometimes, we need to read the code again and again.\n",
        "\n",
        "* At this point, we must have an idea of why we wrote the particular line in the code. The code should reflect the meaning of each line. That's why readability is so much important."
      ],
      "metadata": {
        "id": "IJ1GXw7E8gv3"
      }
    },
    {
      "cell_type": "markdown",
      "source": [
        " here are the most important points \n",
        "\n",
        " 1. Use 4-space indentation and no tabs.\n",
        "\n",
        " 2. Use docstrings\n",
        "\n",
        " 3. Wrap lines so that they don’t exceed 79 characters \n",
        "\n",
        " 4. Use of regular and updated comments are valuable to both the coders and users\n",
        "\n",
        " 5. Use of trailing commas : This is not mandatory except while making a tuple.\n",
        "\n",
        " 6. Use spaces around operators and after commas, but not directly inside bracketing constructs\n",
        "\n",
        "7. Naming Conventions \n",
        "\n",
        "8. Characters that should not be used for identifiers \n",
        "\n",
        "9. Don’t use non-ASCII characters in identifiers \n",
        "\n",
        "10. Name your classes and functions consistently \n",
        "\n",
        "11. While naming of function of methods always use self for the first argument"
      ],
      "metadata": {
        "id": "TgfXSvic_J_-"
      }
    },
    {
      "cell_type": "code",
      "source": [
        "#Write a program to make a new string with all the consonants deleted from the string \"Hello, have a good day\".\n",
        "\n",
        "s = \"hello , have a good day\"\n",
        "v = (\"a\",\"e\",\"i\",\"o\",\"u\")\n",
        "h =[]\n",
        "for i in s:\n",
        "  for j in v:\n",
        "    if i==j:\n",
        "      print()\n",
        "      if i not in h:\n",
        "        h.append(i)\n",
        "print(h,end='\\t')"
      ],
      "metadata": {
        "id": "6xxLGQQu6Jpg",
        "colab": {
          "base_uri": "https://localhost:8080/"
        },
        "outputId": "dc8681c3-bd85-4dfd-ca08-b6a9a2c152b3"
      },
      "execution_count": 22,
      "outputs": [
        {
          "output_type": "stream",
          "name": "stdout",
          "text": [
            "\n",
            "\n",
            "\n",
            "\n",
            "\n",
            "\n",
            "\n",
            "\n",
            "['e', 'o', 'a']\t"
          ]
        }
      ]
    },
    {
      "cell_type": "code",
      "source": [
        "#Write a Python program to remove the nth index character from a non-empty string.\n",
        "\n",
        "s =input(\"Enter a string: \")                                      #\n",
        "\n",
        "n =int(input(\"Enter the index of a charactor u want to remove :\"))   # index to remove character at\n",
        "\n",
        "m='  '\n",
        "for i in range(0,len(s)):\n",
        "\n",
        "  if n>len(s):\n",
        "\n",
        "    print(\"index must be less than length of string\")\n",
        "    print(\"(Tip:string indexing strart from '0')\")\n",
        "    break\n",
        "  elif i!=v: \n",
        "    m += s[i]\n",
        "print(\"Modified String After Removing\",n,\"th Character\")\n",
        "\n",
        "\n",
        "print(m)\n"
      ],
      "metadata": {
        "colab": {
          "base_uri": "https://localhost:8080/"
        },
        "id": "Rlax_ywIeMLb",
        "outputId": "561fbb5b-7721-4be0-9832-91d9a0a83117"
      },
      "execution_count": 78,
      "outputs": [
        {
          "output_type": "stream",
          "name": "stdout",
          "text": [
            "Enter a string: hello world\n",
            "Enter the index of a charactor u want to remove :2\n",
            "Modified String After Removing 2 th Character\n",
            "  hell world\n"
          ]
        }
      ]
    },
    {
      "cell_type": "code",
      "source": [
        ""
      ],
      "metadata": {
        "id": "zA7jkF9hmSDT"
      },
      "execution_count": null,
      "outputs": []
    }
  ]
}