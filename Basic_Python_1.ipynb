{
  "nbformat": 4,
  "nbformat_minor": 0,
  "metadata": {
    "colab": {
      "name": "Untitled1.ipynb",
      "provenance": [],
      "collapsed_sections": [],
      "authorship_tag": "ABX9TyNV7fKWwdJQDyBu8SAuCeHF",
      "include_colab_link": true
    },
    "kernelspec": {
      "name": "python3",
      "display_name": "Python 3"
    },
    "language_info": {
      "name": "python"
    }
  },
  "cells": [
    {
      "cell_type": "markdown",
      "metadata": {
        "id": "view-in-github",
        "colab_type": "text"
      },
      "source": [
        "<a href=\"https://colab.research.google.com/github/sandeepbansode/Basic_Python/blob/main/Basic_Python_1.ipynb\" target=\"_parent\"><img src=\"https://colab.research.google.com/assets/colab-badge.svg\" alt=\"Open In Colab\"/></a>"
      ]
    },
    {
      "cell_type": "code",
      "source": [
        "#hello welcome to python basics"
      ],
      "metadata": {
        "id": "ioH60Rl8ETaq"
      },
      "execution_count": 10,
      "outputs": []
    },
    {
      "cell_type": "code",
      "source": [
        "#Python basics"
      ],
      "metadata": {
        "id": "lyDgeGYNCHgg"
      },
      "execution_count": 3,
      "outputs": []
    },
    {
      "cell_type": "code",
      "source": [
        "print(\"Hello World\")"
      ],
      "metadata": {
        "colab": {
          "base_uri": "https://localhost:8080/"
        },
        "id": "4ni6fYPECQwA",
        "outputId": "8dfcae63-bb31-4c2d-a315-ee65c62832e4"
      },
      "execution_count": 5,
      "outputs": [
        {
          "output_type": "stream",
          "name": "stdout",
          "text": [
            "Hello World\n"
          ]
        }
      ]
    },
    {
      "cell_type": "code",
      "source": [
        "#comment for singel line"
      ],
      "metadata": {
        "id": "9gJvX6zlCcuk"
      },
      "execution_count": 6,
      "outputs": []
    },
    {
      "cell_type": "code",
      "source": [
        "#comment for multiple line\n",
        "\"\"\"How do you add text in Colab?\n",
        "Select a cell and click the comment button in the toolbar above the top-right corner of the cell.\n",
        " Right click a text cell and select Add a comment from the context menu. \n",
        " Use the shortcut Ctrl+Shift+M to add a comment to the currently selected cell.\"\"\"\n"
      ],
      "metadata": {
        "colab": {
          "base_uri": "https://localhost:8080/",
          "height": 53
        },
        "id": "2gP5cWplC0Wa",
        "outputId": "d83858c8-e92a-450f-ead6-e33e6ef5463f"
      },
      "execution_count": 7,
      "outputs": [
        {
          "output_type": "execute_result",
          "data": {
            "text/plain": [
              "'How do you add text in Colab?\\nSelect a cell and click the comment button in the toolbar above the top-right corner of the cell. Right click a text cell and select Add a comment from the context menu. Use the shortcut Ctrl+Shift+M to add a comment to the currently selected cell.'"
            ],
            "application/vnd.google.colaboratory.intrinsic+json": {
              "type": "string"
            }
          },
          "metadata": {},
          "execution_count": 7
        }
      ]
    },
    {
      "cell_type": "code",
      "source": [
        "#variables in python "
      ],
      "metadata": {
        "id": "4DLxJT0RDQqu"
      },
      "execution_count": 8,
      "outputs": []
    },
    {
      "cell_type": "code",
      "source": [
        "#only print y #automatically only print last value\n",
        "x = 15\n",
        "y=102\n",
        "\n",
        "x\n",
        "y"
      ],
      "metadata": {
        "colab": {
          "base_uri": "https://localhost:8080/"
        },
        "id": "VAH7-kh1Ebj6",
        "outputId": "637d03f7-c467-4d04-f022-b11ab7b9ebcc"
      },
      "execution_count": 14,
      "outputs": [
        {
          "output_type": "execute_result",
          "data": {
            "text/plain": [
              "102"
            ]
          },
          "metadata": {},
          "execution_count": 14
        }
      ]
    },
    {
      "cell_type": "code",
      "source": [
        "#for print all we have to use print command \n",
        "x = 45 \n",
        "b= 48\n",
        "\n",
        "print(x)\n",
        "print(y)"
      ],
      "metadata": {
        "colab": {
          "base_uri": "https://localhost:8080/"
        },
        "id": "RbFkH3EEEtHw",
        "outputId": "a41c74bb-c08c-4d45-e338-54788e6576f3"
      },
      "execution_count": 13,
      "outputs": [
        {
          "output_type": "stream",
          "name": "stdout",
          "text": [
            "45\n"
          ]
        },
        {
          "output_type": "execute_result",
          "data": {
            "text/plain": [
              "102"
            ]
          },
          "metadata": {},
          "execution_count": 13
        }
      ]
    },
    {
      "cell_type": "code",
      "source": [
        "#or last variable can print automatically\n",
        "a= 15\n",
        "b=18\n",
        "c=18\n",
        "print(a)\n",
        "print(b)\n",
        "c"
      ],
      "metadata": {
        "colab": {
          "base_uri": "https://localhost:8080/"
        },
        "id": "gir2FG89FCz5",
        "outputId": "f31eb9bc-9ac1-48c3-c592-37d90d245700"
      },
      "execution_count": 15,
      "outputs": [
        {
          "output_type": "stream",
          "name": "stdout",
          "text": [
            "15\n",
            "18\n"
          ]
        },
        {
          "output_type": "execute_result",
          "data": {
            "text/plain": [
              "18"
            ]
          },
          "metadata": {},
          "execution_count": 15
        }
      ]
    },
    {
      "cell_type": "code",
      "source": [
        "#variable names\n",
        "#legal\n",
        "myname = \"sandeep\"\n",
        "N_ame = \"sandeep\"\n",
        "_n_ame = \"sandeep\"\n",
        "NamE = \"Sandeep\"\n",
        "name1 = \"sandeep\"\n"
      ],
      "metadata": {
        "id": "U12hW1QlOyf6"
      },
      "execution_count": 18,
      "outputs": []
    },
    {
      "cell_type": "code",
      "source": [
        "print(myname)\n",
        "print(N_ame)\n",
        "print(_n_ame)\n",
        "print(NamE)\n",
        "print(name1)"
      ],
      "metadata": {
        "colab": {
          "base_uri": "https://localhost:8080/"
        },
        "id": "42MTG33_PoYK",
        "outputId": "a5a95bd5-e52a-4012-f03a-cd3878a51350"
      },
      "execution_count": 20,
      "outputs": [
        {
          "output_type": "stream",
          "name": "stdout",
          "text": [
            "sandeep\n",
            "sandeep\n",
            "sandeep\n",
            "Sandeep\n",
            "sandeep\n"
          ]
        }
      ]
    },
    {
      "cell_type": "code",
      "source": [
        "#illegal variable name "
      ],
      "metadata": {
        "id": "3p2kKghcQEH1"
      },
      "execution_count": 21,
      "outputs": []
    },
    {
      "cell_type": "code",
      "source": [
        "\n"
      ],
      "metadata": {
        "id": "LdVkzIREQySl"
      },
      "execution_count": 21,
      "outputs": []
    },
    {
      "cell_type": "markdown",
      "source": [
        "# illegal variable\n",
        "my name = sandeep \n",
        "\n",
        "\n",
        "-nmae = sandeep\n",
        "\n",
        "\n",
        "my-name = sandeep"
      ],
      "metadata": {
        "id": "rOQPJMPxRXUh"
      }
    },
    {
      "cell_type": "code",
      "source": [
        "#locatin of variable\n",
        "x=5 \n",
        "y= 10\n",
        "print(id(x))\n",
        "print(id(y))"
      ],
      "metadata": {
        "colab": {
          "base_uri": "https://localhost:8080/"
        },
        "id": "eCyIRu8cRxlQ",
        "outputId": "b839a097-503f-46d6-e3e9-c5a0c17926b7"
      },
      "execution_count": 24,
      "outputs": [
        {
          "output_type": "stream",
          "name": "stdout",
          "text": [
            "93853402446464\n",
            "93853402446624\n"
          ]
        }
      ]
    },
    {
      "cell_type": "code",
      "source": [
        "x= 10 \n",
        "y=10\n",
        "\n",
        "print (id(x))\n",
        "print(id(y)) \n",
        "#same values stored in same locatin in python "
      ],
      "metadata": {
        "colab": {
          "base_uri": "https://localhost:8080/"
        },
        "id": "osYYoHJbSLFX",
        "outputId": "10beb5c0-93fe-405a-d769-f8c0d7ab97cc"
      },
      "execution_count": 25,
      "outputs": [
        {
          "output_type": "stream",
          "name": "stdout",
          "text": [
            "93853402446624\n",
            "93853402446624\n"
          ]
        }
      ]
    },
    {
      "cell_type": "code",
      "source": [
        "x= 15\n",
        "y = 160\n",
        "print(id(x))\n",
        "print(id(y)) # values of x and y are differtent so will be stored in differtent locatin\n",
        "\n",
        "x=y \n",
        "\n",
        "print(x)\n",
        "print(y)"
      ],
      "metadata": {
        "colab": {
          "base_uri": "https://localhost:8080/"
        },
        "id": "HdME2W7kSu9-",
        "outputId": "6a147241-e0c0-4de4-d0e8-43f7993f8a20"
      },
      "execution_count": 30,
      "outputs": [
        {
          "output_type": "stream",
          "name": "stdout",
          "text": [
            "93853402446784\n",
            "93853402451424\n",
            "160\n",
            "160\n"
          ]
        }
      ]
    },
    {
      "cell_type": "code",
      "source": [
        "print(id(x)) #id will be same #variable reflect the values last assigned\n",
        "print(id(y))"
      ],
      "metadata": {
        "colab": {
          "base_uri": "https://localhost:8080/"
        },
        "id": "pyHHVz03TBAx",
        "outputId": "28eb5953-09b9-4d1d-af67-f0d34841df5c"
      },
      "execution_count": 29,
      "outputs": [
        {
          "output_type": "stream",
          "name": "stdout",
          "text": [
            "93853402451424\n",
            "93853402451424\n"
          ]
        }
      ]
    },
    {
      "cell_type": "code",
      "source": [
        "#tyes of variables\n",
        "#to check type of variable use print(type())"
      ],
      "metadata": {
        "id": "ynGqLD5tTU57"
      },
      "execution_count": 32,
      "outputs": []
    },
    {
      "cell_type": "code",
      "source": [
        "#types in python int, complex, float,str,tupel,set,list"
      ],
      "metadata": {
        "id": "ymshv3WSX-Da"
      },
      "execution_count": 45,
      "outputs": []
    },
    {
      "cell_type": "code",
      "source": [
        "x=12\n",
        "y= 15.00\n",
        "z= 15.25\n",
        "a= \"hey\"\n",
        "b= 5+9j\n",
        "c= \"true\"\n",
        "\n",
        "print(type(x))\n",
        "print(type(y))\n",
        "print(type(z))\n",
        "print(type(a))\n",
        "print(type(b))\n",
        "print(type(c))"
      ],
      "metadata": {
        "colab": {
          "base_uri": "https://localhost:8080/"
        },
        "id": "H_jeh-e-VCtE",
        "outputId": "5be9d0c2-38eb-4856-9022-8f0a23088f45"
      },
      "execution_count": 43,
      "outputs": [
        {
          "output_type": "stream",
          "name": "stdout",
          "text": [
            "<class 'int'>\n",
            "<class 'float'>\n",
            "<class 'float'>\n",
            "<class 'str'>\n",
            "<class 'complex'>\n",
            "<class 'str'>\n"
          ]
        }
      ]
    },
    {
      "cell_type": "code",
      "source": [
        "a = 15\n",
        "b= 15\n",
        "c=a>b \n",
        "print(c)\n",
        "print(type(c))"
      ],
      "metadata": {
        "colab": {
          "base_uri": "https://localhost:8080/"
        },
        "id": "xz9PIsC4gT5b",
        "outputId": "7daf1e64-1712-48a3-d34b-985004e25985"
      },
      "execution_count": 63,
      "outputs": [
        {
          "output_type": "stream",
          "name": "stdout",
          "text": [
            "False\n",
            "<class 'bool'>\n"
          ]
        }
      ]
    },
    {
      "cell_type": "code",
      "source": [
        "a=120\n",
        "b=105\n",
        "c=a>b\n",
        "print(c)\n",
        "print(type(c))"
      ],
      "metadata": {
        "colab": {
          "base_uri": "https://localhost:8080/"
        },
        "id": "3y7iJhcIg_Oj",
        "outputId": "3eda000b-7748-4615-c0d2-1653d861ea80"
      },
      "execution_count": 64,
      "outputs": [
        {
          "output_type": "stream",
          "name": "stdout",
          "text": [
            "True\n",
            "<class 'bool'>\n"
          ]
        }
      ]
    },
    {
      "cell_type": "code",
      "source": [
        "#tupe list set\n",
        "x= (10,12,15,46)\n",
        "y= [14,12,15,160]\n",
        "z ={14,12,55,12,522}\n",
        "\n",
        "a= (\"hi\",\"hello\",\"hru\")\n",
        "b = ['hi',\"hello\",\"hru\"]\n",
        "c = {\"hi\",\"hello\",\"hru\"}\n",
        "print(type(x))\n",
        "print(type(y))\n",
        "print(type(z))\n",
        "\n",
        "print(type(a))\n",
        "print(type(b))\n",
        "print(type(c))"
      ],
      "metadata": {
        "colab": {
          "base_uri": "https://localhost:8080/"
        },
        "id": "pmR00JUWWHao",
        "outputId": "91949d8f-5ceb-43f8-9f51-c8fc601cb7a2"
      },
      "execution_count": 65,
      "outputs": [
        {
          "output_type": "stream",
          "name": "stdout",
          "text": [
            "<class 'tuple'>\n",
            "<class 'list'>\n",
            "<class 'set'>\n",
            "<class 'tuple'>\n",
            "<class 'list'>\n",
            "<class 'set'>\n"
          ]
        }
      ]
    },
    {
      "cell_type": "code",
      "source": [
        "#we can change the data type\n",
        "\n",
        "x= 5 \n",
        "\n",
        "print(x)\n",
        "print(type(x))"
      ],
      "metadata": {
        "colab": {
          "base_uri": "https://localhost:8080/"
        },
        "id": "fRA8lmAsaH_B",
        "outputId": "b2433e02-ec99-439f-df11-3b9a5ba2162e"
      },
      "execution_count": 48,
      "outputs": [
        {
          "output_type": "stream",
          "name": "stdout",
          "text": [
            "5\n",
            "<class 'int'>\n"
          ]
        }
      ]
    },
    {
      "cell_type": "code",
      "source": [
        "print(float(x)) # float"
      ],
      "metadata": {
        "colab": {
          "base_uri": "https://localhost:8080/"
        },
        "id": "tl7df0Khag7N",
        "outputId": "4a2d4de1-58c4-4d88-d92d-ae1a466f24ff"
      },
      "execution_count": 52,
      "outputs": [
        {
          "output_type": "stream",
          "name": "stdout",
          "text": [
            "5.0\n"
          ]
        }
      ]
    },
    {
      "cell_type": "code",
      "source": [
        "x= 10.55\n",
        "print(x) #float\n",
        "print(type(x))\n",
        "print(complex(x)) #complex"
      ],
      "metadata": {
        "colab": {
          "base_uri": "https://localhost:8080/"
        },
        "id": "zsTsmKiVald-",
        "outputId": "2fc123d1-8e7a-49ff-dcd3-b9bf0740a3b7"
      },
      "execution_count": 53,
      "outputs": [
        {
          "output_type": "stream",
          "name": "stdout",
          "text": [
            "10.55\n",
            "<class 'float'>\n",
            "(10.55+0j)\n"
          ]
        }
      ]
    },
    {
      "cell_type": "code",
      "source": [
        "#addition in variables\n",
        "\n",
        "x= 10 #int\n",
        "y= 15\n",
        "z= x+y\n",
        "print(z)"
      ],
      "metadata": {
        "colab": {
          "base_uri": "https://localhost:8080/"
        },
        "id": "1RaXagOka-Vl",
        "outputId": "d10b50a8-3404-4224-8e28-8a5087562d24"
      },
      "execution_count": 54,
      "outputs": [
        {
          "output_type": "stream",
          "name": "stdout",
          "text": [
            "25\n"
          ]
        }
      ]
    },
    {
      "cell_type": "code",
      "source": [
        "x=10.00 #float\n",
        "y= 15\n",
        "z=x+y\n",
        "print(z)"
      ],
      "metadata": {
        "colab": {
          "base_uri": "https://localhost:8080/"
        },
        "id": "0DwroNcOfPBp",
        "outputId": "96eb74b9-4fb6-4887-aa6c-993936f0ed31"
      },
      "execution_count": 55,
      "outputs": [
        {
          "output_type": "stream",
          "name": "stdout",
          "text": [
            "25.0\n"
          ]
        }
      ]
    },
    {
      "cell_type": "code",
      "source": [
        "x=5+6j #complex\n",
        "y=9+8j\n",
        "print(x+y)"
      ],
      "metadata": {
        "colab": {
          "base_uri": "https://localhost:8080/"
        },
        "id": "iHd94QZmfcjN",
        "outputId": "97dc2066-3e75-4573-8bb5-fdfcda7959f4"
      },
      "execution_count": 56,
      "outputs": [
        {
          "output_type": "stream",
          "name": "stdout",
          "text": [
            "(14+14j)\n"
          ]
        }
      ]
    },
    {
      "cell_type": "code",
      "source": [
        "#division\n",
        "x= 500\n",
        "y= 65\n",
        "z= x/y\n",
        "print(z)\n",
        "print(type(z))\n",
        "print(int(z))"
      ],
      "metadata": {
        "colab": {
          "base_uri": "https://localhost:8080/"
        },
        "id": "HXHGH4nW1Ux4",
        "outputId": "94c41561-407b-4fec-c00f-fc98364ac8ad"
      },
      "execution_count": 105,
      "outputs": [
        {
          "output_type": "stream",
          "name": "stdout",
          "text": [
            "7.6923076923076925\n",
            "<class 'float'>\n",
            "7\n"
          ]
        }
      ]
    },
    {
      "cell_type": "code",
      "source": [
        "x=505.00\n",
        "y=5\n",
        "print(x/y)"
      ],
      "metadata": {
        "colab": {
          "base_uri": "https://localhost:8080/"
        },
        "id": "yPMYpyJ91rAe",
        "outputId": "bf3d1b45-a28b-4271-dffa-51d6f5d31a51"
      },
      "execution_count": 106,
      "outputs": [
        {
          "output_type": "stream",
          "name": "stdout",
          "text": [
            "101.0\n"
          ]
        }
      ]
    },
    {
      "cell_type": "code",
      "source": [
        "#multiplicatin of int\n",
        "\n",
        "x= 10\n",
        "y= 25\n",
        "c= x*y\n",
        "print(c)\n",
        "print(type(c))"
      ],
      "metadata": {
        "colab": {
          "base_uri": "https://localhost:8080/"
        },
        "id": "lpkrLVRBfqXC",
        "outputId": "3cf6ecda-903d-4dd2-a4e4-d06f411b6e52"
      },
      "execution_count": 66,
      "outputs": [
        {
          "output_type": "stream",
          "name": "stdout",
          "text": [
            "250\n",
            "<class 'int'>\n"
          ]
        }
      ]
    },
    {
      "cell_type": "code",
      "source": [
        "#multiplication of float\n",
        "\n",
        "x= 12.00\n",
        "y= 25.25\n",
        "\n",
        "z = x*y\n",
        "print(z)"
      ],
      "metadata": {
        "colab": {
          "base_uri": "https://localhost:8080/"
        },
        "id": "5rxu9-9jhjai",
        "outputId": "e51e46b6-77ac-4a2f-fbe4-ed9b11e7f777"
      },
      "execution_count": 67,
      "outputs": [
        {
          "output_type": "stream",
          "name": "stdout",
          "text": [
            "303.0\n"
          ]
        }
      ]
    },
    {
      "cell_type": "code",
      "source": [
        "x= 12 #if one is float ,output will be float\n",
        "y= 14.26\n",
        "z = x*y\n",
        "print(z)"
      ],
      "metadata": {
        "colab": {
          "base_uri": "https://localhost:8080/"
        },
        "id": "0clxAslmiFB8",
        "outputId": "73a61a3d-8a06-4c40-abb8-3166e929a3b5"
      },
      "execution_count": 68,
      "outputs": [
        {
          "output_type": "stream",
          "name": "stdout",
          "text": [
            "171.12\n"
          ]
        }
      ]
    },
    {
      "cell_type": "code",
      "source": [
        "#multiplication of comlex\n",
        "\n",
        "x= 11+2j\n",
        "y= 6+9j\n",
        "z= x*y\n",
        "print(z)"
      ],
      "metadata": {
        "colab": {
          "base_uri": "https://localhost:8080/"
        },
        "id": "eGMpHbIQidON",
        "outputId": "349ed332-817c-4acc-942b-d05d3ae5af74"
      },
      "execution_count": 71,
      "outputs": [
        {
          "output_type": "stream",
          "name": "stdout",
          "text": [
            "(48+111j)\n"
          ]
        }
      ]
    },
    {
      "cell_type": "code",
      "source": [
        "x= 5+6j\n",
        "y = 10\n",
        "z= x*y\n",
        "print(z)\n",
        "print(type(x))\n",
        "print(type(y))\n",
        "print(type(z))"
      ],
      "metadata": {
        "colab": {
          "base_uri": "https://localhost:8080/"
        },
        "id": "8KzLVd3JjTKm",
        "outputId": "766efcd8-3830-48d3-d87a-20c88013a9ce"
      },
      "execution_count": 73,
      "outputs": [
        {
          "output_type": "stream",
          "name": "stdout",
          "text": [
            "(50+60j)\n",
            "<class 'complex'>\n",
            "<class 'int'>\n",
            "<class 'complex'>\n"
          ]
        }
      ]
    },
    {
      "cell_type": "code",
      "source": [
        "#slicing : positive slice begins from 0 and from left side\n",
        "\n",
        "x = \"hello world ! , python is easy languge\"\n",
        "\n",
        "print(x)\n",
        "print(x[2])"
      ],
      "metadata": {
        "colab": {
          "base_uri": "https://localhost:8080/"
        },
        "id": "5ZUhg7-fjkmB",
        "outputId": "73210120-d94e-4d5b-ce1c-815be3f96740"
      },
      "execution_count": 78,
      "outputs": [
        {
          "output_type": "stream",
          "name": "stdout",
          "text": [
            "hello world ! , python is easy languge\n",
            "l\n"
          ]
        }
      ]
    },
    {
      "cell_type": "code",
      "source": [
        "print(x[0])"
      ],
      "metadata": {
        "colab": {
          "base_uri": "https://localhost:8080/"
        },
        "id": "0GrsG0AjkwZa",
        "outputId": "576ae380-ab54-4984-d687-f63a1f957a82"
      },
      "execution_count": 79,
      "outputs": [
        {
          "output_type": "stream",
          "name": "stdout",
          "text": [
            "h\n"
          ]
        }
      ]
    },
    {
      "cell_type": "code",
      "source": [
        "print(x[12])\n",
        "print(x[16])\n",
        "print(x[11]) # 11 is space "
      ],
      "metadata": {
        "colab": {
          "base_uri": "https://localhost:8080/"
        },
        "id": "S9562Em1k1Ot",
        "outputId": "94c54109-1619-46eb-c3cb-f35e2b2aeeb2"
      },
      "execution_count": 81,
      "outputs": [
        {
          "output_type": "stream",
          "name": "stdout",
          "text": [
            "!\n",
            "p\n",
            " \n"
          ]
        }
      ]
    },
    {
      "cell_type": "code",
      "source": [
        "#slicing : negative slice starts from -1 and from right side\n",
        "\n",
        "x= \"I am Iron Man.\"\n",
        "print(x[0])\n",
        "print(x[-0]) # print the same value ; print([0])\n",
        "\n",
        "print(x[-1])\n",
        "\n",
        "print(x[-11])\n",
        "print(x[-3])"
      ],
      "metadata": {
        "colab": {
          "base_uri": "https://localhost:8080/"
        },
        "id": "EU3lkPFkk-oB",
        "outputId": "0302e379-6cad-4f0f-a8ab-cb11cafc9b55"
      },
      "execution_count": 92,
      "outputs": [
        {
          "output_type": "stream",
          "name": "stdout",
          "text": [
            "I\n",
            "I\n",
            ".\n",
            "m\n",
            "a\n"
          ]
        }
      ]
    },
    {
      "cell_type": "code",
      "source": [
        "#slice in range (:)\n",
        "\n",
        "x = \"The Truth is… I am Iron Man.\"\n",
        "\n",
        "print(x[:])\n"
      ],
      "metadata": {
        "colab": {
          "base_uri": "https://localhost:8080/"
        },
        "id": "If0-iVjfmlak",
        "outputId": "42db65ca-fd59-41ee-b6c3-a66a07e672de"
      },
      "execution_count": 95,
      "outputs": [
        {
          "output_type": "stream",
          "name": "stdout",
          "text": [
            "The Truth is… I am Iron Man.\n"
          ]
        }
      ]
    },
    {
      "cell_type": "code",
      "source": [
        "print(x[0:])\n"
      ],
      "metadata": {
        "colab": {
          "base_uri": "https://localhost:8080/"
        },
        "id": "oWLqfxNbpgj0",
        "outputId": "1d58d815-1b13-4003-f4d8-a37ddcce6353"
      },
      "execution_count": 96,
      "outputs": [
        {
          "output_type": "stream",
          "name": "stdout",
          "text": [
            "The Truth is… I am Iron Man.\n"
          ]
        }
      ]
    },
    {
      "cell_type": "code",
      "source": [
        "print(x[:-1])"
      ],
      "metadata": {
        "colab": {
          "base_uri": "https://localhost:8080/"
        },
        "id": "DdBpLqRhpvBx",
        "outputId": "e34312f7-82fd-4b86-a4ec-d7548279330c"
      },
      "execution_count": 97,
      "outputs": [
        {
          "output_type": "stream",
          "name": "stdout",
          "text": [
            "The Truth is… I am Iron Man\n"
          ]
        }
      ]
    },
    {
      "cell_type": "code",
      "source": [
        "print(x[1:7])"
      ],
      "metadata": {
        "colab": {
          "base_uri": "https://localhost:8080/"
        },
        "id": "8U8OApK5p1ch",
        "outputId": "37d32480-204f-436e-ded2-10733a4b77e8"
      },
      "execution_count": 98,
      "outputs": [
        {
          "output_type": "stream",
          "name": "stdout",
          "text": [
            "he Tru\n"
          ]
        }
      ]
    },
    {
      "cell_type": "code",
      "source": [
        "print(x[-22:10])"
      ],
      "metadata": {
        "colab": {
          "base_uri": "https://localhost:8080/"
        },
        "id": "MDmWbhQvp6SQ",
        "outputId": "0eae650b-4e7c-4f79-84b3-878ec8e463f5"
      },
      "execution_count": 100,
      "outputs": [
        {
          "output_type": "stream",
          "name": "stdout",
          "text": [
            "uth \n"
          ]
        }
      ]
    },
    {
      "cell_type": "code",
      "source": [
        "print(x[-2:3])"
      ],
      "metadata": {
        "colab": {
          "base_uri": "https://localhost:8080/"
        },
        "id": "O3SA_VmZp_C_",
        "outputId": "0225d78a-a1b4-46fa-868e-9356d1bb766f"
      },
      "execution_count": 101,
      "outputs": [
        {
          "output_type": "stream",
          "name": "stdout",
          "text": [
            "\n"
          ]
        }
      ]
    },
    {
      "cell_type": "code",
      "source": [
        "print(x[4:])\n",
        "print(x[:4])\n"
      ],
      "metadata": {
        "colab": {
          "base_uri": "https://localhost:8080/"
        },
        "id": "6ScGpkmFqIpb",
        "outputId": "f185e6b8-1315-427b-ff54-976e97d38fb0"
      },
      "execution_count": 103,
      "outputs": [
        {
          "output_type": "stream",
          "name": "stdout",
          "text": [
            "Truth is… I am Iron Man.\n",
            "The \n"
          ]
        }
      ]
    },
    {
      "cell_type": "code",
      "source": [
        "print(len(x)) #len:"
      ],
      "metadata": {
        "colab": {
          "base_uri": "https://localhost:8080/"
        },
        "id": "DiUPqXTjqRnc",
        "outputId": "f288d5d0-f2ff-4683-e5fe-0f822ebe2bb6"
      },
      "execution_count": 104,
      "outputs": [
        {
          "output_type": "stream",
          "name": "stdout",
          "text": [
            "28\n"
          ]
        }
      ]
    },
    {
      "cell_type": "code",
      "source": [
        ""
      ],
      "metadata": {
        "id": "pUycSPgz0S8M"
      },
      "execution_count": null,
      "outputs": []
    }
  ]
}